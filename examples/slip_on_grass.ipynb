{
 "cells": [
  {
   "cell_type": "markdown",
   "metadata": {},
   "source": [
    "# Slip on Grass Example\n",
    "This notebook contains a toy example model for reasoning about the probability of slipping and getting injured on grass.\n",
    "We first create the prior and conditional factors and then use these factors to construct a cluster graph. We then use this graph to perform\n",
    "inference."
   ]
  },
  {
   "cell_type": "code",
   "execution_count": 1,
   "metadata": {},
   "outputs": [],
   "source": [
    "import sys\n",
    "sys.path.append('../')"
   ]
  },
  {
   "cell_type": "code",
   "execution_count": 2,
   "metadata": {},
   "outputs": [],
   "source": [
    "from veroku.factors.categorical import Categorical, CategoricalTemplate\n",
    "from veroku.cluster_graph import ClusterGraph\n",
    "import numpy as np"
   ]
  },
  {
   "cell_type": "code",
   "execution_count": 3,
   "metadata": {},
   "outputs": [],
   "source": [
    "all_factors = []"
   ]
  },
  {
   "cell_type": "markdown",
   "metadata": {},
   "source": [
    "### 1. Factor Specification\n",
    "In this section we specify the prior and conditional distributions that will define our graph (and joint distribution)."
   ]
  },
  {
   "cell_type": "markdown",
   "metadata": {},
   "source": [
    "#### 1.1 Priors"
   ]
  },
  {
   "cell_type": "code",
   "execution_count": 4,
   "metadata": {},
   "outputs": [
    {
     "data": {
      "text/plain": [
       "rain\tprob\n",
       "0\t0.8000\n",
       "1\t0.2000"
      ]
     },
     "execution_count": 4,
     "metadata": {},
     "output_type": "execute_result"
    }
   ],
   "source": [
    "from veroku.factors.sparse_categorical import SparseCategorical\n",
    "var_names = ['rain']\n",
    "probs_table = {(0,):0.8, # no rain\n",
    "               (1,):0.2} #    rain\n",
    "var_cardinalities = [2]\n",
    "\n",
    "SparseCategorical(probs_table=probs_table,\n",
    "                  var_names=var_names,\n",
    "                  cardinalities=var_cardinalities)"
   ]
  },
  {
   "cell_type": "code",
   "execution_count": 5,
   "metadata": {},
   "outputs": [
    {
     "name": "stdout",
     "output_type": "stream",
     "text": [
      "rain\tprob\n",
      "0\t0.8000\n",
      "1\t0.2000\n",
      "\n"
     ]
    }
   ],
   "source": [
    "var_names = ['rain']\n",
    "probs_table = {(0,):0.8, # no rain\n",
    "               (1,):0.2} #    rain\n",
    "var_cardinalities = [2]\n",
    "\n",
    "rain_proir_pd = Categorical(probs_table=probs_table,\n",
    "                            var_names=var_names,\n",
    "                            cardinalities=var_cardinalities)\n",
    "all_factors.append(rain_proir_pd)\n",
    "rain_proir_pd.show()"
   ]
  },
  {
   "cell_type": "code",
   "execution_count": 6,
   "metadata": {},
   "outputs": [
    {
     "name": "stdout",
     "output_type": "stream",
     "text": [
      "sprinklers\tprob\n",
      "0\t\t0.2000\n",
      "1\t\t0.8000\n",
      "\n"
     ]
    }
   ],
   "source": [
    "var_names = ['sprinklers']\n",
    "probs_table = {(0,):0.2, # no rain\n",
    "               (1,):0.8} #    rain\n",
    "var_cardinalities = [2]\n",
    "\n",
    "sprinkers_proir_pd = Categorical(probs_table=probs_table,\n",
    "                                 var_names=var_names,\n",
    "                                 cardinalities=var_cardinalities)\n",
    "all_factors.append(sprinkers_proir_pd)\n",
    "sprinkers_proir_pd.show()"
   ]
  },
  {
   "cell_type": "code",
   "execution_count": 7,
   "metadata": {},
   "outputs": [
    {
     "name": "stdout",
     "output_type": "stream",
     "text": [
      "sprinklers\train\tprob\n",
      "0\t\t0\t0.1600\n",
      "0\t\t1\t0.0400\n",
      "1\t\t0\t0.6400\n",
      "1\t\t1\t0.1600\n",
      "\n"
     ]
    }
   ],
   "source": [
    "rain_proir_pd.absorb(sprinkers_proir_pd).show()"
   ]
  },
  {
   "cell_type": "markdown",
   "metadata": {},
   "source": [
    "#### 1.2 Conditional Probability Distributions"
   ]
  },
  {
   "cell_type": "code",
   "execution_count": 8,
   "metadata": {},
   "outputs": [
    {
     "name": "stdout",
     "output_type": "stream",
     "text": [
      "rain\tsprinklers\twet_grass\tprob\n",
      "0\t0\t\t0\t\t0.9000\n",
      "0\t0\t\t1\t\t0.1000\n",
      "0\t1\t\t0\t\t0.0500\n",
      "0\t1\t\t1\t\t0.9500\n",
      "1\t0\t\t0\t\t0.2000\n",
      "1\t0\t\t1\t\t0.8000\n",
      "1\t1\t\t0\t\t0.0000\n",
      "1\t1\t\t1\t\t1.0000\n",
      "\n"
     ]
    }
   ],
   "source": [
    "var_names = ['rain', 'sprinklers', 'wet_grass']\n",
    "probs_table = {(0,0,0):0.90, # grass dry given no rain and sprinklers off\n",
    "               (0,0,1):0.10, # grass wet given \"\n",
    "               (0,1,0):0.05, # grass dry given no rain and sprinklers on\n",
    "               (0,1,1):0.95, # grass wet given \"\n",
    "               (1,0,0):0.20, # grass dry given    rain and sprinklers off\n",
    "               (1,0,1):0.80, # grass wet given \"\n",
    "               (1,1,0):0.00, # grass dry given    rain and sprinklers on\n",
    "               (1,1,1):1.00} # grass wet given \"\n",
    "var_cardinalities = [2,2,2]\n",
    "\n",
    "wet_grass_given_rain_and_sprinklers_cpd = Categorical(probs_table=probs_table,\n",
    "                                                      var_names=var_names,\n",
    "                                                      cardinalities=var_cardinalities)\n",
    "all_factors.append(wet_grass_given_rain_and_sprinklers_cpd)\n",
    "wet_grass_given_rain_and_sprinklers_cpd.show()"
   ]
  },
  {
   "cell_type": "code",
   "execution_count": 9,
   "metadata": {},
   "outputs": [
    {
     "name": "stdout",
     "output_type": "stream",
     "text": [
      "wet_grass\tslip\tprob\n",
      "0\t\t0\t0.2000\n",
      "0\t\t1\t0.8000\n",
      "1\t\t0\t0.6000\n",
      "1\t\t1\t0.4000\n",
      "\n"
     ]
    }
   ],
   "source": [
    "var_names = ['wet_grass','slip']\n",
    "probs_table = {(0,0):0.2, #no slip given no wet_grass\n",
    "               (0,1):0.8, #   slip given no wet_grass\n",
    "               (1,0):0.6, #no slip given    wet_grass\n",
    "               (1,1):0.4} #   slip given    wet_grass\n",
    "var_cardinalities = [2,2]\n",
    "\n",
    "slip_given_rain_cpd = Categorical(probs_table=probs_table,\n",
    "                                  var_names=var_names,\n",
    "                                  cardinalities=var_cardinalities)\n",
    "all_factors.append(slip_given_rain_cpd)\n",
    "slip_given_rain_cpd.show()"
   ]
  },
  {
   "cell_type": "code",
   "execution_count": 10,
   "metadata": {},
   "outputs": [
    {
     "name": "stdout",
     "output_type": "stream",
     "text": [
      "slip\tinjury\tprob\n",
      "0\t0\t0.9000\n",
      "0\t1\t0.1000\n",
      "1\t0\t0.2000\n",
      "1\t1\t0.8000\n",
      "\n"
     ]
    }
   ],
   "source": [
    "var_names = ['slip','injury']\n",
    "probs_table = {(0,0):0.9, #no injury given no slip\n",
    "               (0,1):0.1, #   injury given no slip\n",
    "               (1,0):0.2, #no injury given    slip\n",
    "               (1,1):0.8} #   injury given    slip\n",
    "var_cardinalities = [2,2]\n",
    "\n",
    "injury_given_slip_cpd = Categorical(probs_table=probs_table,\n",
    "                                    var_names=var_names,\n",
    "                                    cardinalities=var_cardinalities)\n",
    "all_factors.append(injury_given_slip_cpd)\n",
    "injury_given_slip_cpd.show()"
   ]
  },
  {
   "cell_type": "markdown",
   "metadata": {},
   "source": [
    "### 2. Cluster Graph Inference\n",
    "In this section we use the distributions specified in the previous section to build a cluster graph and run message passing inference in this graph to get the posterior marginal distribution over the event of slipping on the grass."
   ]
  },
  {
   "cell_type": "code",
   "execution_count": 11,
   "metadata": {},
   "outputs": [],
   "source": [
    "observed_evidence = {'rain':1}\n",
    "marginal_vrs = ['slip']"
   ]
  },
  {
   "cell_type": "code",
   "execution_count": 12,
   "metadata": {
    "pycharm": {
     "is_executing": true
    }
   },
   "outputs": [
    {
     "data": {
      "application/vnd.jupyter.widget-view+json": {
       "model_id": "6663288728e147a78301b0ae8059c7d2",
       "version_major": 2,
       "version_minor": 0
      },
      "text/plain": [
       "HBox(children=(FloatProgress(value=0.0, max=4.0), HTML(value='')))"
      ]
     },
     "metadata": {},
     "output_type": "display_data"
    },
    {
     "name": "stdout",
     "output_type": "stream",
     "text": [
      "\n"
     ]
    },
    {
     "data": {
      "application/vnd.jupyter.widget-view+json": {
       "model_id": "ebc25b923fae4fe1893e2baa3cc30276",
       "version_major": 2,
       "version_minor": 0
      },
      "text/plain": [
       "HBox(children=(FloatProgress(value=0.0, max=4.0), HTML(value='')))"
      ]
     },
     "metadata": {},
     "output_type": "display_data"
    },
    {
     "name": "stdout",
     "output_type": "stream",
     "text": [
      "\n"
     ]
    },
    {
     "data": {
      "application/vnd.jupyter.widget-view+json": {
       "model_id": "1397c73569a64c948cc47592d7ec24b6",
       "version_major": 2,
       "version_minor": 0
      },
      "text/plain": [
       "HBox(children=(FloatProgress(value=0.0, max=4.0), HTML(value='')))"
      ]
     },
     "metadata": {},
     "output_type": "display_data"
    },
    {
     "name": "stdout",
     "output_type": "stream",
     "text": [
      "\n"
     ]
    },
    {
     "data": {
      "application/vnd.jupyter.widget-view+json": {
       "model_id": "3ebf142ba7294a2bb4d8d1222507fbc4",
       "version_major": 2,
       "version_minor": 0
      },
      "text/plain": [
       "HBox(children=(FloatProgress(value=0.0, max=4.0), HTML(value='')))"
      ]
     },
     "metadata": {},
     "output_type": "display_data"
    },
    {
     "name": "stdout",
     "output_type": "stream",
     "text": [
      "\n"
     ]
    },
    {
     "data": {
      "image/png": "[encoded data removed]",
      "text/plain": [
       "<IPython.core.display.Image object>"
      ]
     },
     "metadata": {},
     "output_type": "display_data"
    }
   ],
   "source": [
    "cluster_graph = ClusterGraph(all_factors, observed_evidence)\n",
    "cluster_graph.debug = True\n",
    "cluster_graph.show()"
   ]
  },
  {
   "cell_type": "code",
   "execution_count": 13,
   "metadata": {},
   "outputs": [
    {
     "name": "stdout",
     "output_type": "stream",
     "text": [
      "sprinklers\twet_grass\tprob\n",
      "0\t\t0\t\t0.2000\n",
      "0\t\t1\t\t0.8000\n",
      "1\t\t0\t\t0.0000\n",
      "1\t\t1\t\t1.0000\n",
      "\n"
     ]
    }
   ],
   "source": [
    "cluster_graph._clusters[1]._factor.show()"
   ]
  },
  {
   "cell_type": "code",
   "execution_count": 14,
   "metadata": {},
   "outputs": [
    {
     "data": {
      "application/vnd.jupyter.widget-view+json": {
       "model_id": "c4c5fcbeb5214b96800b38dedd970a2d",
       "version_major": 2,
       "version_minor": 0
      },
      "text/plain": [
       "HBox(children=(FloatProgress(value=0.0, max=60.0), HTML(value='')))"
      ]
     },
     "metadata": {},
     "output_type": "display_data"
    },
    {
     "name": "stdout",
     "output_type": "stream",
     "text": [
      "\n"
     ]
    }
   ],
   "source": [
    "cluster_graph.process_graph(tol=0.01, max_iter=10)"
   ]
  },
  {
   "cell_type": "code",
   "execution_count": 15,
   "metadata": {},
   "outputs": [
    {
     "name": "stdout",
     "output_type": "stream",
     "text": [
      "slip\tprob\n",
      "0\t0.5840\n",
      "1\t0.4160\n",
      "\n"
     ]
    }
   ],
   "source": [
    "slip_posterior = cluster_graph.get_marginal(vrs=marginal_vrs)\n",
    "slip_posterior.normalize().show()"
   ]
  },
  {
   "cell_type": "markdown",
   "metadata": {},
   "source": [
    "### 3.0 Without a Cluster Graph\n",
    "We can of course also compute marginal distributions without using a cluster graph by simply multipying all the factors together, observing variables and reducing the joint distribution (with the given evvidence) and then marginalising\n",
    "out the variables that we are not interested in. While this approach works well enough for small examples, it is often intractable when the number of factors become large - since this causes a combinatoric increase in the parameters of the joint distribution."
   ]
  },
  {
   "cell_type": "code",
   "execution_count": 16,
   "metadata": {},
   "outputs": [
    {
     "name": "stdout",
     "output_type": "stream",
     "text": [
      "slip\tprob\n",
      "0\t0.5840\n",
      "1\t0.4160\n",
      "\n"
     ]
    }
   ],
   "source": [
    "joint_distribution = all_factors[0]\n",
    "for factor in all_factors[1:]:\n",
    "    joint_distribution = joint_distribution.absorb(factor)\n",
    "\n",
    "reduced_distribution = joint_distribution.reduce(vrs=list(observed_evidence.keys()),\n",
    "                                                 values=list(observed_evidence.values()))\n",
    "marginal_posterior = reduced_distribution.marginalize(vrs=marginal_vrs, keep=True)#.normalize()\n",
    "marginal_posterior.normalize().show()"
   ]
  },
  {
   "cell_type": "code",
   "execution_count": 17,
   "metadata": {},
   "outputs": [],
   "source": [
    "assert(slip_posterior.equals(marginal_posterior))"
   ]
  }
 ],
 "metadata": {
  "kernelspec": {
   "display_name": "veroku-env",
   "language": "python",
   "name": "veroku-env"
  },
  "language_info": {
   "codemirror_mode": {
    "name": "ipython",
    "version": 3
   },
   "file_extension": ".py",
   "mimetype": "text/x-python",
   "name": "python",
   "nbconvert_exporter": "python",
   "pygments_lexer": "ipython3",
   "version": "3.7.3"
  },
  "widgets": {
   "application/vnd.jupyter.widget-state+json": {
    "state": {
     "01656a7344c642399bddd66ea2799eca": {
      "model_module": "@jupyter-widgets/base",
      "model_module_version": "1.2.0",
      "model_name": "LayoutModel",
      "state": {}
     },
     "088dd51446514d7385f8cee3f3ff3e10": {
      "model_module": "@jupyter-widgets/controls",
      "model_module_version": "1.5.0",
      "model_name": "DescriptionStyleModel",
      "state": {
       "description_width": ""
      }
     },
     "1397c73569a64c948cc47592d7ec24b6": {
      "model_module": "@jupyter-widgets/controls",
      "model_module_version": "1.5.0",
      "model_name": "HBoxModel",
      "state": {
       "children": [
        "IPY_MODEL_c244b9160fac491fa5788cf7bba8fe2d",
        "IPY_MODEL_aae91d29ff304a1a9abaa70fcd39aa59"
       ],
       "layout": "IPY_MODEL_634eb6ce327c48078e27ea0da8c7bd0e"
      }
     },
     "19dc925e80684715bd4c57aa1346fca2": {
      "model_module": "@jupyter-widgets/controls",
      "model_module_version": "1.5.0",
      "model_name": "ProgressStyleModel",
      "state": {
       "description_width": "initial"
      }
     },
     "392feb885d8849158ab17e497a0dc0bc": {
      "model_module": "@jupyter-widgets/base",
      "model_module_version": "1.2.0",
      "model_name": "LayoutModel",
      "state": {}
     },
     "3ebf142ba7294a2bb4d8d1222507fbc4": {
      "model_module": "@jupyter-widgets/controls",
      "model_module_version": "1.5.0",
      "model_name": "HBoxModel",
      "state": {
       "children": [
        "IPY_MODEL_5d771f1aee714e039fad6dbdfa9b219d",
        "IPY_MODEL_fd421b376a03492d94d5811fd17fd792"
       ],
       "layout": "IPY_MODEL_67bbdaef33d341a482556923fc471432"
      }
     },
     "3ed9e303444a4a029ef69998417e2d0b": {
      "model_module": "@jupyter-widgets/base",
      "model_module_version": "1.2.0",
      "model_name": "LayoutModel",
      "state": {}
     },
     "41ae007811274ece94df054cbaa7b4f8": {
      "model_module": "@jupyter-widgets/base",
      "model_module_version": "1.2.0",
      "model_name": "LayoutModel",
      "state": {}
     },
     "42d9be444e5c4d1ba89f06e494461155": {
      "model_module": "@jupyter-widgets/controls",
      "model_module_version": "1.5.0",
      "model_name": "ProgressStyleModel",
      "state": {
       "description_width": "initial"
      }
     },
     "56941ba787b749eaa01609e47daa5dbb": {
      "model_module": "@jupyter-widgets/base",
      "model_module_version": "1.2.0",
      "model_name": "LayoutModel",
      "state": {}
     },
     "57827a47342c494680fb7ee46238bb5e": {
      "model_module": "@jupyter-widgets/controls",
      "model_module_version": "1.5.0",
      "model_name": "DescriptionStyleModel",
      "state": {
       "description_width": ""
      }
     },
     "5d771f1aee714e039fad6dbdfa9b219d": {
      "model_module": "@jupyter-widgets/controls",
      "model_module_version": "1.5.0",
      "model_name": "FloatProgressModel",
      "state": {
       "bar_style": "success",
       "layout": "IPY_MODEL_01656a7344c642399bddd66ea2799eca",
       "max": 4,
       "style": "IPY_MODEL_f53d37d20e2c43e380b874339b16aefb",
       "value": 4
      }
     },
     "5e9fd27742054b398f139ae1934296b3": {
      "model_module": "@jupyter-widgets/controls",
      "model_module_version": "1.5.0",
      "model_name": "ProgressStyleModel",
      "state": {
       "description_width": "initial"
      }
     },
     "634eb6ce327c48078e27ea0da8c7bd0e": {
      "model_module": "@jupyter-widgets/base",
      "model_module_version": "1.2.0",
      "model_name": "LayoutModel",
      "state": {}
     },
     "6663288728e147a78301b0ae8059c7d2": {
      "model_module": "@jupyter-widgets/controls",
      "model_module_version": "1.5.0",
      "model_name": "HBoxModel",
      "state": {
       "children": [
        "IPY_MODEL_8a2e33872ca3444587311bb3c4028995",
        "IPY_MODEL_9c3abca941a5493a996ac5a096c97f43"
       ],
       "layout": "IPY_MODEL_d4e2eadc58934126a4dfb1ae535ac8c8"
      }
     },
     "67bbdaef33d341a482556923fc471432": {
      "model_module": "@jupyter-widgets/base",
      "model_module_version": "1.2.0",
      "model_name": "LayoutModel",
      "state": {}
     },
     "7ade6b4209e34bd1a5163850fa2357e9": {
      "model_module": "@jupyter-widgets/controls",
      "model_module_version": "1.5.0",
      "model_name": "DescriptionStyleModel",
      "state": {
       "description_width": ""
      }
     },
     "7c2d1ba1c90d4c41b1e6cdcf6786b702": {
      "model_module": "@jupyter-widgets/controls",
      "model_module_version": "1.5.0",
      "model_name": "FloatProgressModel",
      "state": {
       "bar_style": "success",
       "layout": "IPY_MODEL_ff214af7ee704d778f1df654d8f6d87b",
       "max": 4,
       "style": "IPY_MODEL_42d9be444e5c4d1ba89f06e494461155",
       "value": 4
      }
     },
     "85a65601fa5f41e892e399a71245c84e": {
      "model_module": "@jupyter-widgets/controls",
      "model_module_version": "1.5.0",
      "model_name": "ProgressStyleModel",
      "state": {
       "description_width": "initial"
      }
     },
     "8a2e33872ca3444587311bb3c4028995": {
      "model_module": "@jupyter-widgets/controls",
      "model_module_version": "1.5.0",
      "model_name": "FloatProgressModel",
      "state": {
       "bar_style": "success",
       "layout": "IPY_MODEL_56941ba787b749eaa01609e47daa5dbb",
       "max": 4,
       "style": "IPY_MODEL_5e9fd27742054b398f139ae1934296b3",
       "value": 4
      }
     },
     "919af76f209c43bd895a267f51c046b3": {
      "model_module": "@jupyter-widgets/base",
      "model_module_version": "1.2.0",
      "model_name": "LayoutModel",
      "state": {}
     },
     "9a0ed9f8d2504fe6914f4a4f326a5898": {
      "model_module": "@jupyter-widgets/controls",
      "model_module_version": "1.5.0",
      "model_name": "FloatProgressModel",
      "state": {
       "bar_style": "danger",
       "layout": "IPY_MODEL_919af76f209c43bd895a267f51c046b3",
       "max": 60,
       "style": "IPY_MODEL_19dc925e80684715bd4c57aa1346fca2",
       "value": 3
      }
     },
     "9c3abca941a5493a996ac5a096c97f43": {
      "model_module": "@jupyter-widgets/controls",
      "model_module_version": "1.5.0",
      "model_name": "HTMLModel",
      "state": {
       "layout": "IPY_MODEL_3ed9e303444a4a029ef69998417e2d0b",
       "style": "IPY_MODEL_cdac19eb7ef6490c85e7f428ee7b5bf0",
       "value": "100%|██████████| 4/4 [00:00&lt;00:00, 75.59it/s]"
      }
     },
     "9e9729d096af48c189d65248116f13ad": {
      "model_module": "@jupyter-widgets/controls",
      "model_module_version": "1.5.0",
      "model_name": "DescriptionStyleModel",
      "state": {
       "description_width": ""
      }
     },
     "aae91d29ff304a1a9abaa70fcd39aa59": {
      "model_module": "@jupyter-widgets/controls",
      "model_module_version": "1.5.0",
      "model_name": "HTMLModel",
      "state": {
       "layout": "IPY_MODEL_392feb885d8849158ab17e497a0dc0bc",
       "style": "IPY_MODEL_088dd51446514d7385f8cee3f3ff3e10",
       "value": "100%|██████████| 4/4 [00:00&lt;00:00, 63.11it/s]"
      }
     },
     "ad42b1cbc3634f0eb6e27a5309e70c81": {
      "model_module": "@jupyter-widgets/base",
      "model_module_version": "1.2.0",
      "model_name": "LayoutModel",
      "state": {}
     },
     "c244b9160fac491fa5788cf7bba8fe2d": {
      "model_module": "@jupyter-widgets/controls",
      "model_module_version": "1.5.0",
      "model_name": "FloatProgressModel",
      "state": {
       "bar_style": "success",
       "layout": "IPY_MODEL_41ae007811274ece94df054cbaa7b4f8",
       "max": 4,
       "style": "IPY_MODEL_85a65601fa5f41e892e399a71245c84e",
       "value": 4
      }
     },
     "c2e95ec211ab48b2802dc247d5a43299": {
      "model_module": "@jupyter-widgets/controls",
      "model_module_version": "1.5.0",
      "model_name": "HTMLModel",
      "state": {
       "layout": "IPY_MODEL_e1a0747c69554552a4f31a854b996de1",
       "style": "IPY_MODEL_9e9729d096af48c189d65248116f13ad",
       "value": "  5%|▌         | 3/60 [00:00&lt;00:01, 53.31it/s]"
      }
     },
     "c4c5fcbeb5214b96800b38dedd970a2d": {
      "model_module": "@jupyter-widgets/controls",
      "model_module_version": "1.5.0",
      "model_name": "HBoxModel",
      "state": {
       "children": [
        "IPY_MODEL_9a0ed9f8d2504fe6914f4a4f326a5898",
        "IPY_MODEL_c2e95ec211ab48b2802dc247d5a43299"
       ],
       "layout": "IPY_MODEL_ad42b1cbc3634f0eb6e27a5309e70c81"
      }
     },
     "cdac19eb7ef6490c85e7f428ee7b5bf0": {
      "model_module": "@jupyter-widgets/controls",
      "model_module_version": "1.5.0",
      "model_name": "DescriptionStyleModel",
      "state": {
       "description_width": ""
      }
     },
     "d4e2eadc58934126a4dfb1ae535ac8c8": {
      "model_module": "@jupyter-widgets/base",
      "model_module_version": "1.2.0",
      "model_name": "LayoutModel",
      "state": {}
     },
     "d83c6fdb6c9b44a3be2228166fa04eff": {
      "model_module": "@jupyter-widgets/base",
      "model_module_version": "1.2.0",
      "model_name": "LayoutModel",
      "state": {}
     },
     "df5cd00cdac54d49bae9e6add9b3dfea": {
      "model_module": "@jupyter-widgets/base",
      "model_module_version": "1.2.0",
      "model_name": "LayoutModel",
      "state": {}
     },
     "e1a0747c69554552a4f31a854b996de1": {
      "model_module": "@jupyter-widgets/base",
      "model_module_version": "1.2.0",
      "model_name": "LayoutModel",
      "state": {}
     },
     "ebc25b923fae4fe1893e2baa3cc30276": {
      "model_module": "@jupyter-widgets/controls",
      "model_module_version": "1.5.0",
      "model_name": "HBoxModel",
      "state": {
       "children": [
        "IPY_MODEL_7c2d1ba1c90d4c41b1e6cdcf6786b702",
        "IPY_MODEL_f6929b3c159141a89d13ba90a8eb6b02"
       ],
       "layout": "IPY_MODEL_fffa15df747f420c8f6dcabb58d093ee"
      }
     },
     "f53d37d20e2c43e380b874339b16aefb": {
      "model_module": "@jupyter-widgets/controls",
      "model_module_version": "1.5.0",
      "model_name": "ProgressStyleModel",
      "state": {
       "description_width": "initial"
      }
     },
     "f6929b3c159141a89d13ba90a8eb6b02": {
      "model_module": "@jupyter-widgets/controls",
      "model_module_version": "1.5.0",
      "model_name": "HTMLModel",
      "state": {
       "layout": "IPY_MODEL_df5cd00cdac54d49bae9e6add9b3dfea",
       "style": "IPY_MODEL_57827a47342c494680fb7ee46238bb5e",
       "value": "100%|██████████| 4/4 [00:00&lt;00:00, 44.10it/s]"
      }
     },
     "fd421b376a03492d94d5811fd17fd792": {
      "model_module": "@jupyter-widgets/controls",
      "model_module_version": "1.5.0",
      "model_name": "HTMLModel",
      "state": {
       "layout": "IPY_MODEL_d83c6fdb6c9b44a3be2228166fa04eff",
       "style": "IPY_MODEL_7ade6b4209e34bd1a5163850fa2357e9",
       "value": "100%|██████████| 4/4 [00:00&lt;00:00, 12.09it/s]"
      }
     },
     "ff214af7ee704d778f1df654d8f6d87b": {
      "model_module": "@jupyter-widgets/base",
      "model_module_version": "1.2.0",
      "model_name": "LayoutModel",
      "state": {}
     },
     "fffa15df747f420c8f6dcabb58d093ee": {
      "model_module": "@jupyter-widgets/base",
      "model_module_version": "1.2.0",
      "model_name": "LayoutModel",
      "state": {}
     }
    },
    "version_major": 2,
    "version_minor": 0
   }
  }
 },
 "nbformat": 4,
 "nbformat_minor": 4
}
