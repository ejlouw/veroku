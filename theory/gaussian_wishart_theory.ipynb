{
 "cells": [
  {
   "cell_type": "markdown",
   "id": "3e6e5290",
   "metadata": {},
   "source": [
    "# Gaussian-Wishart"
   ]
  },
  {
   "cell_type": "markdown",
   "id": "191ac164",
   "metadata": {},
   "source": [
    "## 1. The Gaussian-Wishart Distribution"
   ]
  },
  {
   "cell_type": "markdown",
   "id": "02e1fc09",
   "metadata": {},
   "source": [
    "The expression for the (normalised) normal-wishart (prior) distribution over a mean vector and precision matrix is shown below:\n",
    "\\begin{align*}\n",
    "\\mathcal{N}\\mathcal{W}(\\mu, \\Lambda)&=\\frac{∣\\Lambda∣^{(v−d−1)/2}}{2^{vd/2}∣V∣^{v/2}\\Gamma_d(\\frac{v−d+1}{2})}e^{−tr(V^{-1}\\Lambda)/2}\\frac{|\\lambda_0 \\Lambda|^{1/2}}{(2\\pi)^{d/2}}exp\\left[−0.5(\\mu−\\mu_0)^T\\lambda_0 \\Lambda(\\mu−\\mu_0)\\right]\\\\\n",
    "&=\\frac{∣\\Lambda∣^{(v−d−1)/2}\\lambda_0^{1/2}|\\Lambda|^{1/2}}{2^{vd/2}∣V∣^{v/2}\\Gamma_d(\\frac{v−d+1}{2})(2\\pi)^{d/2}}e^{−tr(V^{-1}\\Lambda)/2}exp\\left[−0.5(\\mu−\\mu_0)^T\\lambda_0 \\Lambda(\\mu−\\mu_0)\\right]\\\\\n",
    "&=\\frac{\\lambda_0^{1/2}∣\\Lambda∣^{(v−d)/2}}{2^{vd/2}∣V∣^{v/2}\\Gamma_d(\\frac{v−d+1}{2})(2\\pi)^{d/2}}e^{−tr(V^{-1}\\Lambda)/2}exp\\left[−0.5(\\mu−\\mu_0)^T\\lambda_0 \\Lambda(\\mu−\\mu_0)\\right]\\\\\n",
    "&=\\frac{\\lambda_0^{1/2}}{2^{vd/2}∣V∣^{v/2}\\Gamma_d(\\frac{v−d+1}{2})(2\\pi)^{d/2}}∣\\Lambda∣^{(v−d)/2}e^{−tr(V^{-1}\\Lambda)/2}exp\\left[−0.5(\\mu−\\mu_0)^T\\lambda_0 \\Lambda(\\mu−\\mu_0)\\right]\\\\\n",
    "&=\\frac{1}{Z_{\\mathcal{NW}}}∣\\Lambda∣^{(v−d)/2}e^{−tr(V^{-1}\\Lambda)/2}exp\\left[−0.5(\\mu−\\mu_0)^T\\lambda_0 \\Lambda(\\mu−\\mu_0)\\right]\\\\\n",
    "&=\\frac{1}{Z_{\\mathcal{NW}}}∣\\Lambda∣^{(v−d)/2}e^{−tr(V^{-1}\\Lambda)/2}exp\\left[−0.5(\\mu^T\\lambda_0\\Lambda\\mu + \\mu_0^T\\lambda_0\\Lambda\\mu_0 - 2\\mu^T\\lambda_0\\Lambda\\mu_0)\\right]\n",
    "\\end{align*}\n",
    "\n",
    "With:\n",
    "\\begin{align*}\n",
    "Z_{\\mathcal{NW}} = \\frac{2^{vd/2}∣V∣^{v/2}\\Gamma_d(\\frac{v−d+1}{2})(2\\pi)^{d/2}}{\\lambda_0^{1/2}}\n",
    "\\end{align*}\n",
    "\n",
    "TODO: simplify norm constant above and apply in code"
   ]
  },
  {
   "cell_type": "markdown",
   "id": "635cd191",
   "metadata": {
    "tags": []
   },
   "source": [
    "## 2. Gaussian-Wishart and Unkown Gaussian Conjagacy"
   ]
  },
  {
   "cell_type": "markdown",
   "id": "16b99aa1",
   "metadata": {},
   "source": [
    "<font color='red'>TODO: check this section - could potentially be improved.</font>\n",
    "\n",
    "a Multivariate Gaussian with unknown mean and precision has the following form:\n",
    "\n",
    "\\begin{align}\n",
    "\\mathcal{N}(X=\\mathbf{x}_i| \\mu, \\Lambda) \n",
    "&= (2\\pi)^{-d/2}|\\Lambda|^{1/2}\\exp\\left[-0.5(\\mathbf{x}_i-\\mu)^T\\Lambda (\\mathbf{x}_i-\\mu)\\right]\\\\\n",
    "&= (2\\pi)^{-d/2}|\\Lambda|^{1/2}\\exp\\left[-0.5(\\mu-\\mathbf{x}_i)^T\\Lambda (\\mu-\\mathbf{x}_i)\\right]\\\\\n",
    "\\end{align}"
   ]
  },
  {
   "cell_type": "markdown",
   "id": "fb464c71",
   "metadata": {},
   "source": [
    "\\begin{align*}\n",
    "[ \\mu - \\mathbf{x}_i]^T \\Lambda[\\mu-\\mathbf{x}_i] &=  \\mu^T \\Lambda\\mu-2\\mu^T \\Lambda\\mathbf{x}_i + \\mathbf{x}_i^T \\Lambda\\mathbf{x}\\\\\n",
    "&=  \\mu^T \\Lambda\\mu-2\\mu^T \\Lambda\\mathbf{x}_i + \\mathbf{tr}(\\mathbf{x}_i\\mathbf{x}_i^T \\Lambda)\\\\\n",
    "&=   \\left( \\mu^T \\Lambda\\mu-2\\mu^T \\Lambda\\mathbf{x}_i \\right)+ \\mathbf{tr}(\\mathbf{x}_i\\mathbf{x}_i^T \\Lambda)\\\\\n",
    "&=   \\left( \\mu^T \\Lambda\\mu-2\\mu^T \\Lambda\\mathbf{x}_i \\right)+ \\mathbf{tr}(V^{-1}\\Lambda)\\\\\n",
    "\\end{align*}\n",
    "With\n",
    "\\begin{align*}\n",
    "V^{-1} =& \\mathbf{x}_i\\mathbf{x}_i^T\n",
    "\\end{align*}\n",
    "\n",
    "So\n",
    "\\begin{align*}\n",
    "\\mathcal{N}(X=\\mathbf{x}_i| \\mu, \\Lambda) &= (2\\pi)^{-d/2}|\\Lambda|^{1/2}\\exp\\left[-0.5\\left( \\mu^T \\Lambda\\mu-2\\mu^T \\Lambda\\mathbf{x}_i \\right) -0.5\\mathbf{tr}(V^{-1}\\Lambda)\\right]\\\\\n",
    "&= (2\\pi)^{-d/2}|\\Lambda|^{1/2}\\exp\\left[-0.5\\left( \\mu^T \\Lambda\\mu-2\\mu^T \\Lambda\\mathbf{x}_i \\right)\\right]exp\\left[-0.5\\mathbf{tr}(V^{-1}\\Lambda)\\right]\\\\\n",
    "&= (2\\pi)^{-d/2}|\\Lambda|^{1/2}e^{-\\mathbf{tr}(V^{-1}\\Lambda)/2}e^{-0.5\\left( \\mu^T \\Lambda\\mu-2\\mu^T \\Lambda\\mathbf{x}_i \\right)}\\\\\n",
    "\\end{align*}\n",
    "\n",
    "From the above, we can see that a Gaussian distribution, with unknown mean and variance has the same form (although with fewer parameters) as the product of a normal and a Wishart distribution. "
   ]
  },
  {
   "cell_type": "markdown",
   "id": "660b0c57",
   "metadata": {},
   "source": [
    "### 2.1 Data Observations in Unknown-Gaussian\n",
    "Let's consider the standard expression for the Gaussian-Wishart distribution again:\n",
    "\\begin{align*}\n",
    "\\mathcal{N}\\mathcal{W}(\\mu, \\Lambda) &= \\frac{1}{Z_{\\mathcal{NW}}}∣\\Lambda∣^{(v−d)/2}e^{−tr(V^{-1}\\Lambda)/2}exp\\left[−0.5(\\mu−\\mu_0)^T\\lambda_0 \\Lambda(\\mu−\\mu_0)\\right]\\\\\n",
    "\\end{align*}\n",
    "\n",
    "Let's compare the expression for a Gaussian with unkown mean and precision from the previous section:\n",
    "\\begin{align*}\n",
    "\\mathcal{N}(X=\\mathbf{x}_i| \\mu, \\Lambda) \n",
    "&= (2\\pi)^{-d/2}|\\Lambda|^{1/2}\\exp\\left[-0.5(\\mathbf{x}_i-\\mu)^T\\Lambda (\\mathbf{x}_i-\\mu)\\right]\\\\\n",
    "&= (2\\pi)^{-d/2}|\\Lambda|^{1/2}\\exp\\left[-0.5(\\mu - \\mathbf{x}_i)^T\\Lambda (\\mu - \\mathbf{x}_i)\\right]\\\\\n",
    "\\end{align*}"
   ]
  },
  {
   "cell_type": "markdown",
   "id": "d3958f8d",
   "metadata": {},
   "source": [
    "\n",
    "from this comparison, we can simply read off the Gaussian-Wishart parameters for the unkown Gaussian:\n",
    "\\begin{align*}\n",
    "v/2-d/2 &= 1/2\\\\\n",
    "v &= d + 1\\\\\n",
    "\\lambda_0 &= 1\\\\\n",
    "\\mu_0 &= \\mathbf{x}_i\\\\\n",
    "V^{-1} &= 0\\\\\n",
    "\\end{align*}\n",
    "\n",
    "What about the normalising constant? Since $V^{-1}=0$, the normalising constant is infinity. For implementation, we can however take the pragmatic approach of simply using the $(2\\pi)^{-d/2}$ term as the weight, divided by the normalising constant."
   ]
  },
  {
   "cell_type": "markdown",
   "id": "3fd320a5",
   "metadata": {},
   "source": [
    "## Relation to the Normal-Gamma Distribution\n",
    "\n",
    "\\begin{align}\n",
    "NG(\\mu, \\lambda |\\mu_0, \\kappa_0, \\alpha, \\beta)\n",
    "&= \\frac{1}{Z_{NG}}\\lambda^{\\alpha-1/2}e^{-\\lambda\\beta}exp\\left[-\\frac{\\kappa_0\\lambda}{2}(\\mu-\\mu_0)^2\\right]\n",
    "\\end{align}\n",
    "\n",
    "With:\n",
    "\\begin{align}\n",
    "Z_{NG} = \\frac{\\Gamma(\\alpha)}{\\beta^{\\alpha}}\\left(\\frac{2\\pi}{\\kappa_0}\\right)^{1/2}\n",
    "\\end{align}"
   ]
  },
  {
   "cell_type": "markdown",
   "id": "03f94e0f",
   "metadata": {},
   "source": [
    "\n",
    "| Gaussian-Wishart | Normal-Gamma |\n",
    "|------------------|-----------------|\n",
    "| $v/2$             | $\\alpha$    |\n",
    "| $(V^{-1})/2$        | $\\beta$    |\n",
    "| $\\lambda_0$        | $\\kappa_0$    |\n"
   ]
  },
  {
   "cell_type": "markdown",
   "id": "d55c1be9",
   "metadata": {},
   "source": [
    "Translating the normalising constant to the Gaussian-Wishart parameters:\n",
    "\\begin{align}\n",
    "Z_{NG} &= \\frac{\\Gamma(\\alpha)}{\\beta^{\\alpha}}\\left(\\frac{2\\pi}{\\kappa_0}\\right)^{1/2}\\\\\n",
    " &= \\frac{\\Gamma(v/2)}{(V^{-1})^{\\alpha}/2^{\\alpha}}\\left(\\frac{2\\pi}{\\lambda_0}\\right)^{1/2}\\\\\n",
    " &= 2^{\\alpha}V^{\\alpha}\\Gamma(v/2)\\left(\\frac{2\\pi}{\\lambda_0}\\right)^{1/2}\\\\\n",
    " &= 2^{v/2}V^{v/2}\\Gamma(v/2)\\left(\\frac{2\\pi}{\\lambda_0}\\right)^{1/2}\\\\\n",
    "\\end{align}\n",
    "\n",
    "And the Gaussian-Wishart normalising constant with d=1\n",
    "\n",
    "\\begin{align*}\n",
    "Z_{\\mathcal{NW}} &= \\frac{2^{vd/2}∣V∣^{v/2}\\Gamma_d(\\frac{v−d+1}{2})(2\\pi)^{d/2}}{\\lambda_0^{1/2}}\\\\\n",
    "&= \\frac{2^{v/2}∣V∣^{v/2}\\Gamma(\\frac{v}{2})(2\\pi)^{1/2}}{\\lambda_0^{1/2}}\\\\\n",
    "&= 2^{v/2}∣V∣^{v/2}\\Gamma(v/2)\\left(\\frac{2\\pi}{\\lambda_0}\\right)^{1/2}\\\\\n",
    "\\end{align*}\n"
   ]
  },
  {
   "cell_type": "markdown",
   "id": "ffb313be",
   "metadata": {},
   "source": []
  },
  {
   "cell_type": "markdown",
   "id": "e062a70f",
   "metadata": {},
   "source": [
    "## 3) The Product of Gaussian-Wishart Distributions"
   ]
  },
  {
   "cell_type": "markdown",
   "id": "cf2fcde2",
   "metadata": {},
   "source": [
    "With two Gaussian-Wishart distributions, over the same mean and precision variables:\n",
    "\\begin{align*}\n",
    "\\mathcal{NW_a}(\\mu, \\Lambda)\n",
    "&=\\frac{1}{Z_{\\mathcal{NW}_a}}∣\\Lambda∣^{(v_a−d)/2}e^{−tr(V_a^{-1}\\Lambda)/2}exp\\left[−0.5(\\mu−\\mu_a)^T\\lambda_a \\Lambda(\\mu−\\mu_a)\\right] & \\quad \\text{(3.1)}\\\\\n",
    "\\mathcal{NW_b}(\\mu, \\Lambda)\n",
    "&=\\frac{1}{Z_{\\mathcal{NW}_b}}∣\\Lambda∣^{(v_b−d)/2}e^{−tr(V_b^{-1}\\Lambda)/2}exp\\left[−0.5(\\mu−\\mu_b)^T\\lambda_b \\Lambda(\\mu−\\mu_b)\\right] & \\quad \\text{(3.2)}\\\\\n",
    "\\end{align*} \n",
    "\n",
    "We derive the expression for the product of these distributions (3.1 and 3.2) as follows:\n",
    "\\begin{align*}\n",
    "\\mathcal{NW_c}(\\mu, \\Lambda) =& \\mathcal{NW_a}(\\mu, \\Lambda)\\mathcal{NW_b}(\\mu, \\Lambda) \\\\\n",
    "=&\\frac{1}{Z_{\\mathcal{NW}_a}Z_{\\mathcal{NW}_b}}∣\\Lambda∣^{(v_a−d)/2}∣\\Lambda|^{(v_b−d)/2}e^{−tr(V_a^{-1}\\Lambda)/2}e^{−tr(V_b^{-1}\\Lambda)/2}exp\\left[−0.5(\\mu−\\mu_a)^T\\lambda_a \\Lambda(\\mu−\\mu_a)\\right]exp\\left[−0.5(\\mu−\\mu_b)^T\\lambda_b \\Lambda(\\mu−\\mu_b)\\right] & \\quad \\text{(3.3)}\\\\\n",
    "\\end{align*}\n",
    "If we look at the individual pairs of similar factors:\n",
    "\\begin{align*}\n",
    "|\\Lambda∣^{(v_a−d)/2}∣\\Lambda|^{(v_b−d)/2} &= |\\Lambda∣^{(v_a/2−d/2 + v_b/2 −d/2)}\\\\\n",
    "&= |\\Lambda∣^{(v_a−d + v_b −d)/2)}& \\quad \\text{(3.4)}\\\\\\\\\n",
    "e^{−tr(V_a^{-1}\\Lambda)/2}e^{−tr(V_b^{-1}\\Lambda)/2} &= e^{−\\left[tr(V_a^{-1}\\Lambda) + tr(V_b^{-1}\\Lambda\\right]/2}\\\\\n",
    "&= e^{−tr\\left(\\left[V_a^{-1} + V_b^{-1}\\right]\\Lambda\\right)/2} & \\quad \\text{(3.5)}\\\\\n",
    "\\end{align*}"
   ]
  },
  {
   "cell_type": "markdown",
   "id": "6bd3327d",
   "metadata": {},
   "source": [
    "And now the sum of the last exponents (*0.5): "
   ]
  },
  {
   "cell_type": "markdown",
   "id": "5b8a5e42",
   "metadata": {},
   "source": [
    "\n",
    "\\begin{align*}\n",
    "&(\\mu−\\mu_a)^T\\lambda_a \\Lambda(\\mu−\\mu_a) + (\\mu−\\mu_b)^T\\lambda_b \\Lambda(\\mu−\\mu_b)\\\\\n",
    "=&(\\mu - \\mu_a)^T\\Lambda_a(\\mu - \\mu_a) + (\\mu - \\mu_b)^T\\Lambda_b(\\mu - \\mu_b)\\\\\n",
    "=&\\mu^T\\Lambda_a\\mu + \\mu^T\\Lambda_b\\mu + \\mu_a^T\\Lambda_a\\mu_a + \\mu_b^T\\Lambda_b\\mu_b - 2\\mu^T(\\Lambda_a\\mu_a + \\Lambda_b\\mu_b)\\\\\n",
    "=&\\mu^T(\\Lambda_a + \\Lambda_b)\\mu + \\mu_a^T\\Lambda_a\\mu_a + \\mu_b^T\\Lambda_b\\mu_b - 2\\mu^T(\\Lambda_a\\mu_a + \\Lambda_b\\mu_b)\\\\\n",
    "=&\\mu^T(\\Lambda_a + \\Lambda_b)\\mu - 2\\mu^T(\\Lambda_a\\mu_a + \\Lambda_b\\mu_b) + (\\mu_a^T\\Lambda_a\\mu_a + \\mu_b^T\\Lambda_b\\mu_b )\\\\\n",
    "=&\\mu^TA\\mu - 2\\mu^TB + C & \\quad \\text{(3.6)}\\\\\n",
    "\\end{align*}\n",
    "with \n",
    "\\begin{align*}\n",
    "A &= \\Lambda_a + \\Lambda_b \\\\\n",
    "&= (\\lambda_a + \\lambda_b)\\Lambda & \\quad \\text{(3.7)}\\\\\n",
    "B &= \\Lambda_a\\mu_a + \\Lambda_b\\mu_b\\\\\n",
    "&= \\Lambda(\\lambda_a\\mu_a + \\lambda_a\\mu_b) & \\quad \\text{(3.8)}\\\\\n",
    "C &= \\mu_a^T\\Lambda_a\\mu_a + \\mu_b^T\\Lambda_b\\mu_b\\\\\n",
    "&= \\lambda_a\\mu_a^T\\Lambda\\mu_a + \\lambda_b\\mu_b^T\\Lambda\\mu_b  & \\quad \\text{(3.9)}\\\\\n",
    "\\end{align*}"
   ]
  },
  {
   "cell_type": "markdown",
   "id": "e7aa6f9c",
   "metadata": {},
   "source": [
    "\n",
    "Lets see how we can complete the square for 3.6:\n",
    "\n",
    "\\begin{align*}\n",
    "&(\\mu - A^{-1}B)^TA(\\mu-A^{-1}B)\\\\\n",
    "&=\\mu^TA\\mu - \\mu^TAA^{-1}B - (A^{-1}B)^TA\\mu + (A^{-1}B)^TAA^{-1}B\\\\\n",
    "&=\\mu^TA\\mu - \\mu^TAA^{-1}B - B^TA^{-1}A\\mu + (A^{-1}B)^TAA^{-1}B\\\\\n",
    "&=\\mu^TA\\mu - \\mu^TB - B^T\\mu + (A^{-1}B)^TB\\\\\n",
    "&=\\mu^TA\\mu - \\mu^TB - B^T\\mu + B^TA^{-1}B\\\\\n",
    "&=\\mu^TA\\mu - 2\\mu^TB + B^TA^{-1}B\\\\\n",
    "\\end{align*}\n",
    "\n",
    "So:\n",
    "\\begin{align*}\n",
    "\\mu^TA\\mu - 2\\mu^TB = &(\\mu - A^{-1}B)^TA(\\mu-A^{-1}B) - B^TA^{-1}B & \\quad \\text{(3.10)}\\\\\n",
    "\\end{align*}\n",
    "\n",
    "And the full expression for the sum of exponents is:\n",
    "\\begin{align*}\n",
    "\\mu^TA\\mu - 2\\mu^TB + C &= (\\mu - A^{-1}B)^TA(\\mu-A^{-1}B) - B^TA^{-1}B + C & \\\\\n",
    "&= (\\mu - A^{-1}B)^TA(\\mu-A^{-1}B) + \\left[C - B^TA^{-1}B\\right] & \\quad \\text{(3.11)}\\\\\n",
    "\\end{align*}\n",
    "\n",
    "\n",
    "\n",
    "Lets substitute 3.7, 3.8 and 3.9 into 3.11:\n",
    "\\begin{align*}\n",
    "&(\\mu - \\mu_a)^T\\Lambda_a(\\mu - \\mu_a) + (\\mu - \\mu_b)^T\\Lambda_b(\\mu - \\mu_b)\\\\\n",
    "& = (\\mu - A^{-1}B)^TA(\\mu-A^{-1}B) +  \\left[C - B^TA^{-1}B\\right]\\\\\n",
    "& = (\\mu - \\mu_c)^T\\lambda_c\\Lambda(\\mu-\\mu_c) + D\n",
    "\\end{align*}\n",
    "\n",
    "with\n",
    "\\begin{align*}\n",
    "\\mu_c &= A^{-1}B\\\\\n",
    "&= ((\\lambda_a + \\lambda_b)\\Lambda)^{-1}\\Lambda(\\lambda_a\\mu_a + \\lambda_a\\mu_b)\\\\\n",
    "&= \\frac{1}{\\lambda_a + \\lambda_b}(\\lambda_a\\mu_a + \\lambda_a\\mu_b)\\\\\n",
    "A &= \\Lambda_a + \\Lambda_b = (\\lambda_a + \\lambda_b)\\Lambda\\\\\n",
    "D &= C - B^TA^{-1}B\n",
    "\\end{align*}"
   ]
  },
  {
   "cell_type": "markdown",
   "id": "34bdc304",
   "metadata": {},
   "source": [
    "\n",
    "Now, lets substitute 3.7, 3.8 and 3.9 into, to get the expression for D in terms of the variables we care about\n",
    "\n",
    "\n",
    "\\begin{align*}\n",
    "B^TA^{-1}B &= (\\Lambda_a\\mu_a + \\Lambda_b\\mu_b)^T(\\Lambda_a + \\Lambda_b)^{-1}(\\Lambda_a\\mu_a + \\Lambda_b\\mu_b)\\\\\n",
    "&= \\frac{1}{\\lambda_a + \\lambda_b}(\\lambda_a\\Lambda\\mu_a + \\lambda_b\\Lambda\\mu_b)^T\\Lambda^{-1}(\\lambda_a\\Lambda\\mu_a + \\lambda_b\\Lambda\\mu_b)\\\\\n",
    "&= \\frac{1}{\\lambda_a + \\lambda_b}(\\lambda_a\\mu_a + \\lambda_b\\mu_b)^T\\Lambda\\Lambda^{-1}\\Lambda(\\lambda_a\\mu_a + \\lambda_b\\mu_b)\\\\\n",
    "&= \\frac{1}{\\lambda_a + \\lambda_b}(\\lambda_a\\mu_a + \\lambda_b\\mu_b)^T\\Lambda(\\lambda_a\\mu_a + \\lambda_b\\mu_b)\\\\\n",
    "&= \\frac{1}{\\lambda_a + \\lambda_b}(\\lambda_a\\mu_a^T\\Lambda\\lambda_a\\mu_a + \\lambda_a\\mu_a^T\\Lambda\\lambda_b\\mu_b + \\lambda_b\\mu_b^T\\Lambda\\lambda_a\\mu_a + \\lambda_b\\mu_b^T\\Lambda\\lambda_b\\mu_b)\\\\\n",
    "&= \\frac{1}{\\lambda_a + \\lambda_b}(\\lambda_a\\mu_a^T\\Lambda\\lambda_a\\mu_a + 2\\lambda_a\\mu_a^T\\Lambda\\lambda_b\\mu_b + \\lambda_b\\mu_b^T\\Lambda\\lambda_b\\mu_b)\\\\\n",
    "&= \\frac{1}{\\lambda_a + \\lambda_b}(\\lambda_a^2\\mu_a^T\\Lambda\\mu_a + 2\\lambda_a\\lambda_b\\mu_a^T\\Lambda\\mu_b + \\lambda_b^2\\mu_b^T\\Lambda\\mu_b)\\\\\n",
    "&= \\frac{\\lambda_a^2}{\\lambda_a + \\lambda_b}\\mu_a^T\\Lambda\\mu_a + \\frac{2\\lambda_a\\lambda_b}{\\lambda_a + \\lambda_b}\\mu_a^T\\Lambda\\mu_b + \\frac{\\lambda_b^2}{\\lambda_a + \\lambda_b}\\mu_b^T\\Lambda\\mu_b \\\\\n",
    "\\end{align*}"
   ]
  },
  {
   "cell_type": "markdown",
   "id": "c80e0a07",
   "metadata": {},
   "source": [
    "\n",
    "\\begin{align*}\n",
    "D &= C - B^TA^{-1}B\\\\\n",
    "&= \\left[\\lambda_a\\mu_a^T\\Lambda\\mu_a + \\lambda_b\\mu_b^T\\Lambda\\mu_b\\right] - \\frac{\\lambda_a^2}{\\lambda_a + \\lambda_b}\\mu_a^T\\Lambda\\mu_a - \\frac{2\\lambda_a\\lambda_b}{\\lambda_a + \\lambda_b}\\mu_a^T\\Lambda\\mu_b - \\frac{\\lambda_b^2}{\\lambda_a + \\lambda_b}\\mu_b^T\\Lambda\\mu_b \\\\\n",
    "&= \\left[\\frac{\\lambda_a(\\lambda_a + \\lambda_b)}{\\lambda_a + \\lambda_b}\\mu_a^T\\Lambda\\mu_a + \\frac{\\lambda_b(\\lambda_a + \\lambda_b)}{\\lambda_a + \\lambda_b}\\mu_b^T\\Lambda\\mu_b\\right] - \\frac{\\lambda_a^2}{\\lambda_a + \\lambda_b}\\mu_a^T\\Lambda\\mu_a - \\frac{2\\lambda_a\\lambda_b}{\\lambda_a + \\lambda_b}\\mu_a^T\\Lambda\\mu_b - \\frac{\\lambda_b^2}{\\lambda_a + \\lambda_b}\\mu_b^T\\Lambda\\mu_b \\\\\n",
    "&= \\left[\\frac{\\lambda_a^2 + \\lambda_a\\lambda_b}{\\lambda_a + \\lambda_b}\\mu_a^T\\Lambda\\mu_a + \\frac{\\lambda_b^2 + \\lambda_a\\lambda_b}{\\lambda_a + \\lambda_b}\\mu_b^T\\Lambda\\mu_b\\right] - \\frac{\\lambda_a^2}{\\lambda_a + \\lambda_b}\\mu_a^T\\Lambda\\mu_a - \\frac{2\\lambda_a\\lambda_b}{\\lambda_a + \\lambda_b}\\mu_a^T\\Lambda\\mu_b - \\frac{\\lambda_b^2}{\\lambda_a + \\lambda_b}\\mu_b^T\\Lambda\\mu_b \\\\\n",
    "&= \\frac{\\lambda_a\\lambda_b}{\\lambda_a + \\lambda_b}\\mu_a^T\\Lambda\\mu_a + \\frac{\\lambda_a\\lambda_b}{\\lambda_a + \\lambda_b}\\mu_b^T\\Lambda\\mu_b - \\frac{2\\lambda_a\\lambda_b}{\\lambda_a + \\lambda_b}\\mu_a^T\\Lambda\\mu_b\\\\\n",
    "&= \\frac{\\lambda_a\\lambda_b}{\\lambda_a + \\lambda_b}\\left[\\mu_a^T\\Lambda\\mu_a + \\mu_b^T\\Lambda\\mu_b - 2\\mu_a^T\\Lambda\\mu_b\\right]\\\\\n",
    "&= \\frac{\\lambda_a\\lambda_b}{\\lambda_a + \\lambda_b}\\left[tr\\left(\\mu_a\\mu_a^T\\Lambda\\right) + tr\\left(\\mu_b\\mu_b^T\\Lambda\\right) - tr\\left(2\\mu_b\\mu_a^T\\Lambda\\right)\\right]\\\\\n",
    "&= \\left[\\frac{\\lambda_a\\lambda_b}{\\lambda_a + \\lambda_b}\\right]tr\\left(\\left[\\mu_a\\mu_a^T + \\mu_b\\mu_b^T -2\\mu_b\\mu_a^T\\right]\\Lambda\\right)\\\\\n",
    "&= \\left[\\frac{\\lambda_a\\lambda_b}{\\lambda_c}\\right]tr\\left(U\\Lambda\\right)\\\\\n",
    "U &= \\mu_a\\mu_a^T + \\mu_b\\mu_b^T -2\\mu_b\\mu_a^T\n",
    "\\end{align*} "
   ]
  },
  {
   "cell_type": "markdown",
   "id": "2ff6239a",
   "metadata": {},
   "source": [
    "Now, finally, we can get the new expression for the product of the last two exponential factors in 3.3:\n",
    "\\begin{align*}\n",
    "exp\\left[−0.5(\\mu−\\mu_a)^T\\lambda_a \\Lambda(\\mu−\\mu_a)\\right]exp\\left[−0.5(\\mu−\\mu_b)^T\\lambda_b \\Lambda(\\mu−\\mu_b)\\right]\n",
    "& = exp\\left[-0.5((\\mu - \\mu_c)^T(\\lambda_a + \\lambda_b)\\Lambda(\\mu-\\mu_c) + D)\\right]\\\\\n",
    "&= exp\\left[-0.5((\\mu - \\mu_c)^T(\\lambda_a + \\lambda_b)\\Lambda(\\mu-\\mu_c)\\right]exp\\left[-0.5D\\right]\\\\\n",
    "&= exp\\left[-0.5((\\mu - \\mu_c)^T(\\lambda_a + \\lambda_b)\\Lambda(\\mu-\\mu_c)\\right]exp\\left[\\frac{-\\lambda_a\\lambda_b}{2\\lambda_c}tr\\left(U\\Lambda\\right)\\right] & \\quad \\text{(3.12)}\\\\\n",
    "\\end{align*} \n",
    "with:\n",
    "\\begin{align*}\n",
    "\\lambda_c = \\lambda_a + \\lambda_b\n",
    "\\end{align*} "
   ]
  },
  {
   "cell_type": "markdown",
   "id": "83f92b32",
   "metadata": {},
   "source": [
    "Now, to get the full expression for the product of the two Gaussian-Wishart distributions in 3.3, we use the results from 3.4, 3.5 and 3.12:\n",
    "\\begin{align*}\n",
    "\\mathcal{NW_c}(\\mu, \\Lambda) &= \\mathcal{NW_a}(\\mu, \\Lambda)\\mathcal{NW_b}(\\mu, \\Lambda)\\\\\n",
    "&= \\frac{1}{Z_{\\mathcal{NW}_a}Z_{\\mathcal{NW}_b}}|\\Lambda∣^{0.5(v_a−d + v_b −d))}exp\\left[−0.5tr\\left((V_a^{-1} + V_b^{-1})\\Lambda\\right)\\right]exp\\left[-0.5((\\mu - \\mu_c)^T\\lambda_c\\Lambda(\\mu-\\mu_c)\\right]exp\\left[\\frac{-\\lambda_a\\lambda_b}{2\\lambda_c}tr\\left(U\\Lambda\\right)\\right]\\\\\n",
    "\\end{align*}\n",
    "\n",
    "So, lastly, we need to combine the exp trace expressions:\n",
    "\\begin{align*}\n",
    "& −0.5tr\\left((V_a^{-1} + V_b^{-1})\\Lambda\\right) - \\frac{\\lambda_a\\lambda_b}{2\\lambda_c}tr\\left(U\\Lambda\\right)\\\\\n",
    "&= −0.5tr\\left(\\left[V_a^{-1} + V_b^{-1} + \\frac{\\lambda_a\\lambda_b}{\\lambda_c}U\\right]\\Lambda\\right)\\\\\n",
    "&= −0.5tr\\left(V_c^{-1}\\Lambda\\right)\n",
    "\\end{align*}\n",
    "\n",
    "with:\n",
    "\\begin{align*}\n",
    "V_c^{-1} = \\left[V_a^{-1} + V_b^{-1} + \\frac{\\lambda_a\\lambda_b}{2\\lambda_c}U\\right]\\\\\n",
    "V_c^{-1} = \\left[V_a^{-1} + V_b^{-1} + \\frac{\\lambda_a\\lambda_b}{2\\lambda_c}\\left(\\mu_a\\mu_a^T + \\mu_b\\mu_b^T -2\\mu_b\\mu_a^T\\right)\\right]\n",
    "\\end{align*}"
   ]
  },
  {
   "cell_type": "markdown",
   "id": "a3c9624f",
   "metadata": {},
   "source": [
    "\n",
    "So, finally, we have:\n",
    "\\begin{align*}\n",
    "\\mathcal{NW_a}(\\mu, \\Lambda)\\mathcal{NW_b}(\\mu, \\Lambda) &= \\frac{1}{Z_{\\mathcal{NW}_a}Z_{\\mathcal{NW}_b}}|\\Lambda∣^{0.5(v_a−d + v_b −d)}exp\\left[−0.5tr\\left(V_c^{-1}\\Lambda\\right)\\right]exp\\left[-0.5((\\mu - \\mu_c)^T\\lambda_c\\Lambda(\\mu-\\mu_c)\\right]\\\\\n",
    "&= \\frac{1}{Z_{\\mathcal{NW}_a}Z_{\\mathcal{NW}_b}}|\\Lambda∣^{0.5(v_c −d)}exp\\left[−0.5tr\\left(V_c^{-1}\\Lambda\\right)\\right]exp\\left[-0.5((\\mu - \\mu_c)^T\\lambda_c\\Lambda(\\mu-\\mu_c)\\right]\\\\\n",
    "&= \\left[\\frac{Z_{\\mathcal{NW}_c}}{Z_{\\mathcal{NW}_a}Z_{\\mathcal{NW}_b}}\\right]\\frac{1}{Z_{\\mathcal{NW}_c}}|\\Lambda∣^{0.5(v_c −d)}exp\\left[−0.5tr\\left(V_c^{-1}\\Lambda\\right)\\right]exp\\left[-0.5((\\mu - \\mu_c)^T\\lambda_c\\Lambda(\\mu-\\mu_c)\\right]\\\\\n",
    "&= \\frac{w}{Z_{\\mathcal{NW}_c}}|\\Lambda∣^{0.5(v_c −d)}exp\\left[−0.5tr\\left(V_c^{-1}\\Lambda\\right)\\right]exp\\left[-0.5((\\mu - \\mu_c)^T\\lambda_c\\Lambda(\\mu-\\mu_c)\\right]\\\\\n",
    "\\end{align*}\n",
    "\n",
    "with the following expressions for the $NW_c$ parameters (as derived previously in this section - again here for convenience):\n",
    "\\begin{align*}\n",
    "v_c &= v_a + v_b - d\\\\\n",
    "\\lambda_c &= \\lambda_a + \\lambda_b\\\\\n",
    "\\mu_c &= \\frac{1}{\\lambda_a + \\lambda_b}(\\lambda_a\\mu_a + \\lambda_a\\mu_b)\\\\\n",
    "V_c^{-1} &= \\left[(V_a^{-1} + V_b^{-1})^{-1} + \\frac{\\lambda_a\\lambda_b}{2\\lambda_c}\\left(\\mu_a\\mu_a^T + \\mu_b\\mu_b^T -2\\mu_b\\mu_a^T\\right)\\right]\\\\\n",
    "w &= \\frac{Z_{\\mathcal{NW}_c}}{Z_{\\mathcal{NW}_a}Z_{\\mathcal{NW}_b}}\n",
    "\\end{align*}"
   ]
  },
  {
   "cell_type": "markdown",
   "id": "5ad4e9a7",
   "metadata": {},
   "source": [
    "<br>\n",
    "<br>\n",
    "<br>\n",
    "Now, looking at the expression for a Gaussian-Wishart again, we can see what the paramters of the product should be: \n",
    "\\begin{align*}\n",
    "\\mathcal{N}\\mathcal{W}(\\mu, \\Lambda) &=\\frac{\\lambda_0}{2^{vd/2}∣V∣^{v/2}\\Gamma_d(\\frac{v−d+1}{2})(2\\pi)^{d/2}}∣\\Lambda∣^{(v−d)/2}exp\\left[−0.5tr(V^{-1}\\Lambda)\\right]exp\\left[−0.5(\\mu−\\mu_0)^T\\lambda_0 \\Lambda(\\mu−\\mu_0)\\right]\\\\\n",
    "\\end{align*}\n"
   ]
  },
  {
   "cell_type": "markdown",
   "id": "f192e790",
   "metadata": {},
   "source": [
    "From the normal-gamma product:\n",
    "\\begin{align}\n",
    "\\beta' &= \\beta_a + \\beta_b + \\frac{\\kappa_a\\kappa_b(\\mu_a - \\mu_b)^2}{2(\\kappa_a + \\kappa_b)}\\\\\n",
    "\\end{align}\n"
   ]
  }
 ],
 "metadata": {
  "kernelspec": {
   "display_name": "Python 3 (ipykernel)",
   "language": "python",
   "name": "python3"
  },
  "language_info": {
   "codemirror_mode": {
    "name": "ipython",
    "version": 3
   },
   "file_extension": ".py",
   "mimetype": "text/x-python",
   "name": "python",
   "nbconvert_exporter": "python",
   "pygments_lexer": "ipython3",
   "version": "3.9.19"
  }
 },
 "nbformat": 4,
 "nbformat_minor": 5
}
