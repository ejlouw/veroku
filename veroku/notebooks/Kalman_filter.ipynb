{
 "cells": [
  {
   "cell_type": "markdown",
   "metadata": {},
   "source": [
    "# Kalman Filter Example\n",
    "\n",
    "Kalman filters can be used to infer the hidden state of a system (for which the system dynamics are known) from noisy measurements (if the conditional measurement distribution is known). This type of model and inference can be used to track the evolution of any type of system where the next state is only dependent on the previous state (and where the previously mentioned requirements are met). A typical example of the application of Kalman filters is in radar tracking of objects, where the measurements can be quite noisy and it is disabled to get more accurate estimates of the position of the tracked objects. In this notebook, we will look at a simple example\n",
    "of a Kalman filter with linear Gaussian conditional distributions. There are however extensions to the standard Kalman filter that allow for non-linear transformations."
   ]
  },
  {
   "cell_type": "code",
   "execution_count": 1,
   "metadata": {},
   "outputs": [],
   "source": [
    "import sys\n",
    "sys.path.append('../../')\n",
    "import numpy as np\n",
    "from veroku.factors.gaussian import Gaussian, GaussianMixture\n",
    "from veroku.cluster_graph import ClusterGraph\n",
    "from veroku.factors.gaussian import make_linear_gaussian_cpd_template\n",
    "import copy\n",
    "\n",
    "import ipywidgets as widgets\n",
    "import matplotlib\n",
    "import matplotlib.pyplot as plt\n",
    "from matplotlib.lines import Line2D\n",
    "from matplotlib.patches import Ellipse"
   ]
  },
  {
   "cell_type": "markdown",
   "metadata": {},
   "source": [
    "### Plotting Helper Functions\n",
    "Below are some helper functions that we will use for plotting the results."
   ]
  },
  {
   "cell_type": "code",
   "execution_count": 2,
   "metadata": {},
   "outputs": [],
   "source": [
    "def get_kalman_filter_position_posteriors(kf_cg, num_timesteps, pos_dim, X_var_templates):\n",
    "    # Note: here we assume that the position variables start at 0\n",
    "    single_space_var_names = None\n",
    "    marginals = []\n",
    "    means = []\n",
    "    for i in range(num_timesteps-1):\n",
    "        X_var_format_dict = {'t_now':i}\n",
    "        X_vars = [vt.format(**X_var_format_dict) for vt in X_var_templates]\n",
    "\n",
    "        X_pos_vars = X_vars[0:pos_dim]\n",
    "        if single_space_var_names is None:\n",
    "            single_space_var_names = X_pos_vars\n",
    "        \n",
    "        pos_marginal = kf_cg.get_marginal(X_pos_vars)     \n",
    "        pos_mean = pos_marginal.get_mean()\n",
    "        means.append(pos_mean)\n",
    "        marginals.append(pos_marginal)\n",
    "    return marginals\n",
    "\n",
    "def get_ellipse_patch(cov, mean, std_devs=2):\n",
    "    eigen_values_array, eigen_vectors_array = np.linalg.eig(cov)\n",
    "    max_len_eig_vector = eigen_vectors_array[:, np.argmax(eigen_values_array)]\n",
    "    angle = np.arctan2(max_len_eig_vector[1],max_len_eig_vector[0])\n",
    "    std_dev_primary_comp  = np.sqrt(eigen_values_array[0])\n",
    "    std_dev_secondary_comp  = np.sqrt(eigen_values_array[1])\n",
    "\n",
    "    ellipse = matplotlib.patches.Ellipse(mean,\n",
    "                                         std_dev_primary_comp*std_devs,\n",
    "                                         std_dev_secondary_comp*std_devs,\n",
    "                                         angle=angle,\n",
    "                                         fc=(1,0,0,0),\n",
    "                                         ec = (0,0,1,1),\n",
    "                                         lw=2)\n",
    "    return ellipse\n",
    "\n",
    "def add_ellipse(ax, ellipse):\n",
    "    ax.add_patch(ellipse)\n",
    "\n",
    "\n",
    "def get_2d_std_dev_ellipses(gaussians):\n",
    "    ellipse_patches = []\n",
    "    for g in gaussians:\n",
    "        ellipse_patch = get_ellipse_patch(g.get_cov(), g.get_mean())\n",
    "        ellipse_patches.append(ellipse_patch)\n",
    "    return ellipse_patches\n",
    "\n",
    "def plot_2d_std_dev_ellipses(gaussians):\n",
    "    fig = plt.figure()\n",
    "    ax = fig.add_subplot(1, 1, 1)\n",
    "    patches = get_2d_std_dev_ellipses(gaussians)\n",
    "    for patch in patches:\n",
    "        ax.add_patch(patch)\n",
    "    ax.autoscale()"
   ]
  },
  {
   "cell_type": "markdown",
   "metadata": {},
   "source": [
    "### Template Specification\n",
    "In a typical Kalman filter Bayes network, all of the conditional state distributions are identical (except for the variable names) and all of the conditional measurement distributions are also identical (except for the variable names). It, therefore, makes sense to specify factor templates for the corresponding factors to allow us to easily generate new factors with different variable names. This also allows us to create arbitrarily long graphs, which will allow us to perform inference over an arbitrary number of timesteps (each measurement corresponds to the measured state of the system at a specific timestep). Below we specify the template parameters for a linear Gaussian template."
   ]
  },
  {
   "cell_type": "code",
   "execution_count": 3,
   "metadata": {},
   "outputs": [],
   "source": [
    "# speficify 4 dimensional (2d position + 2d velocity) templates\n",
    "\n",
    "np.random.seed(11)\n",
    "\n",
    "X_now_var_templates = ['Xsx_{t_now}','Xsy_{t_now}','Xvx_{t_now}','Xvy_{t_now}']\n",
    "X_nxt_var_templates = ['Xsx_{t_nxt}','Xsy_{t_nxt}','Xvx_{t_nxt}','Xvy_{t_nxt}']\n",
    "Y_now_var_templates = ['Ysx_{t_now}','Ysy_{t_now}','Yvx_{t_now}','Yvy_{t_now}']\n",
    "\n",
    "X_dim = len(X_now_var_templates)\n",
    "\n",
    "dt = 10.1\n",
    "A_X_now_X_nxt = np.array([[1, 0, dt, 0],\n",
    "                          [0, 1, 0,  dt],\n",
    "                          [0, 0, 1,  0],\n",
    "                          [0, 0, 0,  1]])\n",
    "A_X_now_Y_now = np.array([[1, 0, 0, 0],\n",
    "                          [0, 1, 0, 0],\n",
    "                          [0, 0, 1, 0],\n",
    "                          [0, 0, 0, 1]])\n",
    "N_Y = np.array([[3, 0, 0, 0],\n",
    "                [0, 3, 0, 0],\n",
    "                [0, 0, 2, 0],\n",
    "                [0, 0, 0, 2]])*5000.0\n",
    "N_X = np.array([[0.1, 0, 0, 0],\n",
    "                [0, 0.1, 0, 0],\n",
    "                [0, 0, 0.2, 0],\n",
    "                [0, 0, 0, 0.2]])*50\n",
    "X_now_X_nxt_template = make_linear_gaussian_cpd_template(A_X_now_X_nxt,\n",
    "                                                         N_X,\n",
    "                                                         X_now_var_templates,\n",
    "                                                         X_nxt_var_templates)\n",
    "X_now_Y_now_template = make_linear_gaussian_cpd_template(A_X_now_Y_now,\n",
    "                                                         N_Y,\n",
    "                                                         X_now_var_templates,\n",
    "                                                         Y_now_var_templates)"
   ]
  },
  {
   "cell_type": "markdown",
   "metadata": {},
   "source": [
    "### Factor and Data Generation\n",
    "In this section, we generate the factors (from the above templates) which will be used to construct the cluster graph that we will use for inference. We also generate data for the ground truth system state (the actual position of the target over time) as well as noisy measurements of this state."
   ]
  },
  {
   "cell_type": "code",
   "execution_count": 4,
   "metadata": {},
   "outputs": [],
   "source": [
    "X_prior_var_format_dict = {'t_now':0}\n",
    "X_prior_vars = [vt.format(**X_prior_var_format_dict) for vt in X_now_var_templates]\n",
    "\n",
    "X_prior = Gaussian(cov=np.eye(X_dim)*100, mean=np.zeros([X_dim, 1]), log_weight=0.0, var_names=X_prior_vars)\n",
    "X_prior.mean[2,0] = 5\n",
    "factors = [X_prior]\n",
    "\n",
    "# data generation\n",
    "\n",
    "dummy_var_names = [str(i) for i in range(X_dim)]\n",
    "measurement_noise_distribution = Gaussian(mean=np.zeros([X_dim, 1]), cov=N_Y, log_weight=0,var_names=dummy_var_names)\n",
    "process_noise_distribution = Gaussian(mean=np.zeros([X_dim, 1]), cov=N_X, log_weight=0,var_names=dummy_var_names)\n",
    "system_state = X_prior.sample(1)\n",
    "\n",
    "\n",
    "num_time_steps = 25\n",
    "evidence_dict = {}\n",
    "\n",
    "back_transed_measurements_over_time = []\n",
    "system_states_over_time = []\n",
    "for timestep in range(num_time_steps):\n",
    "    var_format_dict = {'t_now':timestep,'t_nxt':timestep+1}\n",
    "    \n",
    "    XX_factor = X_now_X_nxt_template.make_factor(var_format_dict)\n",
    "    factors.append(XX_factor)\n",
    "    if (timestep > 0) and (timestep < num_time_steps-1):\n",
    "        XY_factor = X_now_Y_now_template.make_factor(var_format_dict)\n",
    "        factors.append(XY_factor)\n",
    "        Y_now_vars = [vt.format(**var_format_dict) for vt in Y_now_var_templates]\n",
    "        \n",
    "        Y_now_values = (system_state + measurement_noise_distribution.sample(1)).ravel().tolist()\n",
    "        observations_now = {var_name:value for var_name, value in zip(Y_now_vars, Y_now_values)}\n",
    "        evidence_dict.update(observations_now)\n",
    "        \n",
    "        # for plotting and performance evaluation\n",
    "        Y_transed_to_X_now = np.array(Y_now_values)@np.linalg.inv(A_X_now_Y_now)\n",
    "        system_states_over_time.append(copy.deepcopy(system_state))\n",
    "        back_transed_measurements_over_time.append(Y_transed_to_X_now)\n",
    "        \n",
    "    \n",
    "    system_state = A_X_now_X_nxt@system_state + process_noise_distribution.sample(1)\n"
   ]
  },
  {
   "cell_type": "markdown",
   "metadata": {},
   "source": [
    "### Inference\n",
    "In this section, we create the cluster graph and use it to perform inference (with synchronous message passing) to efficiently get the posterior marginals of the system state at all the time steps."
   ]
  },
  {
   "cell_type": "code",
   "execution_count": 5,
   "metadata": {},
   "outputs": [
    {
     "data": {
      "application/vnd.jupyter.widget-view+json": {
       "model_id": "7c0d73c9ddf54129a698f83049161853",
       "version_major": 2,
       "version_minor": 0
      },
      "text/plain": [
       "HBox(children=(FloatProgress(value=0.0, max=48.0), HTML(value='')))"
      ]
     },
     "metadata": {},
     "output_type": "display_data"
    },
    {
     "name": "stdout",
     "output_type": "stream",
     "text": [
      "\n"
     ]
    },
    {
     "data": {
      "application/vnd.jupyter.widget-view+json": {
       "model_id": "aaf9e5e54f8344b2913f2c6333b371dc",
       "version_major": 2,
       "version_minor": 0
      },
      "text/plain": [
       "HBox(children=(FloatProgress(value=0.0, max=196.0), HTML(value='')))"
      ]
     },
     "metadata": {},
     "output_type": "display_data"
    },
    {
     "name": "stdout",
     "output_type": "stream",
     "text": [
      "\n"
     ]
    },
    {
     "data": {
      "application/vnd.jupyter.widget-view+json": {
       "model_id": "ef334f568af347988e4d90148380fe02",
       "version_major": 2,
       "version_minor": 0
      },
      "text/plain": [
       "HBox(children=(FloatProgress(value=0.0, max=48.0), HTML(value='')))"
      ]
     },
     "metadata": {},
     "output_type": "display_data"
    },
    {
     "name": "stdout",
     "output_type": "stream",
     "text": [
      "\n"
     ]
    },
    {
     "data": {
      "application/vnd.jupyter.widget-view+json": {
       "model_id": "1fe32d10a81b4be7b01314ed1652705c",
       "version_major": 2,
       "version_minor": 0
      },
      "text/plain": [
       "HBox(children=(FloatProgress(value=0.0, max=48.0), HTML(value='')))"
      ]
     },
     "metadata": {},
     "output_type": "display_data"
    },
    {
     "name": "stdout",
     "output_type": "stream",
     "text": [
      "\n",
      "num self.graph_message_paths:  94\n"
     ]
    }
   ],
   "source": [
    "Kalman_filter_cg = ClusterGraph(factors=factors, special_evidence=evidence_dict, make_animation_gif=False)"
   ]
  },
  {
   "cell_type": "code",
   "execution_count": 6,
   "metadata": {},
   "outputs": [],
   "source": [
    "#num self.graph_message_paths:  54\n",
    "#Kalman_filter_cg.show()"
   ]
  },
  {
   "cell_type": "code",
   "execution_count": 7,
   "metadata": {},
   "outputs": [
    {
     "data": {
      "application/vnd.jupyter.widget-view+json": {
       "model_id": "cbfc280f8eb942469771fa86296e763b",
       "version_major": 2,
       "version_minor": 0
      },
      "text/plain": [
       "HBox(children=(FloatProgress(value=0.0, max=188.0), HTML(value='')))"
      ]
     },
     "metadata": {},
     "output_type": "display_data"
    },
    {
     "name": "stdout",
     "output_type": "stream",
     "text": [
      "0.00959803131547421 < tol\n",
      "\n"
     ]
    }
   ],
   "source": [
    "Kalman_filter_cg.process_graph(max_iter=2, tol=1e-2)"
   ]
  },
  {
   "cell_type": "code",
   "execution_count": 8,
   "metadata": {},
   "outputs": [],
   "source": [
    "#sync_message_passing_max_distances"
   ]
  },
  {
   "cell_type": "code",
   "execution_count": 9,
   "metadata": {},
   "outputs": [
    {
     "data": {
      "image/png": "[encoded data removed]",
      "text/plain": [
       "<Figure size 1080x360 with 1 Axes>"
      ]
     },
     "metadata": {
      "needs_background": "light"
     },
     "output_type": "display_data"
    }
   ],
   "source": [
    "Kalman_filter_cg.plot_message_convergence()"
   ]
  },
  {
   "cell_type": "markdown",
   "metadata": {},
   "source": [
    "### Results Visualisation\n",
    "Finally, we can visualise the (position marginal) posterior distributions in context of the ground truth and noisy measurements as they evolve over time. Below, we use a widget to do this.\n",
    "If the widget does not display correctly, please ensure that the jupyter widgets are setup correctly (see https://ipywidgets.readthedocs.io/en/latest/user_install.html)"
   ]
  },
  {
   "cell_type": "code",
   "execution_count": 12,
   "metadata": {},
   "outputs": [
    {
     "name": "stderr",
     "output_type": "stream",
     "text": [
      "/Users/everhardlouw/anaconda/envs/veroku-env/lib/python3.7/site-packages/matplotlib/__init__.py:880: MatplotlibDeprecationWarning: \n",
      "nbagg.transparent\n",
      "  version, key, obj_type=\"rcparam\", alternative=alt_key)\n"
     ]
    },
    {
     "data": {
      "application/vnd.jupyter.widget-view+json": {
       "model_id": "46a8c001edf24de39efc3915f79659a3",
       "version_major": 2,
       "version_minor": 0
      },
      "text/plain": [
       "Canvas(toolbar=Toolbar(toolitems=[('Home', 'Reset original view', 'home', 'home'), ('Back', 'Back to previous …"
      ]
     },
     "metadata": {},
     "output_type": "display_data"
    },
    {
     "data": {
      "application/vnd.jupyter.widget-view+json": {
       "model_id": "d3bc944bc3c84fa6af33888b5ec87911",
       "version_major": 2,
       "version_minor": 0
      },
      "text/plain": [
       "interactive(children=(IntSlider(value=0, description='t', max=22), Output()), _dom_classes=('widget-interact',…"
      ]
     },
     "metadata": {},
     "output_type": "display_data"
    }
   ],
   "source": [
    "%matplotlib widget\n",
    "# Marginal extractiong and data preperation\n",
    "position_posteriors = get_kalman_filter_position_posteriors(kf_cg=Kalman_filter_cg,\n",
    "                                                            num_timesteps=num_time_steps,\n",
    "                                                            pos_dim=2,\n",
    "                                                            X_var_templates=X_now_var_templates)\n",
    "X_meas_over_time = np.concatenate([np.expand_dims(X_meas_t, 0) for X_meas_t in back_transed_measurements_over_time])\n",
    "X_true_over_time = np.concatenate([X_true_t.T for X_true_t in system_states_over_time])\n",
    "\n",
    "# set up plot\n",
    "fig, ax = plt.subplots(figsize=(6, 4))\n",
    "\n",
    "all_xs = X_meas_over_time[:,0].tolist() + X_true_over_time[:,0].tolist()\n",
    "all_ys = X_meas_over_time[:,1].tolist() + X_true_over_time[:,1].tolist()\n",
    "\n",
    "ax.set_ylim([min(all_ys), max(all_ys)])\n",
    "ax.set_xlim([min(all_xs), max(all_xs)])\n",
    "ax.grid(True)\n",
    " \n",
    "\n",
    "legend_elements = [Line2D([0], [0], marker='o', color='w', label='Scatter', markerfacecolor='b', markersize=15),\n",
    "                   Line2D([0], [0], marker='o', color='w', label='Scatter', markerfacecolor='r', markersize=15),\n",
    "                   Line2D([0], [0], marker='o', color='w', label='Scatter', markerfacecolor='k', markersize=15)]\n",
    "\n",
    "estimated_cov_ellipses = get_2d_std_dev_ellipses(position_posteriors)\n",
    "estimated_means_array = np.concatenate([p.get_mean().T for p in position_posteriors])\n",
    "last_timestep_index = len(estimated_cov_ellipses)-2\n",
    "\n",
    "@widgets.interact(t=(0, last_timestep_index, 1))\n",
    "def update(t = 0):\n",
    "    \"\"\"Remove old lines from plot and plot new one\"\"\"\n",
    "    \n",
    "    [l.remove() for l in ax.patches]\n",
    "    ax.add_patch(estimated_cov_ellipses[t])\n",
    "    plt.scatter(estimated_means_array[t:t+1,0], estimated_means_array[t:t+1,1], color='b')\n",
    "    plt.scatter(X_meas_over_time[t,0], X_meas_over_time[t,1], color='r')\n",
    "    plt.plot(X_true_over_time[:t,0], X_true_over_time[:t,1], color='k', marker='o')\n",
    "    ax.legend(legend_elements, ['estimate', 'measurement', 'truth'])\n",
    "    \n",
    "    "
   ]
  },
  {
   "cell_type": "markdown",
   "metadata": {},
   "source": [
    "### Test the results\n",
    "In this section we test that the marginals infered through message passing in the custer graph are correct."
   ]
  },
  {
   "cell_type": "code",
   "execution_count": 11,
   "metadata": {},
   "outputs": [
    {
     "name": "stdout",
     "output_type": "stream",
     "text": [
      "The posterior marginals are not correct.\n"
     ]
    }
   ],
   "source": [
    "marginal_vars = [p.var_names for p in position_posteriors]\n",
    "joint = factors[0]\n",
    "for f in factors[1:]:\n",
    "    joint = joint.absorb(f)\n",
    "\n",
    "joint = joint.reduce(vrs=list(evidence_dict.keys()),\n",
    "                     values=list(evidence_dict.values()))\n",
    "correct_marginals = []\n",
    "for vrs in marginal_vars:\n",
    "    correct_marginal = joint.marginalize(vrs, keep=True)\n",
    "    correct_marginals.append(correct_marginal)\n",
    "\n",
    "for actual_marginal, expected_marginal in zip(position_posteriors, correct_marginals):\n",
    "    if actual_marginal.equals(expected_marginal, rtol=1e-04, atol=1e-04):\n",
    "        print('actual_marginal:', actual_marginal)\n",
    "        print('expected_marginal:', expected_marginal)\n",
    "        raise ValueError('The infered posterior marginal is not correct.')\n",
    "print('The posterior marginals are not correct.')"
   ]
  },
  {
   "cell_type": "code",
   "execution_count": null,
   "metadata": {},
   "outputs": [],
   "source": []
  }
 ],
 "metadata": {
  "kernelspec": {
   "display_name": "veroku-env",
   "language": "python",
   "name": "veroku-env"
  },
  "language_info": {
   "codemirror_mode": {
    "name": "ipython",
    "version": 3
   },
   "file_extension": ".py",
   "mimetype": "text/x-python",
   "name": "python",
   "nbconvert_exporter": "python",
   "pygments_lexer": "ipython3",
   "version": "3.7.3"
  },
  "widgets": {
   "application/vnd.jupyter.widget-state+json": {
    "state": {
     "09706e9d9c0b4910add40da8cd391f1f": {
      "model_module": "@jupyter-widgets/base",
      "model_module_version": "1.2.0",
      "model_name": "LayoutModel",
      "state": {}
     },
     "0c79b4e4f4f24a4685bed947fd0d0b85": {
      "model_module": "jupyter-matplotlib",
      "model_module_version": "^0.7.4",
      "model_name": "ToolbarModel",
      "state": {
       "layout": "IPY_MODEL_d77d679665c342fb9830ce47e871662f",
       "toolitems": [
        [
         "Home",
         "Reset original view",
         "home",
         "home"
        ],
        [
         "Back",
         "Back to previous view",
         "arrow-left",
         "back"
        ],
        [
         "Forward",
         "Forward to next view",
         "arrow-right",
         "forward"
        ],
        [
         "Pan",
         "Pan axes with left mouse, zoom with right",
         "arrows",
         "pan"
        ],
        [
         "Zoom",
         "Zoom to rectangle",
         "square-o",
         "zoom"
        ],
        [
         "Download",
         "Download plot",
         "floppy-o",
         "save_figure"
        ]
       ]
      }
     },
     "1499c6a145fb47ffa5b2536bf290f35d": {
      "model_module": "@jupyter-widgets/controls",
      "model_module_version": "1.5.0",
      "model_name": "SliderStyleModel",
      "state": {
       "description_width": ""
      }
     },
     "1a2fec03e31b40cc81f5be790ca03b16": {
      "model_module": "@jupyter-widgets/controls",
      "model_module_version": "1.5.0",
      "model_name": "FloatProgressModel",
      "state": {
       "bar_style": "success",
       "layout": "IPY_MODEL_b41fa76c516f4459b754608cc4cf5aa1",
       "max": 48,
       "style": "IPY_MODEL_98bec5811aa14299bbafddce0c68722f",
       "value": 48
      }
     },
     "1d7ddb5f1ccf4b01802e1ca565c74533": {
      "model_module": "@jupyter-widgets/controls",
      "model_module_version": "1.5.0",
      "model_name": "HTMLModel",
      "state": {
       "layout": "IPY_MODEL_c345704aef4e42c39c60d089e7be08f7",
       "style": "IPY_MODEL_9e5991f810de4071a4405255a94b93f8",
       "value": "100%|██████████| 196/196 [00:00&lt;00:00, 730.99it/s]"
      }
     },
     "1fe32d10a81b4be7b01314ed1652705c": {
      "model_module": "@jupyter-widgets/controls",
      "model_module_version": "1.5.0",
      "model_name": "HBoxModel",
      "state": {
       "children": [
        "IPY_MODEL_f298c553ce32466986bd15762b1362a4",
        "IPY_MODEL_ac171108f3bc42dfa748495eeddc1432"
       ],
       "layout": "IPY_MODEL_3c19a645fb9d48bfac3c4b850f82af52"
      }
     },
     "21cf7d51a37c468a8df9f6f4a6e222b5": {
      "model_module": "@jupyter-widgets/base",
      "model_module_version": "1.2.0",
      "model_name": "LayoutModel",
      "state": {}
     },
     "2c1fbf8180af456788744a929c0abd32": {
      "model_module": "@jupyter-widgets/base",
      "model_module_version": "1.2.0",
      "model_name": "LayoutModel",
      "state": {}
     },
     "332829936fe94b35808f12853de5f2fb": {
      "model_module": "@jupyter-widgets/controls",
      "model_module_version": "1.5.0",
      "model_name": "DescriptionStyleModel",
      "state": {
       "description_width": ""
      }
     },
     "3abb50c6d1304e39a35770106dd05782": {
      "model_module": "@jupyter-widgets/base",
      "model_module_version": "1.2.0",
      "model_name": "LayoutModel",
      "state": {}
     },
     "3c19a645fb9d48bfac3c4b850f82af52": {
      "model_module": "@jupyter-widgets/base",
      "model_module_version": "1.2.0",
      "model_name": "LayoutModel",
      "state": {}
     },
     "42c57a0905374c08829cd5319be641f6": {
      "model_module": "@jupyter-widgets/controls",
      "model_module_version": "1.5.0",
      "model_name": "FloatProgressModel",
      "state": {
       "bar_style": "success",
       "layout": "IPY_MODEL_fb0eaa7d85584a6b841ca47b6f685981",
       "max": 48,
       "style": "IPY_MODEL_f8bfb2460c704e32af098c74d5a1711d",
       "value": 48
      }
     },
     "46a8c001edf24de39efc3915f79659a3": {
      "model_module": "jupyter-matplotlib",
      "model_module_version": "^0.7.4",
      "model_name": "MPLCanvasModel",
      "state": {
       "_figure_label": "Figure 1",
       "_height": 400,
       "_message": "x=-1001.57     y=-1844.3     ",
       "_width": 600,
       "layout": "IPY_MODEL_da0ea6edfa284777934fb6c3ac83dc17",
       "toolbar": "IPY_MODEL_0c79b4e4f4f24a4685bed947fd0d0b85",
       "toolbar_position": "left"
      }
     },
     "488fa5e5fd424ff99504061791e4c86b": {
      "model_module": "@jupyter-widgets/controls",
      "model_module_version": "1.5.0",
      "model_name": "FloatProgressModel",
      "state": {
       "bar_style": "success",
       "layout": "IPY_MODEL_c349d3bc86c84834befef8abb23fe8d9",
       "max": 196,
       "style": "IPY_MODEL_7aadb53913c44ecb82c4dcb5e214af5e",
       "value": 196
      }
     },
     "4a608c97fd834138ad7204e04f3864b7": {
      "model_module": "@jupyter-widgets/base",
      "model_module_version": "1.2.0",
      "model_name": "LayoutModel",
      "state": {}
     },
     "4e5304be5dc54bbc8bac695a20f68877": {
      "model_module": "@jupyter-widgets/controls",
      "model_module_version": "1.5.0",
      "model_name": "DescriptionStyleModel",
      "state": {
       "description_width": ""
      }
     },
     "54ac0373aa704d8a96cd0bee6ffc9291": {
      "model_module": "@jupyter-widgets/base",
      "model_module_version": "1.2.0",
      "model_name": "LayoutModel",
      "state": {}
     },
     "57b58cddb4f44fd4baaadcd86d5ff81c": {
      "model_module": "@jupyter-widgets/controls",
      "model_module_version": "1.5.0",
      "model_name": "DescriptionStyleModel",
      "state": {
       "description_width": ""
      }
     },
     "5a3cc0145f6c41999809e1b2b417880d": {
      "model_module": "@jupyter-widgets/base",
      "model_module_version": "1.2.0",
      "model_name": "LayoutModel",
      "state": {}
     },
     "63c568522d2d474292a7acd2b7699e57": {
      "model_module": "@jupyter-widgets/base",
      "model_module_version": "1.2.0",
      "model_name": "LayoutModel",
      "state": {}
     },
     "68cb18c834844d43a70a178403a5b69d": {
      "model_module": "@jupyter-widgets/base",
      "model_module_version": "1.2.0",
      "model_name": "LayoutModel",
      "state": {}
     },
     "6ef79e10739845ad952a7c500f4c780c": {
      "model_module": "@jupyter-widgets/output",
      "model_module_version": "1.0.0",
      "model_name": "OutputModel",
      "state": {
       "layout": "IPY_MODEL_7cbd2857ac2e4c238289e89a683dd3ca",
       "outputs": [
        {
         "data": {
          "image/png": "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\n",
          "text/plain": "<Figure size 432x288 with 1 Axes>"
         },
         "metadata": {
          "needs_background": "light"
         },
         "output_type": "display_data"
        }
       ]
      }
     },
     "74511d9315064befb7ab6ab2199fa7cc": {
      "model_module": "@jupyter-widgets/controls",
      "model_module_version": "1.5.0",
      "model_name": "VBoxModel",
      "state": {
       "_dom_classes": [
        "widget-interact"
       ],
       "children": [
        "IPY_MODEL_a9583a4dc15c4665aa129835c172f5c0",
        "IPY_MODEL_6ef79e10739845ad952a7c500f4c780c"
       ],
       "layout": "IPY_MODEL_3abb50c6d1304e39a35770106dd05782"
      }
     },
     "7aadb53913c44ecb82c4dcb5e214af5e": {
      "model_module": "@jupyter-widgets/controls",
      "model_module_version": "1.5.0",
      "model_name": "ProgressStyleModel",
      "state": {
       "description_width": "initial"
      }
     },
     "7c0d73c9ddf54129a698f83049161853": {
      "model_module": "@jupyter-widgets/controls",
      "model_module_version": "1.5.0",
      "model_name": "HBoxModel",
      "state": {
       "children": [
        "IPY_MODEL_1a2fec03e31b40cc81f5be790ca03b16",
        "IPY_MODEL_ce7ef768a6b34761bac14d796ffb47e5"
       ],
       "layout": "IPY_MODEL_8b88044858e04490b007d051a35f6b8d"
      }
     },
     "7cbd2857ac2e4c238289e89a683dd3ca": {
      "model_module": "@jupyter-widgets/base",
      "model_module_version": "1.2.0",
      "model_name": "LayoutModel",
      "state": {}
     },
     "8b88044858e04490b007d051a35f6b8d": {
      "model_module": "@jupyter-widgets/base",
      "model_module_version": "1.2.0",
      "model_name": "LayoutModel",
      "state": {}
     },
     "8e29d67674a74a5d8c4c099aa44096f6": {
      "model_module": "@jupyter-widgets/base",
      "model_module_version": "1.2.0",
      "model_name": "LayoutModel",
      "state": {}
     },
     "8f3c9c73f4e0404aa3e38b06860e9f18": {
      "model_module": "@jupyter-widgets/controls",
      "model_module_version": "1.5.0",
      "model_name": "HTMLModel",
      "state": {
       "layout": "IPY_MODEL_63c568522d2d474292a7acd2b7699e57",
       "style": "IPY_MODEL_4e5304be5dc54bbc8bac695a20f68877",
       "value": "100%|██████████| 48/48 [00:00&lt;00:00, 216.88it/s]"
      }
     },
     "91ba76353cd44e799b03b47c4c799ab3": {
      "model_module": "@jupyter-widgets/controls",
      "model_module_version": "1.5.0",
      "model_name": "IntSliderModel",
      "state": {
       "description": "t",
       "layout": "IPY_MODEL_d40ae0bc55674a9f8f4055e29198aae4",
       "max": 22,
       "style": "IPY_MODEL_c838ffb68f1246c8b5443ffc408d2b8c",
       "value": 22
      }
     },
     "93600e5290ec4f428f0ce6ec8fb06b65": {
      "model_module": "@jupyter-widgets/base",
      "model_module_version": "1.2.0",
      "model_name": "LayoutModel",
      "state": {}
     },
     "98bec5811aa14299bbafddce0c68722f": {
      "model_module": "@jupyter-widgets/controls",
      "model_module_version": "1.5.0",
      "model_name": "ProgressStyleModel",
      "state": {
       "description_width": "initial"
      }
     },
     "9e5991f810de4071a4405255a94b93f8": {
      "model_module": "@jupyter-widgets/controls",
      "model_module_version": "1.5.0",
      "model_name": "DescriptionStyleModel",
      "state": {
       "description_width": ""
      }
     },
     "9fb1b574ab9743f38443eebd8b800a7b": {
      "model_module": "@jupyter-widgets/output",
      "model_module_version": "1.0.0",
      "model_name": "OutputModel",
      "state": {
       "layout": "IPY_MODEL_5a3cc0145f6c41999809e1b2b417880d"
      }
     },
     "a9583a4dc15c4665aa129835c172f5c0": {
      "model_module": "@jupyter-widgets/controls",
      "model_module_version": "1.5.0",
      "model_name": "IntSliderModel",
      "state": {
       "description": "t",
       "layout": "IPY_MODEL_21cf7d51a37c468a8df9f6f4a6e222b5",
       "max": 22,
       "style": "IPY_MODEL_1499c6a145fb47ffa5b2536bf290f35d",
       "value": 22
      }
     },
     "aaf9e5e54f8344b2913f2c6333b371dc": {
      "model_module": "@jupyter-widgets/controls",
      "model_module_version": "1.5.0",
      "model_name": "HBoxModel",
      "state": {
       "children": [
        "IPY_MODEL_488fa5e5fd424ff99504061791e4c86b",
        "IPY_MODEL_1d7ddb5f1ccf4b01802e1ca565c74533"
       ],
       "layout": "IPY_MODEL_93600e5290ec4f428f0ce6ec8fb06b65"
      }
     },
     "ac171108f3bc42dfa748495eeddc1432": {
      "model_module": "@jupyter-widgets/controls",
      "model_module_version": "1.5.0",
      "model_name": "HTMLModel",
      "state": {
       "layout": "IPY_MODEL_4a608c97fd834138ad7204e04f3864b7",
       "style": "IPY_MODEL_57b58cddb4f44fd4baaadcd86d5ff81c",
       "value": "100%|██████████| 48/48 [00:01&lt;00:00, 25.90it/s]"
      }
     },
     "b41fa76c516f4459b754608cc4cf5aa1": {
      "model_module": "@jupyter-widgets/base",
      "model_module_version": "1.2.0",
      "model_name": "LayoutModel",
      "state": {}
     },
     "bce6d100157047e7b2e6051e72e64bc5": {
      "model_module": "@jupyter-widgets/base",
      "model_module_version": "1.2.0",
      "model_name": "LayoutModel",
      "state": {}
     },
     "c1d286f2eeb9451fbef8644a131865f9": {
      "model_module": "@jupyter-widgets/base",
      "model_module_version": "1.2.0",
      "model_name": "LayoutModel",
      "state": {}
     },
     "c345704aef4e42c39c60d089e7be08f7": {
      "model_module": "@jupyter-widgets/base",
      "model_module_version": "1.2.0",
      "model_name": "LayoutModel",
      "state": {}
     },
     "c349d3bc86c84834befef8abb23fe8d9": {
      "model_module": "@jupyter-widgets/base",
      "model_module_version": "1.2.0",
      "model_name": "LayoutModel",
      "state": {}
     },
     "c838ffb68f1246c8b5443ffc408d2b8c": {
      "model_module": "@jupyter-widgets/controls",
      "model_module_version": "1.5.0",
      "model_name": "SliderStyleModel",
      "state": {
       "description_width": ""
      }
     },
     "cbfc280f8eb942469771fa86296e763b": {
      "model_module": "@jupyter-widgets/controls",
      "model_module_version": "1.5.0",
      "model_name": "HBoxModel",
      "state": {
       "children": [
        "IPY_MODEL_db9ac282f89349a89e3d22c7dd9a6181",
        "IPY_MODEL_edd34edd8ce746cfb5e8664450714e26"
       ],
       "layout": "IPY_MODEL_8e29d67674a74a5d8c4c099aa44096f6"
      }
     },
     "ce7ef768a6b34761bac14d796ffb47e5": {
      "model_module": "@jupyter-widgets/controls",
      "model_module_version": "1.5.0",
      "model_name": "HTMLModel",
      "state": {
       "layout": "IPY_MODEL_09706e9d9c0b4910add40da8cd391f1f",
       "style": "IPY_MODEL_332829936fe94b35808f12853de5f2fb",
       "value": "100%|██████████| 48/48 [00:00&lt;00:00, 710.25it/s]"
      }
     },
     "d3bc944bc3c84fa6af33888b5ec87911": {
      "model_module": "@jupyter-widgets/controls",
      "model_module_version": "1.5.0",
      "model_name": "VBoxModel",
      "state": {
       "_dom_classes": [
        "widget-interact"
       ],
       "children": [
        "IPY_MODEL_91ba76353cd44e799b03b47c4c799ab3",
        "IPY_MODEL_9fb1b574ab9743f38443eebd8b800a7b"
       ],
       "layout": "IPY_MODEL_2c1fbf8180af456788744a929c0abd32"
      }
     },
     "d40ae0bc55674a9f8f4055e29198aae4": {
      "model_module": "@jupyter-widgets/base",
      "model_module_version": "1.2.0",
      "model_name": "LayoutModel",
      "state": {}
     },
     "d77d679665c342fb9830ce47e871662f": {
      "model_module": "@jupyter-widgets/base",
      "model_module_version": "1.2.0",
      "model_name": "LayoutModel",
      "state": {}
     },
     "da0ea6edfa284777934fb6c3ac83dc17": {
      "model_module": "@jupyter-widgets/base",
      "model_module_version": "1.2.0",
      "model_name": "LayoutModel",
      "state": {}
     },
     "db9ac282f89349a89e3d22c7dd9a6181": {
      "model_module": "@jupyter-widgets/controls",
      "model_module_version": "1.5.0",
      "model_name": "FloatProgressModel",
      "state": {
       "bar_style": "danger",
       "layout": "IPY_MODEL_bce6d100157047e7b2e6051e72e64bc5",
       "max": 188,
       "style": "IPY_MODEL_e4d9219d6389461e9e3607d6ab72b17e",
       "value": 170
      }
     },
     "e4d9219d6389461e9e3607d6ab72b17e": {
      "model_module": "@jupyter-widgets/controls",
      "model_module_version": "1.5.0",
      "model_name": "ProgressStyleModel",
      "state": {
       "description_width": "initial"
      }
     },
     "e61e5fb3d19244858199ad58ac35fb6b": {
      "model_module": "@jupyter-widgets/controls",
      "model_module_version": "1.5.0",
      "model_name": "ProgressStyleModel",
      "state": {
       "description_width": "initial"
      }
     },
     "edd34edd8ce746cfb5e8664450714e26": {
      "model_module": "@jupyter-widgets/controls",
      "model_module_version": "1.5.0",
      "model_name": "HTMLModel",
      "state": {
       "layout": "IPY_MODEL_54ac0373aa704d8a96cd0bee6ffc9291",
       "style": "IPY_MODEL_f9703d09553f41f0a54d656a6984d5fd",
       "value": " 90%|█████████ | 170/188 [00:01&lt;00:00, 113.71it/s]"
      }
     },
     "ef334f568af347988e4d90148380fe02": {
      "model_module": "@jupyter-widgets/controls",
      "model_module_version": "1.5.0",
      "model_name": "HBoxModel",
      "state": {
       "children": [
        "IPY_MODEL_42c57a0905374c08829cd5319be641f6",
        "IPY_MODEL_8f3c9c73f4e0404aa3e38b06860e9f18"
       ],
       "layout": "IPY_MODEL_c1d286f2eeb9451fbef8644a131865f9"
      }
     },
     "f298c553ce32466986bd15762b1362a4": {
      "model_module": "@jupyter-widgets/controls",
      "model_module_version": "1.5.0",
      "model_name": "FloatProgressModel",
      "state": {
       "bar_style": "success",
       "layout": "IPY_MODEL_68cb18c834844d43a70a178403a5b69d",
       "max": 48,
       "style": "IPY_MODEL_e61e5fb3d19244858199ad58ac35fb6b",
       "value": 48
      }
     },
     "f8bfb2460c704e32af098c74d5a1711d": {
      "model_module": "@jupyter-widgets/controls",
      "model_module_version": "1.5.0",
      "model_name": "ProgressStyleModel",
      "state": {
       "description_width": "initial"
      }
     },
     "f9703d09553f41f0a54d656a6984d5fd": {
      "model_module": "@jupyter-widgets/controls",
      "model_module_version": "1.5.0",
      "model_name": "DescriptionStyleModel",
      "state": {
       "description_width": ""
      }
     },
     "fb0eaa7d85584a6b841ca47b6f685981": {
      "model_module": "@jupyter-widgets/base",
      "model_module_version": "1.2.0",
      "model_name": "LayoutModel",
      "state": {}
     }
    },
    "version_major": 2,
    "version_minor": 0
   }
  }
 },
 "nbformat": 4,
 "nbformat_minor": 4
}
