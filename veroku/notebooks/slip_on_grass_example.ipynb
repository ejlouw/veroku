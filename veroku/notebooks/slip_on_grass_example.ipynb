{
 "cells": [
  {
   "cell_type": "markdown",
   "metadata": {},
   "source": [
    "# Slip on Grass Example\n",
    "This notebook contains a toy example model for reasoning about the probability of slipping and getting injured on grass in wet or dry states.\n",
    "We first create the prior and conditional factors and then use these factors to construct a cluster graph. We then use this graph to perform\n",
    "inference."
   ]
  },
  {
   "cell_type": "code",
   "execution_count": 87,
   "metadata": {},
   "outputs": [],
   "source": [
    "import sys\n",
    "sys.path.append('../../')"
   ]
  },
  {
   "cell_type": "code",
   "execution_count": 88,
   "metadata": {},
   "outputs": [],
   "source": [
    "from veroku.factors.categorical import Categorical, CategoricalTemplate\n",
    "from veroku.cluster_graph import ClusterGraph\n",
    "import numpy as np"
   ]
  },
  {
   "cell_type": "code",
   "execution_count": 89,
   "metadata": {},
   "outputs": [],
   "source": [
    "all_factors = []"
   ]
  },
  {
   "cell_type": "markdown",
   "metadata": {},
   "source": [
    "### 1. Factor Specification"
   ]
  },
  {
   "cell_type": "markdown",
   "metadata": {},
   "source": [
    "#### 1.1 Priors"
   ]
  },
  {
   "cell_type": "code",
   "execution_count": 90,
   "metadata": {},
   "outputs": [
    {
     "name": "stdout",
     "output_type": "stream",
     "text": [
      "['rain']   prob\n",
      "(0,)   0.8\n",
      "(1,)   0.2\n"
     ]
    }
   ],
   "source": [
    "var_names = ['rain']\n",
    "probs_table = {(0,):0.8, # no rain\n",
    "               (1,):0.2} #    rain\n",
    "var_cardinalities = [2]\n",
    "\n",
    "rain_proir_pd = Categorical(probs_table=probs_table,\n",
    "                            var_names=var_names,\n",
    "                            cardinalities=var_cardinalities)\n",
    "all_factors.append(rain_proir_pd)\n",
    "rain_proir_pd.show()"
   ]
  },
  {
   "cell_type": "code",
   "execution_count": 132,
   "metadata": {},
   "outputs": [
    {
     "data": {
      "text/plain": [
       "False"
      ]
     },
     "execution_count": 132,
     "metadata": {},
     "output_type": "execute_result"
    }
   ],
   "source": []
  },
  {
   "cell_type": "code",
   "execution_count": 91,
   "metadata": {},
   "outputs": [
    {
     "name": "stdout",
     "output_type": "stream",
     "text": [
      "['sprinklers']   prob\n",
      "(0,)   0.2\n",
      "(1,)   0.8\n"
     ]
    }
   ],
   "source": [
    "var_names = ['sprinklers']\n",
    "probs_table = {(0,):0.2, # no rain\n",
    "               (1,):0.8} #    rain\n",
    "var_cardinalities = [2]\n",
    "\n",
    "sprinkers_proir_pd = Categorical(probs_table=probs_table,\n",
    "                                 var_names=var_names,\n",
    "                                 cardinalities=var_cardinalities)\n",
    "all_factors.append(sprinkers_proir_pd)\n",
    "sprinkers_proir_pd.show()"
   ]
  },
  {
   "cell_type": "code",
   "execution_count": 92,
   "metadata": {},
   "outputs": [
    {
     "name": "stdout",
     "output_type": "stream",
     "text": [
      "['sprinklers', 'rain']   prob\n",
      "(0, 0)   0.16000000000000003\n",
      "(0, 1)   0.04000000000000001\n",
      "(1, 0)   0.64\n",
      "(1, 1)   0.16000000000000003\n"
     ]
    }
   ],
   "source": [
    "rain_proir_pd.absorb(sprinkers_proir_pd).show()"
   ]
  },
  {
   "cell_type": "markdown",
   "metadata": {},
   "source": [
    "#### 1.2 Conditional Probability Distributions"
   ]
  },
  {
   "cell_type": "code",
   "execution_count": 93,
   "metadata": {},
   "outputs": [
    {
     "name": "stdout",
     "output_type": "stream",
     "text": [
      "['rain', 'sprinklers', 'wet_grass']   prob\n",
      "(0, 0, 0)   0.9\n",
      "(0, 0, 1)   0.10000000000000002\n",
      "(0, 1, 0)   0.05000000000000001\n",
      "(0, 1, 1)   0.95\n",
      "(1, 0, 0)   0.2\n",
      "(1, 0, 1)   0.8\n",
      "(1, 1, 0)   0.0\n",
      "(1, 1, 1)   1.0\n"
     ]
    },
    {
     "name": "stderr",
     "output_type": "stream",
     "text": [
      "../../veroku/factors/categorical.py:54: RuntimeWarning: divide by zero encountered in log\n",
      "  log_probs_table = {assignment: np.log(prob) for assignment, prob in probs_table.items()}\n"
     ]
    }
   ],
   "source": [
    "var_names = ['rain', 'sprinklers', 'wet_grass']\n",
    "probs_table = {(0,0,0):0.90, # grass dry given no rain and sprinklers off\n",
    "               (0,0,1):0.10, # grass wet given \"\n",
    "               (0,1,0):0.05, # grass dry given no rain and sprinklers on\n",
    "               (0,1,1):0.95, # grass wet given \"\n",
    "               (1,0,0):0.20, # grass dry given    rain and sprinklers off\n",
    "               (1,0,1):0.80, # grass wet given \"\n",
    "               (1,1,0):0.00, # grass dry given    rain and sprinklers on\n",
    "               (1,1,1):1.00} # grass wet given \"\n",
    "var_cardinalities = [2,2,2]\n",
    "\n",
    "wet_grass_given_rain_and_sprinklers_cpd = Categorical(probs_table=probs_table,\n",
    "                                                      var_names=var_names,\n",
    "                                                      cardinalities=var_cardinalities)\n",
    "all_factors.append(wet_grass_given_rain_and_sprinklers_cpd)\n",
    "wet_grass_given_rain_and_sprinklers_cpd.show()"
   ]
  },
  {
   "cell_type": "code",
   "execution_count": 94,
   "metadata": {},
   "outputs": [
    {
     "name": "stdout",
     "output_type": "stream",
     "text": [
      "['wet_grass', 'slip']   prob\n",
      "(0, 0)   0.2\n",
      "(0, 1)   0.8\n",
      "(1, 0)   0.6\n",
      "(1, 1)   0.4\n"
     ]
    }
   ],
   "source": [
    "var_names = ['wet_grass','slip']\n",
    "probs_table = {(0,0):0.2, #no slip given no wet_grass\n",
    "               (0,1):0.8, #   slip given no wet_grass\n",
    "               (1,0):0.6, #no slip given    wet_grass\n",
    "               (1,1):0.4} #   slip given    wet_grass\n",
    "var_cardinalities = [2,2]\n",
    "\n",
    "slip_given_rain_cpd = Categorical(probs_table=probs_table,\n",
    "                                  var_names=var_names,\n",
    "                                  cardinalities=var_cardinalities)\n",
    "all_factors.append(slip_given_rain_cpd)\n",
    "slip_given_rain_cpd.show()"
   ]
  },
  {
   "cell_type": "code",
   "execution_count": 95,
   "metadata": {},
   "outputs": [
    {
     "name": "stdout",
     "output_type": "stream",
     "text": [
      "['slip', 'injury']   prob\n",
      "(0, 0)   0.9\n",
      "(0, 1)   0.10000000000000002\n",
      "(1, 0)   0.2\n",
      "(1, 1)   0.8\n"
     ]
    }
   ],
   "source": [
    "var_names = ['slip','injury']\n",
    "probs_table = {(0,0):0.9, #no injury given no slip\n",
    "               (0,1):0.1, #   injury given no slip\n",
    "               (1,0):0.2, #no injury given    slip\n",
    "               (1,1):0.8} #   injury given    slip\n",
    "var_cardinalities = [2,2]\n",
    "\n",
    "injury_given_slip_cpd = Categorical(probs_table=probs_table,\n",
    "                                    var_names=var_names,\n",
    "                                    cardinalities=var_cardinalities)\n",
    "all_factors.append(injury_given_slip_cpd)\n",
    "injury_given_slip_cpd.show()"
   ]
  },
  {
   "cell_type": "markdown",
   "metadata": {},
   "source": [
    "### 2. Cluster Graph Inference"
   ]
  },
  {
   "cell_type": "code",
   "execution_count": 118,
   "metadata": {},
   "outputs": [],
   "source": [
    "observed_evidence = {'rain':1}\n",
    "marginal_vrs = ['slip']"
   ]
  },
  {
   "cell_type": "code",
   "execution_count": 119,
   "metadata": {
    "pycharm": {
     "is_executing": true
    }
   },
   "outputs": [
    {
     "data": {
      "application/vnd.jupyter.widget-view+json": {
       "model_id": "11dfa218fd154b8888aeb76656303256",
       "version_major": 2,
       "version_minor": 0
      },
      "text/plain": [
       "HBox(children=(FloatProgress(value=0.0, max=4.0), HTML(value='')))"
      ]
     },
     "metadata": {},
     "output_type": "display_data"
    },
    {
     "name": "stdout",
     "output_type": "stream",
     "text": [
      "\n"
     ]
    },
    {
     "data": {
      "application/vnd.jupyter.widget-view+json": {
       "model_id": "b129f3340be245aeaf2e9274e852ca6a",
       "version_major": 2,
       "version_minor": 0
      },
      "text/plain": [
       "HBox(children=(FloatProgress(value=0.0, max=4.0), HTML(value='')))"
      ]
     },
     "metadata": {},
     "output_type": "display_data"
    },
    {
     "name": "stdout",
     "output_type": "stream",
     "text": [
      "\n"
     ]
    },
    {
     "data": {
      "application/vnd.jupyter.widget-view+json": {
       "model_id": "e6d048b2631f498bbe172e96ded698aa",
       "version_major": 2,
       "version_minor": 0
      },
      "text/plain": [
       "HBox(children=(FloatProgress(value=0.0, max=4.0), HTML(value='')))"
      ]
     },
     "metadata": {},
     "output_type": "display_data"
    },
    {
     "name": "stdout",
     "output_type": "stream",
     "text": [
      "\n"
     ]
    },
    {
     "data": {
      "application/vnd.jupyter.widget-view+json": {
       "model_id": "aae596e1f0bb4221a22a872ccc41ad45",
       "version_major": 2,
       "version_minor": 0
      },
      "text/plain": [
       "HBox(children=(FloatProgress(value=0.0, max=4.0), HTML(value='')))"
      ]
     },
     "metadata": {},
     "output_type": "display_data"
    },
    {
     "name": "stdout",
     "output_type": "stream",
     "text": [
      "\n"
     ]
    },
    {
     "data": {
      "image/png": "[encoded data removed]",
      "text/plain": [
       "<IPython.core.display.Image object>"
      ]
     },
     "metadata": {},
     "output_type": "display_data"
    }
   ],
   "source": [
    "cluster_graph = ClusterGraph(all_factors, observed_evidence)\n",
    "cluster_graph.debug = True\n",
    "cluster_graph.show()"
   ]
  },
  {
   "cell_type": "code",
   "execution_count": 120,
   "metadata": {},
   "outputs": [
    {
     "name": "stdout",
     "output_type": "stream",
     "text": [
      "['sprinklers', 'wet_grass']   prob\n",
      "(0, 0)   0.2\n",
      "(0, 1)   0.8\n",
      "(1, 0)   0.0\n",
      "(1, 1)   1.0\n"
     ]
    }
   ],
   "source": [
    "cluster_graph._clusters[1]._factor.show()"
   ]
  },
  {
   "cell_type": "code",
   "execution_count": 121,
   "metadata": {},
   "outputs": [
    {
     "name": "stdout",
     "output_type": "stream",
     "text": [
      "Info: Starting iterative message passing.*\n"
     ]
    },
    {
     "data": {
      "application/vnd.jupyter.widget-view+json": {
       "model_id": "4add56733c7c4b29bc91b5e84417eea8",
       "version_major": 2,
       "version_minor": 0
      },
      "text/plain": [
       "HBox(children=(FloatProgress(value=0.0, max=10.0), HTML(value='')))"
      ]
     },
     "metadata": {},
     "output_type": "display_data"
    },
    {
     "name": "stdout",
     "output_type": "stream",
     "text": [
      "\n"
     ]
    }
   ],
   "source": [
    "cluster_graph.process_graph(tol=0.01, max_iter=10)\n",
    "#cluster_graph.message_passing_log_df.head(10)\n",
    "#cluster_graph.debug_passed_message_factors"
   ]
  },
  {
   "cell_type": "code",
   "execution_count": 127,
   "metadata": {},
   "outputs": [
    {
     "name": "stdout",
     "output_type": "stream",
     "text": [
      "['slip']   prob\n",
      "(0,)   0.584\n",
      "(1,)   0.4159999999999999\n"
     ]
    }
   ],
   "source": [
    "slip_posterior = cluster_graph.get_marginal(vrs=marginal_vrs)\n",
    "slip_posterior.normalize().show()\n",
    "#slip_posterior.show()"
   ]
  },
  {
   "cell_type": "markdown",
   "metadata": {},
   "source": [
    "### 3.0 Without a Cluster Graph\n",
    "We can of course also compute marginal distributions without using a cluster graph, by simply multipying all the factors together, observing variables and reducing the joint distribution and then marginalising\n",
    "out the variables that we are not interested in. While this approach works well enough for small examples, it is often intractable when the number of factors become large - since this causes a combinatoric increase in the parameters of the joint distribution."
   ]
  },
  {
   "cell_type": "code",
   "execution_count": 131,
   "metadata": {},
   "outputs": [
    {
     "name": "stdout",
     "output_type": "stream",
     "text": [
      "['slip']   prob\n",
      "(0,)   0.584\n",
      "(1,)   0.4160000000000001\n"
     ]
    }
   ],
   "source": [
    "joint_distribution = all_factors[0]\n",
    "for factor in all_factors[1:]:\n",
    "    joint_distribution = joint_distribution.absorb(factor)\n",
    "\n",
    "reduced_distribution = joint_distribution.reduce(vrs=list(observed_evidence.keys()),\n",
    "                                                 values=list(observed_evidence.values()))\n",
    "marginal_posterior = fp_reduced.marginalize(vrs=marginal_vrs, keep=True)#.normalize()\n",
    "marginal_posterior.normalize().show()"
   ]
  }
 ],
 "metadata": {
  "kernelspec": {
   "display_name": "veroku-env",
   "language": "python",
   "name": "veroku-env"
  },
  "language_info": {
   "codemirror_mode": {
    "name": "ipython",
    "version": 3
   },
   "file_extension": ".py",
   "mimetype": "text/x-python",
   "name": "python",
   "nbconvert_exporter": "python",
   "pygments_lexer": "ipython3",
   "version": "3.7.3"
  },
  "widgets": {
   "application/vnd.jupyter.widget-state+json": {
    "state": {
     "001cff80c8344190a0954f229a20fef6": {
      "model_module": "@jupyter-widgets/controls",
      "model_module_version": "1.5.0",
      "model_name": "ProgressStyleModel",
      "state": {
       "description_width": "initial"
      }
     },
     "005a040df8b0497ea782c72a911bd6b7": {
      "model_module": "@jupyter-widgets/controls",
      "model_module_version": "1.5.0",
      "model_name": "DescriptionStyleModel",
      "state": {
       "description_width": ""
      }
     },
     "00890540aaf84dad93a133e1f95272fe": {
      "model_module": "@jupyter-widgets/base",
      "model_module_version": "1.2.0",
      "model_name": "LayoutModel",
      "state": {}
     },
     "00f46fa2e0994c32897a00770d47970a": {
      "model_module": "@jupyter-widgets/controls",
      "model_module_version": "1.5.0",
      "model_name": "FloatProgressModel",
      "state": {
       "bar_style": "success",
       "layout": "IPY_MODEL_6e2d87bf51034edb947eea45cf26b859",
       "max": 2,
       "style": "IPY_MODEL_bc08606841fe43f19e89494848cca8ca",
       "value": 2
      }
     },
     "0258cd1879ed4e4a9808d78edc79be08": {
      "model_module": "@jupyter-widgets/base",
      "model_module_version": "1.2.0",
      "model_name": "LayoutModel",
      "state": {}
     },
     "02ca3329678c4bff91e9528c94082d40": {
      "model_module": "@jupyter-widgets/controls",
      "model_module_version": "1.5.0",
      "model_name": "HTMLModel",
      "state": {
       "layout": "IPY_MODEL_27bdd79ece8e4200947a0c14189e2fe6",
       "style": "IPY_MODEL_9ed85e49646541bf9945e609d28ed083",
       "value": " 20%|██        | 2/10 [00:09&lt;00:38,  4.82s/it]"
      }
     },
     "02cf13f2f75949d19f8f7f80041bc240": {
      "model_module": "@jupyter-widgets/controls",
      "model_module_version": "1.5.0",
      "model_name": "DescriptionStyleModel",
      "state": {
       "description_width": ""
      }
     },
     "02dbb7594ead469da6a40a0289b182a8": {
      "model_module": "@jupyter-widgets/controls",
      "model_module_version": "1.5.0",
      "model_name": "HBoxModel",
      "state": {
       "children": [
        "IPY_MODEL_3dbb78b9f07c4612b33e25dc70cb32a8",
        "IPY_MODEL_77348ce7ce2240579c5a11ec6d49ba81"
       ],
       "layout": "IPY_MODEL_d84240bc9af3460fbeff19e1213abea5"
      }
     },
     "03bce60b58dd41619698b69853623db5": {
      "model_module": "@jupyter-widgets/base",
      "model_module_version": "1.2.0",
      "model_name": "LayoutModel",
      "state": {}
     },
     "03d7f013ed7a48b6b32ce60b2c4baa04": {
      "model_module": "@jupyter-widgets/controls",
      "model_module_version": "1.5.0",
      "model_name": "DescriptionStyleModel",
      "state": {
       "description_width": ""
      }
     },
     "03f73919823b4ee49bf3d473ba92eb0a": {
      "model_module": "@jupyter-widgets/base",
      "model_module_version": "1.2.0",
      "model_name": "LayoutModel",
      "state": {}
     },
     "0439742ce2da41ed9c06909b7c0f69b9": {
      "model_module": "@jupyter-widgets/controls",
      "model_module_version": "1.5.0",
      "model_name": "ProgressStyleModel",
      "state": {
       "description_width": "initial"
      }
     },
     "044af8988206440fb41ed145db30be6a": {
      "model_module": "@jupyter-widgets/controls",
      "model_module_version": "1.5.0",
      "model_name": "FloatProgressModel",
      "state": {
       "bar_style": "success",
       "layout": "IPY_MODEL_6dd9c71b1d7446128ff1e2c604eb5959",
       "max": 2,
       "style": "IPY_MODEL_2bde6e9e69b1411295eeb4a453d30e39",
       "value": 2
      }
     },
     "046ddd4e01824465a68eafa4b9f68b72": {
      "model_module": "@jupyter-widgets/controls",
      "model_module_version": "1.5.0",
      "model_name": "FloatProgressModel",
      "state": {
       "bar_style": "success",
       "layout": "IPY_MODEL_c7f7e4fb073645448789c0c0f98fe219",
       "max": 2,
       "style": "IPY_MODEL_376f3f8f16094312a90fa1b7c7e7506b",
       "value": 2
      }
     },
     "04d824e8de5a41368ed9929ff19e37d3": {
      "model_module": "@jupyter-widgets/base",
      "model_module_version": "1.2.0",
      "model_name": "LayoutModel",
      "state": {}
     },
     "04faca0b4a974d33864cae0981458021": {
      "model_module": "@jupyter-widgets/controls",
      "model_module_version": "1.5.0",
      "model_name": "FloatProgressModel",
      "state": {
       "bar_style": "success",
       "layout": "IPY_MODEL_cf84354cff42456cbb19790545c456bc",
       "max": 3,
       "style": "IPY_MODEL_5a5058864ca8481199fbd9aa84b17061",
       "value": 3
      }
     },
     "055df683e54e4969814b836304326861": {
      "model_module": "@jupyter-widgets/base",
      "model_module_version": "1.2.0",
      "model_name": "LayoutModel",
      "state": {}
     },
     "0577fcb8d9f5478cb5fd0624c03e15bc": {
      "model_module": "@jupyter-widgets/base",
      "model_module_version": "1.2.0",
      "model_name": "LayoutModel",
      "state": {}
     },
     "0645483b4e3e47e7afa1cdbdeba0e83a": {
      "model_module": "@jupyter-widgets/base",
      "model_module_version": "1.2.0",
      "model_name": "LayoutModel",
      "state": {}
     },
     "070a0e9ddc724e2b9f8c7e152a339d5d": {
      "model_module": "@jupyter-widgets/controls",
      "model_module_version": "1.5.0",
      "model_name": "HBoxModel",
      "state": {
       "children": [
        "IPY_MODEL_4f36506254d64cc8b50cdffa2280e2e9",
        "IPY_MODEL_cce60a94afad4e3aa1ee3ec7559d442d"
       ],
       "layout": "IPY_MODEL_bd7692952d064602886e6f39cdb34564"
      }
     },
     "0773d31f75de4073b8db971dc889d8f6": {
      "model_module": "@jupyter-widgets/controls",
      "model_module_version": "1.5.0",
      "model_name": "DescriptionStyleModel",
      "state": {
       "description_width": ""
      }
     },
     "07b5c00f9abf481398a9e3f9a5abefd3": {
      "model_module": "@jupyter-widgets/controls",
      "model_module_version": "1.5.0",
      "model_name": "HTMLModel",
      "state": {
       "layout": "IPY_MODEL_f2cadb74fc3f40ba888d45f3f7bbb9b2",
       "style": "IPY_MODEL_efb2ea9567a843db83220c1928a0bbdd",
       "value": "100%|██████████| 4/4 [00:01&lt;00:00,  3.31it/s]"
      }
     },
     "08974011502e46f7bfb9000e6cd23e0c": {
      "model_module": "@jupyter-widgets/controls",
      "model_module_version": "1.5.0",
      "model_name": "ProgressStyleModel",
      "state": {
       "description_width": "initial"
      }
     },
     "08cf699b68084ed1beba3287ab69f951": {
      "model_module": "@jupyter-widgets/base",
      "model_module_version": "1.2.0",
      "model_name": "LayoutModel",
      "state": {}
     },
     "09263fe48b86420884549d8d203a3986": {
      "model_module": "@jupyter-widgets/base",
      "model_module_version": "1.2.0",
      "model_name": "LayoutModel",
      "state": {}
     },
     "094fa6a7488a4f0990a83031c9b55c5c": {
      "model_module": "@jupyter-widgets/controls",
      "model_module_version": "1.5.0",
      "model_name": "ProgressStyleModel",
      "state": {
       "description_width": "initial"
      }
     },
     "09a9716cad4542a381a8b7a6df6a0fe4": {
      "model_module": "@jupyter-widgets/controls",
      "model_module_version": "1.5.0",
      "model_name": "FloatProgressModel",
      "state": {
       "bar_style": "success",
       "layout": "IPY_MODEL_7260dba48c304436b5a7f92cef1f4bf8",
       "max": 2,
       "style": "IPY_MODEL_4e14456f24e3476482f6051892aa963f",
       "value": 2
      }
     },
     "0a98d619a05e484aa36024f94767c213": {
      "model_module": "@jupyter-widgets/controls",
      "model_module_version": "1.5.0",
      "model_name": "HBoxModel",
      "state": {
       "children": [
        "IPY_MODEL_8e9fcc39b5624901ad6f32cbdc9463b4",
        "IPY_MODEL_bbbbacd4ea564e6581d1dbdbefe5b982"
       ],
       "layout": "IPY_MODEL_620f849e5db7421f93c1cbffc7bd6351"
      }
     },
     "0b9cebebb5f4423284d368a255ebc348": {
      "model_module": "@jupyter-widgets/base",
      "model_module_version": "1.2.0",
      "model_name": "LayoutModel",
      "state": {}
     },
     "0bbbcd91587a4b33a2487dbdae24cc04": {
      "model_module": "@jupyter-widgets/controls",
      "model_module_version": "1.5.0",
      "model_name": "HTMLModel",
      "state": {
       "layout": "IPY_MODEL_46daeff74a3c4c0387179aad87febae0",
       "style": "IPY_MODEL_60e361c04f4c41ba8d485edb0f1e67e6",
       "value": "100%|██████████| 3/3 [00:07&lt;00:00,  2.63s/it]"
      }
     },
     "0c4f55873ccb45a99f151c9949dac8d8": {
      "model_module": "@jupyter-widgets/controls",
      "model_module_version": "1.5.0",
      "model_name": "DescriptionStyleModel",
      "state": {
       "description_width": ""
      }
     },
     "0d47fed252fe412b92a9d9aa890e2d1a": {
      "model_module": "@jupyter-widgets/base",
      "model_module_version": "1.2.0",
      "model_name": "LayoutModel",
      "state": {}
     },
     "0db8ff172f7b4aabb07aa50c2e1ba88f": {
      "model_module": "@jupyter-widgets/base",
      "model_module_version": "1.2.0",
      "model_name": "LayoutModel",
      "state": {}
     },
     "0eadf1e711954264ba5f33bc1dfdef47": {
      "model_module": "@jupyter-widgets/base",
      "model_module_version": "1.2.0",
      "model_name": "LayoutModel",
      "state": {}
     },
     "0f521e7dc1394ba69d36f02ebedb75f1": {
      "model_module": "@jupyter-widgets/controls",
      "model_module_version": "1.5.0",
      "model_name": "DescriptionStyleModel",
      "state": {
       "description_width": ""
      }
     },
     "0f9476adb526421d8368f75387653b1e": {
      "model_module": "@jupyter-widgets/controls",
      "model_module_version": "1.5.0",
      "model_name": "ProgressStyleModel",
      "state": {
       "description_width": "initial"
      }
     },
     "10200a03a2814512a144c09f57c57c5e": {
      "model_module": "@jupyter-widgets/controls",
      "model_module_version": "1.5.0",
      "model_name": "HTMLModel",
      "state": {
       "layout": "IPY_MODEL_434f6f2c4a184914bb4a032eef8cbe6a",
       "style": "IPY_MODEL_406529256a9042b4872d5ac9cb6f564e",
       "value": "100%|██████████| 2/2 [00:00&lt;00:00, 15.29it/s]"
      }
     },
     "10e764cddde648b78639cc17d4140670": {
      "model_module": "@jupyter-widgets/controls",
      "model_module_version": "1.5.0",
      "model_name": "HBoxModel",
      "state": {
       "children": [
        "IPY_MODEL_17c8a6a3b7274e54ba47ff1299c017e8",
        "IPY_MODEL_bda9ad0dec154e4f86c04c37027caafd"
       ],
       "layout": "IPY_MODEL_6afd3138111b4bff9921ce55cc2126c1"
      }
     },
     "112d1e2cf6df4c218e0e7c60277bc3d0": {
      "model_module": "@jupyter-widgets/base",
      "model_module_version": "1.2.0",
      "model_name": "LayoutModel",
      "state": {}
     },
     "11dfa218fd154b8888aeb76656303256": {
      "model_module": "@jupyter-widgets/controls",
      "model_module_version": "1.5.0",
      "model_name": "HBoxModel",
      "state": {
       "children": [
        "IPY_MODEL_2b46cc605bc04257a49075a05134f908",
        "IPY_MODEL_3af395286e6f41e79847b41a2ad8807d"
       ],
       "layout": "IPY_MODEL_9c0edf6f62bb4e348112658240859482"
      }
     },
     "1261c644685d4007ba57d83475c10fe6": {
      "model_module": "@jupyter-widgets/base",
      "model_module_version": "1.2.0",
      "model_name": "LayoutModel",
      "state": {}
     },
     "1493394366404c7189fdd0966dffbe81": {
      "model_module": "@jupyter-widgets/controls",
      "model_module_version": "1.5.0",
      "model_name": "FloatProgressModel",
      "state": {
       "bar_style": "danger",
       "layout": "IPY_MODEL_e6813db0b8f349af80323be30c7285a4",
       "max": 10,
       "style": "IPY_MODEL_1ab8da88a48f4a138a4de5d8b87616ea",
       "value": 2
      }
     },
     "165e08438a1b45b1ab2bd1f7d122e029": {
      "model_module": "@jupyter-widgets/base",
      "model_module_version": "1.2.0",
      "model_name": "LayoutModel",
      "state": {}
     },
     "16833a087ace46c183c0157ddcaf880a": {
      "model_module": "@jupyter-widgets/controls",
      "model_module_version": "1.5.0",
      "model_name": "ProgressStyleModel",
      "state": {
       "description_width": "initial"
      }
     },
     "17031daff4514716b0d7324fca5ca1eb": {
      "model_module": "@jupyter-widgets/controls",
      "model_module_version": "1.5.0",
      "model_name": "ProgressStyleModel",
      "state": {
       "description_width": "initial"
      }
     },
     "1709ea0d006c49ada6bcaee5ff3e2b0e": {
      "model_module": "@jupyter-widgets/base",
      "model_module_version": "1.2.0",
      "model_name": "LayoutModel",
      "state": {}
     },
     "1723918a4b6c4a45ae37db791bd1fbfb": {
      "model_module": "@jupyter-widgets/controls",
      "model_module_version": "1.5.0",
      "model_name": "DescriptionStyleModel",
      "state": {
       "description_width": ""
      }
     },
     "17ab8d2d71a84a2e9293227a06a0fa5f": {
      "model_module": "@jupyter-widgets/controls",
      "model_module_version": "1.5.0",
      "model_name": "DescriptionStyleModel",
      "state": {
       "description_width": ""
      }
     },
     "17bed80656e94cdd8ba1fcecc06e4b99": {
      "model_module": "@jupyter-widgets/base",
      "model_module_version": "1.2.0",
      "model_name": "LayoutModel",
      "state": {}
     },
     "17c8a6a3b7274e54ba47ff1299c017e8": {
      "model_module": "@jupyter-widgets/controls",
      "model_module_version": "1.5.0",
      "model_name": "FloatProgressModel",
      "state": {
       "bar_style": "success",
       "layout": "IPY_MODEL_fd43560ef5d54c75a8f2f967565a4881",
       "max": 4,
       "style": "IPY_MODEL_08974011502e46f7bfb9000e6cd23e0c",
       "value": 4
      }
     },
     "17d49f8674f645a18f3d40b8d3ff1f3b": {
      "model_module": "@jupyter-widgets/controls",
      "model_module_version": "1.5.0",
      "model_name": "HBoxModel",
      "state": {
       "children": [
        "IPY_MODEL_cbd1ac42e0654697a7c940d54a7a8bff",
        "IPY_MODEL_54d6dff1086646d898267606598cddd8"
       ],
       "layout": "IPY_MODEL_efd762403f0944fa817b2c018fb71630"
      }
     },
     "183224eae94f461fbdcda99c706fa0ff": {
      "model_module": "@jupyter-widgets/controls",
      "model_module_version": "1.5.0",
      "model_name": "HBoxModel",
      "state": {
       "children": [
        "IPY_MODEL_37e24c1eedf549f191a53c2979c613e5",
        "IPY_MODEL_60a6804f3c9947ab8b6128e102cda363"
       ],
       "layout": "IPY_MODEL_8808124dca1b4b6e87a5ce0218e425d5"
      }
     },
     "18b3a5ea952940f4bef2a4ab20a6a100": {
      "model_module": "@jupyter-widgets/controls",
      "model_module_version": "1.5.0",
      "model_name": "FloatProgressModel",
      "state": {
       "bar_style": "success",
       "layout": "IPY_MODEL_a3396357257a4a709fecc2217734f28f",
       "max": 2,
       "style": "IPY_MODEL_53da886ffe6145589e714507077e9fcb",
       "value": 2
      }
     },
     "1a4e7fbb65cd4f6d926f884ee6e71a5c": {
      "model_module": "@jupyter-widgets/base",
      "model_module_version": "1.2.0",
      "model_name": "LayoutModel",
      "state": {}
     },
     "1a593712670a4cfa920788ab43fcf5ec": {
      "model_module": "@jupyter-widgets/controls",
      "model_module_version": "1.5.0",
      "model_name": "DescriptionStyleModel",
      "state": {
       "description_width": ""
      }
     },
     "1a62946fbbb3426a95e0787782cc8f5f": {
      "model_module": "@jupyter-widgets/base",
      "model_module_version": "1.2.0",
      "model_name": "LayoutModel",
      "state": {}
     },
     "1ab8da88a48f4a138a4de5d8b87616ea": {
      "model_module": "@jupyter-widgets/controls",
      "model_module_version": "1.5.0",
      "model_name": "ProgressStyleModel",
      "state": {
       "description_width": "initial"
      }
     },
     "1b714f6934cb4667ab79b70c1c65a5c1": {
      "model_module": "@jupyter-widgets/controls",
      "model_module_version": "1.5.0",
      "model_name": "FloatProgressModel",
      "state": {
       "bar_style": "success",
       "layout": "IPY_MODEL_203f6480fb9048e1af885d24ac08d4ad",
       "max": 2,
       "style": "IPY_MODEL_850e0054e1364ff4998445c52fc1b884",
       "value": 2
      }
     },
     "1bb9ad132b244d4ea9aeaa53e02b87f5": {
      "model_module": "@jupyter-widgets/controls",
      "model_module_version": "1.5.0",
      "model_name": "ProgressStyleModel",
      "state": {
       "description_width": "initial"
      }
     },
     "1caef118647a4462ac6c8511eed8c920": {
      "model_module": "@jupyter-widgets/base",
      "model_module_version": "1.2.0",
      "model_name": "LayoutModel",
      "state": {}
     },
     "1d324ccb4d004292acd4e0aefaace42c": {
      "model_module": "@jupyter-widgets/base",
      "model_module_version": "1.2.0",
      "model_name": "LayoutModel",
      "state": {}
     },
     "1d7523332aa04d358f1c6bd48a4d9a48": {
      "model_module": "@jupyter-widgets/controls",
      "model_module_version": "1.5.0",
      "model_name": "HTMLModel",
      "state": {
       "layout": "IPY_MODEL_ea8d2f5dc6b94e5daed4631a26ad6ddd",
       "style": "IPY_MODEL_d38a81be7d534af4be8550ca16a5212e",
       "value": "100%|██████████| 3/3 [00:00&lt;00:00, 15.74it/s]"
      }
     },
     "1da8942e948f4453b072f9773af31af8": {
      "model_module": "@jupyter-widgets/controls",
      "model_module_version": "1.5.0",
      "model_name": "HTMLModel",
      "state": {
       "layout": "IPY_MODEL_1caef118647a4462ac6c8511eed8c920",
       "style": "IPY_MODEL_a543d2fb4ee1416192bc5bd8c7870cea",
       "value": "100%|██████████| 2/2 [04:23&lt;00:00, 131.79s/it]"
      }
     },
     "1df4005ebbbb406c89dcddf9f2c2fbcb": {
      "model_module": "@jupyter-widgets/controls",
      "model_module_version": "1.5.0",
      "model_name": "ProgressStyleModel",
      "state": {
       "description_width": "initial"
      }
     },
     "1e28791e47a64bd486f47168bd73aad9": {
      "model_module": "@jupyter-widgets/base",
      "model_module_version": "1.2.0",
      "model_name": "LayoutModel",
      "state": {}
     },
     "1e5538fe13d4480d9b0c4ef51c9d247d": {
      "model_module": "@jupyter-widgets/controls",
      "model_module_version": "1.5.0",
      "model_name": "ProgressStyleModel",
      "state": {
       "description_width": "initial"
      }
     },
     "1e8bfa6ff14d4a5bb18c27e80eb5e23c": {
      "model_module": "@jupyter-widgets/controls",
      "model_module_version": "1.5.0",
      "model_name": "FloatProgressModel",
      "state": {
       "bar_style": "success",
       "layout": "IPY_MODEL_e756b62c41c54818951386c30ef3ff07",
       "max": 4,
       "style": "IPY_MODEL_cf7a37fe23154002a9d0b63af93734f9",
       "value": 4
      }
     },
     "1eb9f8a01933409b916142e7bd41b4b9": {
      "model_module": "@jupyter-widgets/controls",
      "model_module_version": "1.5.0",
      "model_name": "ProgressStyleModel",
      "state": {
       "description_width": "initial"
      }
     },
     "1f55ae4afc314d8d981550a446ae19bb": {
      "model_module": "@jupyter-widgets/controls",
      "model_module_version": "1.5.0",
      "model_name": "HBoxModel",
      "state": {
       "children": [
        "IPY_MODEL_8d2cf58b64c2458ea854a6f36410adad",
        "IPY_MODEL_ac9c06d75a3f4dcdbcad315233a3bc35"
       ],
       "layout": "IPY_MODEL_d24e287a68734abda31b13eee66597e2"
      }
     },
     "1f625339072a4f2b980f46afa143a58d": {
      "model_module": "@jupyter-widgets/controls",
      "model_module_version": "1.5.0",
      "model_name": "DescriptionStyleModel",
      "state": {
       "description_width": ""
      }
     },
     "1f64bb6f1c8d41008441ab37c7a80540": {
      "model_module": "@jupyter-widgets/base",
      "model_module_version": "1.2.0",
      "model_name": "LayoutModel",
      "state": {}
     },
     "203f6480fb9048e1af885d24ac08d4ad": {
      "model_module": "@jupyter-widgets/base",
      "model_module_version": "1.2.0",
      "model_name": "LayoutModel",
      "state": {}
     },
     "211e766e0dba4426b09d8e8b4af5f935": {
      "model_module": "@jupyter-widgets/controls",
      "model_module_version": "1.5.0",
      "model_name": "HTMLModel",
      "state": {
       "layout": "IPY_MODEL_df6be310c75345e289ea57bcbd59c4ea",
       "style": "IPY_MODEL_3917bd95d93345d3986c2a740c11876a",
       "value": " 20%|██        | 2/10 [58:48&lt;3:55:12, 1764.01s/it]"
      }
     },
     "21956d11fd9a45f2b7107e03a366e696": {
      "model_module": "@jupyter-widgets/controls",
      "model_module_version": "1.5.0",
      "model_name": "DescriptionStyleModel",
      "state": {
       "description_width": ""
      }
     },
     "21d1530ae5cc405c97824063edaba3b2": {
      "model_module": "@jupyter-widgets/base",
      "model_module_version": "1.2.0",
      "model_name": "LayoutModel",
      "state": {}
     },
     "22070734de7f4ea0bf5f2e28919ae89f": {
      "model_module": "@jupyter-widgets/base",
      "model_module_version": "1.2.0",
      "model_name": "LayoutModel",
      "state": {}
     },
     "229a2d2b041b4a24a60f3a118fdea297": {
      "model_module": "@jupyter-widgets/controls",
      "model_module_version": "1.5.0",
      "model_name": "HTMLModel",
      "state": {
       "layout": "IPY_MODEL_42c89f953734401aa35def10c7bd6a35",
       "style": "IPY_MODEL_005a040df8b0497ea782c72a911bd6b7",
       "value": "100%|██████████| 4/4 [00:00&lt;00:00, 13.79it/s]"
      }
     },
     "22ca3020e44049c7838336e73953d841": {
      "model_module": "@jupyter-widgets/controls",
      "model_module_version": "1.5.0",
      "model_name": "HBoxModel",
      "state": {
       "children": [
        "IPY_MODEL_82b8844245764c8a914dd4d79a3a5071",
        "IPY_MODEL_fbef61301b234754b2df822922f0ce49"
       ],
       "layout": "IPY_MODEL_c344d98cbe2b4d77b1e90406f59c38d2"
      }
     },
     "233c050b86064e3e919deb6edc3101ef": {
      "model_module": "@jupyter-widgets/base",
      "model_module_version": "1.2.0",
      "model_name": "LayoutModel",
      "state": {}
     },
     "2363edc552344cd78a702031d6767670": {
      "model_module": "@jupyter-widgets/controls",
      "model_module_version": "1.5.0",
      "model_name": "HTMLModel",
      "state": {
       "layout": "IPY_MODEL_3fb41c37e6d04211b146f64ff56904f1",
       "style": "IPY_MODEL_21956d11fd9a45f2b7107e03a366e696",
       "value": "100%|██████████| 1/1 [00:29&lt;00:00, 29.22s/it]"
      }
     },
     "23dc38843c8c47fa9c52169541c3d6cc": {
      "model_module": "@jupyter-widgets/controls",
      "model_module_version": "1.5.0",
      "model_name": "FloatProgressModel",
      "state": {
       "bar_style": "success",
       "layout": "IPY_MODEL_be177e3528024074a4785b49a7f4312c",
       "max": 1,
       "style": "IPY_MODEL_d504828148f5405ca4bdab8955161e0a",
       "value": 1
      }
     },
     "23f6c16ab05044e2b31bea6e9430d96a": {
      "model_module": "@jupyter-widgets/base",
      "model_module_version": "1.2.0",
      "model_name": "LayoutModel",
      "state": {}
     },
     "2417f74bfec44d72bb23828e8d1dc8fa": {
      "model_module": "@jupyter-widgets/controls",
      "model_module_version": "1.5.0",
      "model_name": "ProgressStyleModel",
      "state": {
       "description_width": "initial"
      }
     },
     "24b0dd89d5c34af981eb8f9238ae6773": {
      "model_module": "@jupyter-widgets/base",
      "model_module_version": "1.2.0",
      "model_name": "LayoutModel",
      "state": {}
     },
     "24e06d33644d41ea9680321d929e74cf": {
      "model_module": "@jupyter-widgets/controls",
      "model_module_version": "1.5.0",
      "model_name": "FloatProgressModel",
      "state": {
       "bar_style": "success",
       "layout": "IPY_MODEL_bac9c028de494b6086b64b1a7c55ae52",
       "max": 2,
       "style": "IPY_MODEL_7d77e75b72384a40b45b24b2ae321a55",
       "value": 2
      }
     },
     "24f6a9502179486d92ca4a9e41561be2": {
      "model_module": "@jupyter-widgets/base",
      "model_module_version": "1.2.0",
      "model_name": "LayoutModel",
      "state": {}
     },
     "2522375ee0ed401f8211c19a6c60b7ab": {
      "model_module": "@jupyter-widgets/base",
      "model_module_version": "1.2.0",
      "model_name": "LayoutModel",
      "state": {}
     },
     "25755a915df94a438785b81513107d49": {
      "model_module": "@jupyter-widgets/base",
      "model_module_version": "1.2.0",
      "model_name": "LayoutModel",
      "state": {}
     },
     "25f1e3aa04b64e41b1cdfd9223709c46": {
      "model_module": "@jupyter-widgets/controls",
      "model_module_version": "1.5.0",
      "model_name": "HBoxModel",
      "state": {
       "children": [
        "IPY_MODEL_f358e0035ac0496188ad9a3e7e92f2f6",
        "IPY_MODEL_211e766e0dba4426b09d8e8b4af5f935"
       ],
       "layout": "IPY_MODEL_63a069b5195b42c4b8e1d95bb628bad7"
      }
     },
     "269cb5dfec2b4efeb51dcfabfa0dd63f": {
      "model_module": "@jupyter-widgets/controls",
      "model_module_version": "1.5.0",
      "model_name": "ProgressStyleModel",
      "state": {
       "description_width": "initial"
      }
     },
     "26a33e804cb14418b8eeb596c1492e96": {
      "model_module": "@jupyter-widgets/controls",
      "model_module_version": "1.5.0",
      "model_name": "ProgressStyleModel",
      "state": {
       "description_width": "initial"
      }
     },
     "26b5a4689c0e488897aa6d23a2b8b94a": {
      "model_module": "@jupyter-widgets/controls",
      "model_module_version": "1.5.0",
      "model_name": "HTMLModel",
      "state": {
       "layout": "IPY_MODEL_0db8ff172f7b4aabb07aa50c2e1ba88f",
       "style": "IPY_MODEL_2c5a81fd82a245d5b94b58cf81cadef6",
       "value": "100%|██████████| 2/2 [04:23&lt;00:00, 131.89s/it]"
      }
     },
     "26bc574c2cf546dd8d5145ac0b6835d0": {
      "model_module": "@jupyter-widgets/controls",
      "model_module_version": "1.5.0",
      "model_name": "HTMLModel",
      "state": {
       "layout": "IPY_MODEL_03bce60b58dd41619698b69853623db5",
       "style": "IPY_MODEL_da9b7447629146bf9d31b71981940c11",
       "value": "100%|██████████| 2/2 [00:00&lt;00:00, 28.13it/s]"
      }
     },
     "26dd433b356846b4ab4f8b396fb8411f": {
      "model_module": "@jupyter-widgets/controls",
      "model_module_version": "1.5.0",
      "model_name": "DescriptionStyleModel",
      "state": {
       "description_width": ""
      }
     },
     "27292af30f374124b2d9bd237b750936": {
      "model_module": "@jupyter-widgets/controls",
      "model_module_version": "1.5.0",
      "model_name": "DescriptionStyleModel",
      "state": {
       "description_width": ""
      }
     },
     "2750215c641c4ccd91c7f62ae195d709": {
      "model_module": "@jupyter-widgets/controls",
      "model_module_version": "1.5.0",
      "model_name": "DescriptionStyleModel",
      "state": {
       "description_width": ""
      }
     },
     "27bdd79ece8e4200947a0c14189e2fe6": {
      "model_module": "@jupyter-widgets/base",
      "model_module_version": "1.2.0",
      "model_name": "LayoutModel",
      "state": {}
     },
     "280d12c2f2174c138aeea376bc23cf8b": {
      "model_module": "@jupyter-widgets/base",
      "model_module_version": "1.2.0",
      "model_name": "LayoutModel",
      "state": {}
     },
     "28f9a207dcb54d1681054145d105761a": {
      "model_module": "@jupyter-widgets/base",
      "model_module_version": "1.2.0",
      "model_name": "LayoutModel",
      "state": {}
     },
     "29053d35e61a4854a2d56ecae4b710bf": {
      "model_module": "@jupyter-widgets/controls",
      "model_module_version": "1.5.0",
      "model_name": "HTMLModel",
      "state": {
       "layout": "IPY_MODEL_e11379a522b14782a7129d794563e33d",
       "style": "IPY_MODEL_9469805fae2a44bf8d089f4e9296ff88",
       "value": "100%|██████████| 2/2 [00:00&lt;00:00, 13.83it/s]"
      }
     },
     "2953b2b2ac364c27a62bbccc870d2435": {
      "model_module": "@jupyter-widgets/controls",
      "model_module_version": "1.5.0",
      "model_name": "FloatProgressModel",
      "state": {
       "bar_style": "success",
       "layout": "IPY_MODEL_cb5e32f6e19f4453b9c0f79f3fa7a5a6",
       "max": 2,
       "style": "IPY_MODEL_facf386b92464f81ac3ea549b1d7a004",
       "value": 2
      }
     },
     "29603590a76d4ef5b674ad9677b066e2": {
      "model_module": "@jupyter-widgets/controls",
      "model_module_version": "1.5.0",
      "model_name": "HBoxModel",
      "state": {
       "children": [
        "IPY_MODEL_1493394366404c7189fdd0966dffbe81",
        "IPY_MODEL_02ca3329678c4bff91e9528c94082d40"
       ],
       "layout": "IPY_MODEL_852324737b4e4d2f92ac7708266a3506"
      }
     },
     "29a3b64454284e6cbe6053896581bb3c": {
      "model_module": "@jupyter-widgets/controls",
      "model_module_version": "1.5.0",
      "model_name": "HBoxModel",
      "state": {
       "children": [
        "IPY_MODEL_5aa8b5fc06224be7a963430a7d1da5f8",
        "IPY_MODEL_b2319002ddd64bfc85bd1ffc6f19ee9d"
       ],
       "layout": "IPY_MODEL_cf5a39e30ec844bbae9b67e0968d2c14"
      }
     },
     "2a295e7f3e8e47668d7305ebd4e3dd23": {
      "model_module": "@jupyter-widgets/controls",
      "model_module_version": "1.5.0",
      "model_name": "HTMLModel",
      "state": {
       "layout": "IPY_MODEL_c3d8e386a99b4609ab65bd039b058aa3",
       "style": "IPY_MODEL_03d7f013ed7a48b6b32ce60b2c4baa04",
       "value": "100%|██████████| 2/2 [00:00&lt;00:00, 20.07it/s]"
      }
     },
     "2a2b49595aaa43999e5aa982ec15257d": {
      "model_module": "@jupyter-widgets/controls",
      "model_module_version": "1.5.0",
      "model_name": "HTMLModel",
      "state": {
       "layout": "IPY_MODEL_e285f9ffa0d64af1a7c7bf02c7973f06",
       "style": "IPY_MODEL_93add705fb09436da16c7ce195de54ac",
       "value": "100%|██████████| 4/4 [00:00&lt;00:00, 22.03it/s]"
      }
     },
     "2a30ccf6b02f4e0da2bc86d2e1fa26a6": {
      "model_module": "@jupyter-widgets/base",
      "model_module_version": "1.2.0",
      "model_name": "LayoutModel",
      "state": {}
     },
     "2a8bb773d0264a66b17b8af4a96ae245": {
      "model_module": "@jupyter-widgets/controls",
      "model_module_version": "1.5.0",
      "model_name": "HBoxModel",
      "state": {
       "children": [
        "IPY_MODEL_044af8988206440fb41ed145db30be6a",
        "IPY_MODEL_5af774909995456e8223ee4d845297d1"
       ],
       "layout": "IPY_MODEL_8b376eae6ca84a8ea44cf37ee0e5922c"
      }
     },
     "2b46cc605bc04257a49075a05134f908": {
      "model_module": "@jupyter-widgets/controls",
      "model_module_version": "1.5.0",
      "model_name": "FloatProgressModel",
      "state": {
       "bar_style": "success",
       "layout": "IPY_MODEL_a67185a9928d49c0924b99224c3114d9",
       "max": 4,
       "style": "IPY_MODEL_43554313dfc24e30bcd2c36de7dddf53",
       "value": 4
      }
     },
     "2bde6e9e69b1411295eeb4a453d30e39": {
      "model_module": "@jupyter-widgets/controls",
      "model_module_version": "1.5.0",
      "model_name": "ProgressStyleModel",
      "state": {
       "description_width": "initial"
      }
     },
     "2c1cd3e5053640c2b73a1833d2d2bd3e": {
      "model_module": "@jupyter-widgets/base",
      "model_module_version": "1.2.0",
      "model_name": "LayoutModel",
      "state": {}
     },
     "2c39d0a19c42477e9c7125d273bf2907": {
      "model_module": "@jupyter-widgets/controls",
      "model_module_version": "1.5.0",
      "model_name": "HBoxModel",
      "state": {
       "children": [
        "IPY_MODEL_2ecd7d4b13634307bd032f04f8827772",
        "IPY_MODEL_cc42e22617ab4957bdfe7c63a8bf4b2d"
       ],
       "layout": "IPY_MODEL_9153dafb5d0b4a3692705911dfc671db"
      }
     },
     "2c5a81fd82a245d5b94b58cf81cadef6": {
      "model_module": "@jupyter-widgets/controls",
      "model_module_version": "1.5.0",
      "model_name": "DescriptionStyleModel",
      "state": {
       "description_width": ""
      }
     },
     "2cb5e01a495f42c3b5b3b80d1b235cb1": {
      "model_module": "@jupyter-widgets/base",
      "model_module_version": "1.2.0",
      "model_name": "LayoutModel",
      "state": {}
     },
     "2d0551d7b05d4a00abcf69651f5e8a61": {
      "model_module": "@jupyter-widgets/controls",
      "model_module_version": "1.5.0",
      "model_name": "DescriptionStyleModel",
      "state": {
       "description_width": ""
      }
     },
     "2d41a267d60643bea6b09249277fb072": {
      "model_module": "@jupyter-widgets/base",
      "model_module_version": "1.2.0",
      "model_name": "LayoutModel",
      "state": {}
     },
     "2d62c26976424518bffc0cafc2e2c622": {
      "model_module": "@jupyter-widgets/controls",
      "model_module_version": "1.5.0",
      "model_name": "FloatProgressModel",
      "state": {
       "bar_style": "success",
       "layout": "IPY_MODEL_bc7917474b7e4c4aba6fda0d179236fd",
       "max": 1,
       "style": "IPY_MODEL_f5ef94c9e3a1406a8e5a83fa43f42657",
       "value": 1
      }
     },
     "2dbf9df330194afabd8b9e24df5c6b1a": {
      "model_module": "@jupyter-widgets/controls",
      "model_module_version": "1.5.0",
      "model_name": "ProgressStyleModel",
      "state": {
       "description_width": "initial"
      }
     },
     "2dc2b22083a74023ba8493484b2642f7": {
      "model_module": "@jupyter-widgets/controls",
      "model_module_version": "1.5.0",
      "model_name": "FloatProgressModel",
      "state": {
       "bar_style": "success",
       "layout": "IPY_MODEL_7d5ca5f51772463790b103a7325c5aa3",
       "max": 4,
       "style": "IPY_MODEL_d09b05fca2f3452ebcd48dedd22be013",
       "value": 4
      }
     },
     "2dd58fa47eb74ebb9fc43b9a0472725c": {
      "model_module": "@jupyter-widgets/base",
      "model_module_version": "1.2.0",
      "model_name": "LayoutModel",
      "state": {}
     },
     "2dff7c05a2b44432ab4dca5e9516c6a0": {
      "model_module": "@jupyter-widgets/base",
      "model_module_version": "1.2.0",
      "model_name": "LayoutModel",
      "state": {}
     },
     "2e0b01513cc84eb3a8d8c271a48788e1": {
      "model_module": "@jupyter-widgets/base",
      "model_module_version": "1.2.0",
      "model_name": "LayoutModel",
      "state": {}
     },
     "2e13d97a086e419e9decfd99ded09168": {
      "model_module": "@jupyter-widgets/base",
      "model_module_version": "1.2.0",
      "model_name": "LayoutModel",
      "state": {}
     },
     "2e3d4bf49ca7480680c0d46b05a0c0b7": {
      "model_module": "@jupyter-widgets/controls",
      "model_module_version": "1.5.0",
      "model_name": "ProgressStyleModel",
      "state": {
       "description_width": "initial"
      }
     },
     "2e4effc1752a4bcf82725e31ca67aab6": {
      "model_module": "@jupyter-widgets/base",
      "model_module_version": "1.2.0",
      "model_name": "LayoutModel",
      "state": {}
     },
     "2ecd7d4b13634307bd032f04f8827772": {
      "model_module": "@jupyter-widgets/controls",
      "model_module_version": "1.5.0",
      "model_name": "FloatProgressModel",
      "state": {
       "bar_style": "success",
       "layout": "IPY_MODEL_fb743c5fca7449078d8710eeb7a8291c",
       "max": 3,
       "style": "IPY_MODEL_2e3d4bf49ca7480680c0d46b05a0c0b7",
       "value": 3
      }
     },
     "2f0bb7633c754be2928d719ad97c1f47": {
      "model_module": "@jupyter-widgets/base",
      "model_module_version": "1.2.0",
      "model_name": "LayoutModel",
      "state": {}
     },
     "2fb1c09449674d7eaeed2e35ffdacec8": {
      "model_module": "@jupyter-widgets/controls",
      "model_module_version": "1.5.0",
      "model_name": "HBoxModel",
      "state": {
       "children": [
        "IPY_MODEL_e7e15c28d00e4edea681f2b86c3c4a3c",
        "IPY_MODEL_0bbbcd91587a4b33a2487dbdae24cc04"
       ],
       "layout": "IPY_MODEL_da9f2f2ff18d48da8b50924207ede76c"
      }
     },
     "30ced886de704c308ccfa2bb88d6d2d7": {
      "model_module": "@jupyter-widgets/controls",
      "model_module_version": "1.5.0",
      "model_name": "HBoxModel",
      "state": {
       "children": [
        "IPY_MODEL_56376968a88d4a8cb70bd8556a66721c",
        "IPY_MODEL_e7129604ac4c4a008d1bf188bae51869"
       ],
       "layout": "IPY_MODEL_6821a04baf7b4d2b96f969c0d34b84ff"
      }
     },
     "3131290459a24a368bf791b0507d5ac2": {
      "model_module": "@jupyter-widgets/controls",
      "model_module_version": "1.5.0",
      "model_name": "HTMLModel",
      "state": {
       "layout": "IPY_MODEL_34dd20041c464cc5b398dddf11ab40a8",
       "style": "IPY_MODEL_cf9a80c69a3240858628ac02c6461d7b",
       "value": "100%|██████████| 2/2 [00:00&lt;00:00, 20.47it/s]"
      }
     },
     "32093e5d05c549219a663f4638fbb891": {
      "model_module": "@jupyter-widgets/controls",
      "model_module_version": "1.5.0",
      "model_name": "DescriptionStyleModel",
      "state": {
       "description_width": ""
      }
     },
     "325455fb30a04fc7829498cc8b4a9ca4": {
      "model_module": "@jupyter-widgets/controls",
      "model_module_version": "1.5.0",
      "model_name": "ProgressStyleModel",
      "state": {
       "description_width": "initial"
      }
     },
     "326d1a49ba6d4e16ba92cfea64e37e04": {
      "model_module": "@jupyter-widgets/base",
      "model_module_version": "1.2.0",
      "model_name": "LayoutModel",
      "state": {}
     },
     "33214fe21803452db04969c1c0ec145c": {
      "model_module": "@jupyter-widgets/controls",
      "model_module_version": "1.5.0",
      "model_name": "HTMLModel",
      "state": {
       "layout": "IPY_MODEL_24f6a9502179486d92ca4a9e41561be2",
       "style": "IPY_MODEL_7f571a74cb8348e5a0e4404107336980",
       "value": "100%|██████████| 4/4 [00:00&lt;00:00, 109.94it/s]"
      }
     },
     "334e4b49db5b4ced9ac5b1743e6be52b": {
      "model_module": "@jupyter-widgets/controls",
      "model_module_version": "1.5.0",
      "model_name": "DescriptionStyleModel",
      "state": {
       "description_width": ""
      }
     },
     "33d6c38a3b4a42a6bd87779872f671e6": {
      "model_module": "@jupyter-widgets/controls",
      "model_module_version": "1.5.0",
      "model_name": "ProgressStyleModel",
      "state": {
       "description_width": "initial"
      }
     },
     "33d88d66bbcd49d1b6de03f7bc0e1775": {
      "model_module": "@jupyter-widgets/base",
      "model_module_version": "1.2.0",
      "model_name": "LayoutModel",
      "state": {}
     },
     "33feb0498599467b9fb916dcc077d71a": {
      "model_module": "@jupyter-widgets/base",
      "model_module_version": "1.2.0",
      "model_name": "LayoutModel",
      "state": {}
     },
     "341cea4950a446e4b42ac76a4ea65aab": {
      "model_module": "@jupyter-widgets/base",
      "model_module_version": "1.2.0",
      "model_name": "LayoutModel",
      "state": {}
     },
     "343c1f53aa9141c39d01ecd8d0995e88": {
      "model_module": "@jupyter-widgets/controls",
      "model_module_version": "1.5.0",
      "model_name": "HBoxModel",
      "state": {
       "children": [
        "IPY_MODEL_ac880afb444e47698a917fb0c51f1336",
        "IPY_MODEL_2363edc552344cd78a702031d6767670"
       ],
       "layout": "IPY_MODEL_8bbd74ddb4e84cf2ac7b1165c51c3bf8"
      }
     },
     "34a2baf852f84e4ab36e0e1aac94bf9f": {
      "model_module": "@jupyter-widgets/controls",
      "model_module_version": "1.5.0",
      "model_name": "DescriptionStyleModel",
      "state": {
       "description_width": ""
      }
     },
     "34dd20041c464cc5b398dddf11ab40a8": {
      "model_module": "@jupyter-widgets/base",
      "model_module_version": "1.2.0",
      "model_name": "LayoutModel",
      "state": {}
     },
     "350978eccc3f4fd8a309e0935f858779": {
      "model_module": "@jupyter-widgets/controls",
      "model_module_version": "1.5.0",
      "model_name": "HBoxModel",
      "state": {
       "children": [
        "IPY_MODEL_5f4a55f30e4c46bdb0707b9d73abd22a",
        "IPY_MODEL_bfaf598dc6a049e5a1d014b991cc87e8"
       ],
       "layout": "IPY_MODEL_a869f450968b4eea82c4194edf4c94bc"
      }
     },
     "3559a6c949d14460af165aca0b51b962": {
      "model_module": "@jupyter-widgets/controls",
      "model_module_version": "1.5.0",
      "model_name": "HTMLModel",
      "state": {
       "layout": "IPY_MODEL_24b0dd89d5c34af981eb8f9238ae6773",
       "style": "IPY_MODEL_32093e5d05c549219a663f4638fbb891",
       "value": "100%|██████████| 4/4 [00:00&lt;00:00, 83.80it/s]"
      }
     },
     "361fd178f6024df4943923238fe5cd6c": {
      "model_module": "@jupyter-widgets/base",
      "model_module_version": "1.2.0",
      "model_name": "LayoutModel",
      "state": {}
     },
     "36213770946d4fa3a04b8f649e9e9831": {
      "model_module": "@jupyter-widgets/base",
      "model_module_version": "1.2.0",
      "model_name": "LayoutModel",
      "state": {}
     },
     "365b3642f3f74073a00d8763879b4883": {
      "model_module": "@jupyter-widgets/controls",
      "model_module_version": "1.5.0",
      "model_name": "ProgressStyleModel",
      "state": {
       "description_width": "initial"
      }
     },
     "375975220ab746fdb7a995c49b6cbea8": {
      "model_module": "@jupyter-widgets/controls",
      "model_module_version": "1.5.0",
      "model_name": "FloatProgressModel",
      "state": {
       "bar_style": "success",
       "layout": "IPY_MODEL_f191185bb31e44ab93a145967316d9a9",
       "max": 3,
       "style": "IPY_MODEL_001cff80c8344190a0954f229a20fef6",
       "value": 3
      }
     },
     "375dd023cb6e4cd0a14de22c5cf35339": {
      "model_module": "@jupyter-widgets/controls",
      "model_module_version": "1.5.0",
      "model_name": "HTMLModel",
      "state": {
       "layout": "IPY_MODEL_ecaecfdb5887413d9ddc55ddd34d030d",
       "style": "IPY_MODEL_6f5afe1edf024f2e9da62434a5bbb35d",
       "value": "100%|██████████| 4/4 [00:00&lt;00:00, 40.63it/s]"
      }
     },
     "376f3f8f16094312a90fa1b7c7e7506b": {
      "model_module": "@jupyter-widgets/controls",
      "model_module_version": "1.5.0",
      "model_name": "ProgressStyleModel",
      "state": {
       "description_width": "initial"
      }
     },
     "37e24c1eedf549f191a53c2979c613e5": {
      "model_module": "@jupyter-widgets/controls",
      "model_module_version": "1.5.0",
      "model_name": "FloatProgressModel",
      "state": {
       "bar_style": "success",
       "layout": "IPY_MODEL_33feb0498599467b9fb916dcc077d71a",
       "max": 1,
       "style": "IPY_MODEL_094fa6a7488a4f0990a83031c9b55c5c",
       "value": 1
      }
     },
     "37e65c48e5e94c52a2f04f95e4268d14": {
      "model_module": "@jupyter-widgets/controls",
      "model_module_version": "1.5.0",
      "model_name": "DescriptionStyleModel",
      "state": {
       "description_width": ""
      }
     },
     "3917bd95d93345d3986c2a740c11876a": {
      "model_module": "@jupyter-widgets/controls",
      "model_module_version": "1.5.0",
      "model_name": "DescriptionStyleModel",
      "state": {
       "description_width": ""
      }
     },
     "3a475f9a9faf45bebd8437d1e0adcab6": {
      "model_module": "@jupyter-widgets/base",
      "model_module_version": "1.2.0",
      "model_name": "LayoutModel",
      "state": {}
     },
     "3a79ef0ce1fa47b49fba081bfe062509": {
      "model_module": "@jupyter-widgets/base",
      "model_module_version": "1.2.0",
      "model_name": "LayoutModel",
      "state": {}
     },
     "3a90a962c6e1484f85a2c2f2e7f6a852": {
      "model_module": "@jupyter-widgets/controls",
      "model_module_version": "1.5.0",
      "model_name": "HBoxModel",
      "state": {
       "children": [
        "IPY_MODEL_ffcc9d746200479fb382267e0fc84d20",
        "IPY_MODEL_33214fe21803452db04969c1c0ec145c"
       ],
       "layout": "IPY_MODEL_d7060cd544cd4e559636a0a4625844d7"
      }
     },
     "3a9f7c8b9c094c9b8ed1fb035338e7ac": {
      "model_module": "@jupyter-widgets/controls",
      "model_module_version": "1.5.0",
      "model_name": "HBoxModel",
      "state": {
       "children": [
        "IPY_MODEL_23dc38843c8c47fa9c52169541c3d6cc",
        "IPY_MODEL_557c9ff8b4204eadaa819a8f513e6320"
       ],
       "layout": "IPY_MODEL_5380761889074b28aec7ece80fc6239e"
      }
     },
     "3aae07c37bda4c52ae2b29259109f680": {
      "model_module": "@jupyter-widgets/base",
      "model_module_version": "1.2.0",
      "model_name": "LayoutModel",
      "state": {}
     },
     "3aeb5414519c4bb0bc98e14b77adde20": {
      "model_module": "@jupyter-widgets/controls",
      "model_module_version": "1.5.0",
      "model_name": "FloatProgressModel",
      "state": {
       "bar_style": "danger",
       "layout": "IPY_MODEL_92f3cb9c96a44d92ba6ef5182985eb2c",
       "max": 10,
       "style": "IPY_MODEL_7e7030ad711f41edbd9b72c81153467a",
       "value": 3
      }
     },
     "3af395286e6f41e79847b41a2ad8807d": {
      "model_module": "@jupyter-widgets/controls",
      "model_module_version": "1.5.0",
      "model_name": "HTMLModel",
      "state": {
       "layout": "IPY_MODEL_ad1fa2c3c7de4709b8e739efcf7735d9",
       "style": "IPY_MODEL_7bdfbfa767a5488ca4ae689949da15df",
       "value": "100%|██████████| 4/4 [00:00&lt;00:00, 58.68it/s]"
      }
     },
     "3bec575e544642449f320d14c716fc97": {
      "model_module": "@jupyter-widgets/controls",
      "model_module_version": "1.5.0",
      "model_name": "FloatProgressModel",
      "state": {
       "bar_style": "success",
       "layout": "IPY_MODEL_71f03a20d69841c398cb036cfde9e813",
       "max": 2,
       "style": "IPY_MODEL_eea3c30acf0a436d8ba63b23ac4445e8",
       "value": 2
      }
     },
     "3cecab56732b4115b82f88835c0684f9": {
      "model_module": "@jupyter-widgets/base",
      "model_module_version": "1.2.0",
      "model_name": "LayoutModel",
      "state": {}
     },
     "3d14c13aa3bf424cbf85f8dcdd3290d1": {
      "model_module": "@jupyter-widgets/controls",
      "model_module_version": "1.5.0",
      "model_name": "ProgressStyleModel",
      "state": {
       "description_width": "initial"
      }
     },
     "3d404067d032457087ffd7d39cfe3a52": {
      "model_module": "@jupyter-widgets/controls",
      "model_module_version": "1.5.0",
      "model_name": "HTMLModel",
      "state": {
       "layout": "IPY_MODEL_dd804a3c68d8458687cb7708542fb923",
       "style": "IPY_MODEL_9cbd85c3b5184eb3b7ce07a9118b2674",
       "value": "100%|██████████| 3/3 [01:54&lt;00:00, 38.20s/it]"
      }
     },
     "3dbb78b9f07c4612b33e25dc70cb32a8": {
      "model_module": "@jupyter-widgets/controls",
      "model_module_version": "1.5.0",
      "model_name": "FloatProgressModel",
      "state": {
       "bar_style": "success",
       "layout": "IPY_MODEL_4cbf6e5cd76a49028a3cd15eccfd611d",
       "max": 2,
       "style": "IPY_MODEL_ba358cd824514e7aacb50757efee90df",
       "value": 2
      }
     },
     "3e04697af96a44b9b5a0451e68e49067": {
      "model_module": "@jupyter-widgets/base",
      "model_module_version": "1.2.0",
      "model_name": "LayoutModel",
      "state": {}
     },
     "3e1c7737beaf49238f7869fff5f359b1": {
      "model_module": "@jupyter-widgets/controls",
      "model_module_version": "1.5.0",
      "model_name": "HTMLModel",
      "state": {
       "layout": "IPY_MODEL_dcbf943d46884b269cdb85f1d3f2747c",
       "style": "IPY_MODEL_9e8e94bf72fe48fb9251c372a7d1d07e",
       "value": "100%|██████████| 3/3 [00:29&lt;00:00,  9.99s/it]"
      }
     },
     "3e2b162a505041e1b2427b3a55f26673": {
      "model_module": "@jupyter-widgets/controls",
      "model_module_version": "1.5.0",
      "model_name": "HBoxModel",
      "state": {
       "children": [
        "IPY_MODEL_abdaa237e6024a0ebc3bf1ee3cf049d2",
        "IPY_MODEL_29053d35e61a4854a2d56ecae4b710bf"
       ],
       "layout": "IPY_MODEL_7a966fb208e944daa17ac6d644b5f6fd"
      }
     },
     "3e56eb07b4124c5f83698b38675c639b": {
      "model_module": "@jupyter-widgets/controls",
      "model_module_version": "1.5.0",
      "model_name": "DescriptionStyleModel",
      "state": {
       "description_width": ""
      }
     },
     "3e6c4d1778a24093a4acf36792905090": {
      "model_module": "@jupyter-widgets/controls",
      "model_module_version": "1.5.0",
      "model_name": "FloatProgressModel",
      "state": {
       "bar_style": "success",
       "layout": "IPY_MODEL_233c050b86064e3e919deb6edc3101ef",
       "max": 2,
       "style": "IPY_MODEL_c32d2f9176a746e48e5755608012c3b2",
       "value": 2
      }
     },
     "3e965eb2c6c44a2b8a633c9560d5abca": {
      "model_module": "@jupyter-widgets/base",
      "model_module_version": "1.2.0",
      "model_name": "LayoutModel",
      "state": {}
     },
     "3f253f9be1a6411ba010353199ee8a6e": {
      "model_module": "@jupyter-widgets/controls",
      "model_module_version": "1.5.0",
      "model_name": "DescriptionStyleModel",
      "state": {
       "description_width": ""
      }
     },
     "3fb41c37e6d04211b146f64ff56904f1": {
      "model_module": "@jupyter-widgets/base",
      "model_module_version": "1.2.0",
      "model_name": "LayoutModel",
      "state": {}
     },
     "3fc12c7e53ce46d1996fcda66820b677": {
      "model_module": "@jupyter-widgets/base",
      "model_module_version": "1.2.0",
      "model_name": "LayoutModel",
      "state": {}
     },
     "3fe6ab20145b49678c865954338bd8f5": {
      "model_module": "@jupyter-widgets/controls",
      "model_module_version": "1.5.0",
      "model_name": "DescriptionStyleModel",
      "state": {
       "description_width": ""
      }
     },
     "400aaeadfbfb4f718e21c4d91b8f79ad": {
      "model_module": "@jupyter-widgets/controls",
      "model_module_version": "1.5.0",
      "model_name": "ProgressStyleModel",
      "state": {
       "description_width": "initial"
      }
     },
     "401a9efc24004e4484854ca507d0cfbb": {
      "model_module": "@jupyter-widgets/controls",
      "model_module_version": "1.5.0",
      "model_name": "HTMLModel",
      "state": {
       "layout": "IPY_MODEL_57b757c1a1684fa9a3bbffd441ac8a6a",
       "style": "IPY_MODEL_e658d057f2ea4f5aa53886fa966d61a9",
       "value": "100%|██████████| 2/2 [01:04&lt;00:00, 32.22s/it]"
      }
     },
     "406529256a9042b4872d5ac9cb6f564e": {
      "model_module": "@jupyter-widgets/controls",
      "model_module_version": "1.5.0",
      "model_name": "DescriptionStyleModel",
      "state": {
       "description_width": ""
      }
     },
     "40a40919b4db47bab4ca4e5433736a19": {
      "model_module": "@jupyter-widgets/base",
      "model_module_version": "1.2.0",
      "model_name": "LayoutModel",
      "state": {}
     },
     "415d7d93178141d48875dde39de8fc10": {
      "model_module": "@jupyter-widgets/controls",
      "model_module_version": "1.5.0",
      "model_name": "DescriptionStyleModel",
      "state": {
       "description_width": ""
      }
     },
     "41bf915fe5e24169af446cd6bd679eb1": {
      "model_module": "@jupyter-widgets/controls",
      "model_module_version": "1.5.0",
      "model_name": "FloatProgressModel",
      "state": {
       "bar_style": "danger",
       "layout": "IPY_MODEL_2e4effc1752a4bcf82725e31ca67aab6",
       "max": 10,
       "style": "IPY_MODEL_bbe150cfee0248f3b8b2e86b8d87385a",
       "value": 4
      }
     },
     "41c5d590127849b688ff22248c9fb193": {
      "model_module": "@jupyter-widgets/controls",
      "model_module_version": "1.5.0",
      "model_name": "FloatProgressModel",
      "state": {
       "bar_style": "success",
       "layout": "IPY_MODEL_528b932d8e334ac8b71366078b1ef05d",
       "max": 2,
       "style": "IPY_MODEL_64af79051ade42768223f93d8393ca39",
       "value": 2
      }
     },
     "42205c4d763d46a09be694001d7611e2": {
      "model_module": "@jupyter-widgets/base",
      "model_module_version": "1.2.0",
      "model_name": "LayoutModel",
      "state": {}
     },
     "42427a1141f74e068a89b89c6519f104": {
      "model_module": "@jupyter-widgets/base",
      "model_module_version": "1.2.0",
      "model_name": "LayoutModel",
      "state": {}
     },
     "42c89f953734401aa35def10c7bd6a35": {
      "model_module": "@jupyter-widgets/base",
      "model_module_version": "1.2.0",
      "model_name": "LayoutModel",
      "state": {}
     },
     "434f6f2c4a184914bb4a032eef8cbe6a": {
      "model_module": "@jupyter-widgets/base",
      "model_module_version": "1.2.0",
      "model_name": "LayoutModel",
      "state": {}
     },
     "434fbb51cded4095810a5422c2677ea1": {
      "model_module": "@jupyter-widgets/base",
      "model_module_version": "1.2.0",
      "model_name": "LayoutModel",
      "state": {}
     },
     "43554313dfc24e30bcd2c36de7dddf53": {
      "model_module": "@jupyter-widgets/controls",
      "model_module_version": "1.5.0",
      "model_name": "ProgressStyleModel",
      "state": {
       "description_width": "initial"
      }
     },
     "437d6abffbdf4d3b8968b8dc2146088a": {
      "model_module": "@jupyter-widgets/controls",
      "model_module_version": "1.5.0",
      "model_name": "ProgressStyleModel",
      "state": {
       "description_width": "initial"
      }
     },
     "43ee574f8fd04b968496d2eb40c0f163": {
      "model_module": "@jupyter-widgets/controls",
      "model_module_version": "1.5.0",
      "model_name": "HBoxModel",
      "state": {
       "children": [
        "IPY_MODEL_e7deea3b7ffb4556a5b78bd622236fd7",
        "IPY_MODEL_cac8e537878e4318b434eb8985272cf8"
       ],
       "layout": "IPY_MODEL_2cb5e01a495f42c3b5b3b80d1b235cb1"
      }
     },
     "44067e06633a4f939fb183e375e71b1d": {
      "model_module": "@jupyter-widgets/base",
      "model_module_version": "1.2.0",
      "model_name": "LayoutModel",
      "state": {}
     },
     "443b2c45d56147ab96d8e32879d26602": {
      "model_module": "@jupyter-widgets/controls",
      "model_module_version": "1.5.0",
      "model_name": "HBoxModel",
      "state": {
       "children": [
        "IPY_MODEL_41c5d590127849b688ff22248c9fb193",
        "IPY_MODEL_d87aa01c1a404001b366a23c8f297870"
       ],
       "layout": "IPY_MODEL_88b454c9c3bb4bc299a5d066889e1bfe"
      }
     },
     "44463324bf1b4407a1a4ce543ff6881e": {
      "model_module": "@jupyter-widgets/base",
      "model_module_version": "1.2.0",
      "model_name": "LayoutModel",
      "state": {}
     },
     "445fc9e69fe84bac840a401322103063": {
      "model_module": "@jupyter-widgets/base",
      "model_module_version": "1.2.0",
      "model_name": "LayoutModel",
      "state": {}
     },
     "450a16c652f74cb297f1b624855bfaf3": {
      "model_module": "@jupyter-widgets/controls",
      "model_module_version": "1.5.0",
      "model_name": "HBoxModel",
      "state": {
       "children": [
        "IPY_MODEL_dab5bdaadf9b4dc692a4e77393b14db3",
        "IPY_MODEL_d501da4f7f4b47c0adaf8786411280ca"
       ],
       "layout": "IPY_MODEL_a1fcacaf0f9648d48879ce1cb9017244"
      }
     },
     "46cd3ec5a58b40d2ac7381932e13c3b2": {
      "model_module": "@jupyter-widgets/controls",
      "model_module_version": "1.5.0",
      "model_name": "HTMLModel",
      "state": {
       "layout": "IPY_MODEL_9b51a4ec684d46069aa5739476a01a79",
       "style": "IPY_MODEL_3fe6ab20145b49678c865954338bd8f5",
       "value": "100%|██████████| 4/4 [03:02&lt;00:00, 45.63s/it]"
      }
     },
     "46daeff74a3c4c0387179aad87febae0": {
      "model_module": "@jupyter-widgets/base",
      "model_module_version": "1.2.0",
      "model_name": "LayoutModel",
      "state": {}
     },
     "47af3b4a83c4454d800cd4df048d4d4e": {
      "model_module": "@jupyter-widgets/controls",
      "model_module_version": "1.5.0",
      "model_name": "FloatProgressModel",
      "state": {
       "bar_style": "success",
       "layout": "IPY_MODEL_434fbb51cded4095810a5422c2677ea1",
       "max": 3,
       "style": "IPY_MODEL_54813d0fd21f4c58947a763fbe37a022",
       "value": 3
      }
     },
     "48408ce7522f4079a3f28cdb73f0f519": {
      "model_module": "@jupyter-widgets/controls",
      "model_module_version": "1.5.0",
      "model_name": "ProgressStyleModel",
      "state": {
       "description_width": "initial"
      }
     },
     "48a547ab99184688a3aa4d6acb5c8246": {
      "model_module": "@jupyter-widgets/controls",
      "model_module_version": "1.5.0",
      "model_name": "DescriptionStyleModel",
      "state": {
       "description_width": ""
      }
     },
     "490ea04bcf564a2a8aa96372f478c787": {
      "model_module": "@jupyter-widgets/controls",
      "model_module_version": "1.5.0",
      "model_name": "HBoxModel",
      "state": {
       "children": [
        "IPY_MODEL_47af3b4a83c4454d800cd4df048d4d4e",
        "IPY_MODEL_a0d6a97b1e4a468ab8e993a74d24248f"
       ],
       "layout": "IPY_MODEL_650bf50ea4c248d7ba118d5034430cde"
      }
     },
     "497c9462417141ae9e1f1213058933fd": {
      "model_module": "@jupyter-widgets/controls",
      "model_module_version": "1.5.0",
      "model_name": "FloatProgressModel",
      "state": {
       "bar_style": "success",
       "layout": "IPY_MODEL_64830a2dc9764d7a9ffbf44166c9f941",
       "max": 4,
       "style": "IPY_MODEL_802bba38fa9845e4af282a7203355a9a",
       "value": 4
      }
     },
     "49fd3f892e454e8c9f1d4366d5506692": {
      "model_module": "@jupyter-widgets/controls",
      "model_module_version": "1.5.0",
      "model_name": "DescriptionStyleModel",
      "state": {
       "description_width": ""
      }
     },
     "4ab9d4d08fe042a48a0b6b8b25ca304f": {
      "model_module": "@jupyter-widgets/controls",
      "model_module_version": "1.5.0",
      "model_name": "HTMLModel",
      "state": {
       "layout": "IPY_MODEL_dcfdfcc8a98d4e7582c22b5908c9e3f8",
       "style": "IPY_MODEL_d9a8c31e5ee6418ebfdf2c5960c0f434",
       "value": "100%|██████████| 1/1 [03:06&lt;00:00, 186.93s/it]"
      }
     },
     "4add56733c7c4b29bc91b5e84417eea8": {
      "model_module": "@jupyter-widgets/controls",
      "model_module_version": "1.5.0",
      "model_name": "HBoxModel",
      "state": {
       "children": [
        "IPY_MODEL_50957f10208e4acc823523da661995df",
        "IPY_MODEL_9e145a15202544dd9c4187792c71ddd3"
       ],
       "layout": "IPY_MODEL_60effc682cb04abb9d1fc2424b03fd81"
      }
     },
     "4b03061983ab4fa8bb6aa5ac6d45244a": {
      "model_module": "@jupyter-widgets/controls",
      "model_module_version": "1.5.0",
      "model_name": "FloatProgressModel",
      "state": {
       "bar_style": "danger",
       "layout": "IPY_MODEL_74319ad714a14511857cde666db6d557",
       "max": 10,
       "style": "IPY_MODEL_2417f74bfec44d72bb23828e8d1dc8fa",
       "value": 2
      }
     },
     "4b24e7784d3a41a89d4fab791b537667": {
      "model_module": "@jupyter-widgets/base",
      "model_module_version": "1.2.0",
      "model_name": "LayoutModel",
      "state": {}
     },
     "4c2d037785f44073a45ebe4b7bceb119": {
      "model_module": "@jupyter-widgets/controls",
      "model_module_version": "1.5.0",
      "model_name": "ProgressStyleModel",
      "state": {
       "description_width": "initial"
      }
     },
     "4c56e29fb6094c74b7aaef925cd4776b": {
      "model_module": "@jupyter-widgets/base",
      "model_module_version": "1.2.0",
      "model_name": "LayoutModel",
      "state": {}
     },
     "4c6201dcccd2444294d5f4abed11b9bf": {
      "model_module": "@jupyter-widgets/base",
      "model_module_version": "1.2.0",
      "model_name": "LayoutModel",
      "state": {}
     },
     "4cbf6e5cd76a49028a3cd15eccfd611d": {
      "model_module": "@jupyter-widgets/base",
      "model_module_version": "1.2.0",
      "model_name": "LayoutModel",
      "state": {}
     },
     "4e14456f24e3476482f6051892aa963f": {
      "model_module": "@jupyter-widgets/controls",
      "model_module_version": "1.5.0",
      "model_name": "ProgressStyleModel",
      "state": {
       "description_width": "initial"
      }
     },
     "4e9b229ad288488a896e429598cccafc": {
      "model_module": "@jupyter-widgets/controls",
      "model_module_version": "1.5.0",
      "model_name": "HBoxModel",
      "state": {
       "children": [
        "IPY_MODEL_04faca0b4a974d33864cae0981458021",
        "IPY_MODEL_53508f7859e94333bf8946f30265059f"
       ],
       "layout": "IPY_MODEL_2522375ee0ed401f8211c19a6c60b7ab"
      }
     },
     "4f2fb2cf8a774a1a875b96751fdb7e01": {
      "model_module": "@jupyter-widgets/controls",
      "model_module_version": "1.5.0",
      "model_name": "DescriptionStyleModel",
      "state": {
       "description_width": ""
      }
     },
     "4f36506254d64cc8b50cdffa2280e2e9": {
      "model_module": "@jupyter-widgets/controls",
      "model_module_version": "1.5.0",
      "model_name": "FloatProgressModel",
      "state": {
       "bar_style": "success",
       "layout": "IPY_MODEL_d4f90987f62a4d0fae6ad02c961906da",
       "max": 3,
       "style": "IPY_MODEL_17031daff4514716b0d7324fca5ca1eb",
       "value": 3
      }
     },
     "4f3919732ec54968838a82e4164de791": {
      "model_module": "@jupyter-widgets/controls",
      "model_module_version": "1.5.0",
      "model_name": "HTMLModel",
      "state": {
       "layout": "IPY_MODEL_bdb8f50366bb49788bbb3b3c55b2a807",
       "style": "IPY_MODEL_d10abb00e13346aa807b1809157ea264",
       "value": "100%|██████████| 2/2 [00:00&lt;00:00, 15.04it/s]"
      }
     },
     "4f64b9bc0dc7440d8730507081771708": {
      "model_module": "@jupyter-widgets/base",
      "model_module_version": "1.2.0",
      "model_name": "LayoutModel",
      "state": {}
     },
     "50957f10208e4acc823523da661995df": {
      "model_module": "@jupyter-widgets/controls",
      "model_module_version": "1.5.0",
      "model_name": "FloatProgressModel",
      "state": {
       "bar_style": "danger",
       "layout": "IPY_MODEL_67e0acf4a04744bdb41dc8ef85d022b7",
       "max": 10,
       "style": "IPY_MODEL_da6ae039341e44e799c58330f8415611",
       "value": 3
      }
     },
     "50c0fddfbe514fedbabcf81fe9c4338d": {
      "model_module": "@jupyter-widgets/base",
      "model_module_version": "1.2.0",
      "model_name": "LayoutModel",
      "state": {}
     },
     "510406326fd248ae9843bce799c4be3a": {
      "model_module": "@jupyter-widgets/base",
      "model_module_version": "1.2.0",
      "model_name": "LayoutModel",
      "state": {}
     },
     "511eed43ecd342c3bd01a9a316f03381": {
      "model_module": "@jupyter-widgets/base",
      "model_module_version": "1.2.0",
      "model_name": "LayoutModel",
      "state": {}
     },
     "512b34a31e974704873da8588515a045": {
      "model_module": "@jupyter-widgets/controls",
      "model_module_version": "1.5.0",
      "model_name": "HBoxModel",
      "state": {
       "children": [
        "IPY_MODEL_24e06d33644d41ea9680321d929e74cf",
        "IPY_MODEL_ade9d2d64aff4d2a9c48c0a3e8c1d5a2"
       ],
       "layout": "IPY_MODEL_faa7547a99244334acb1b2828bf2a137"
      }
     },
     "519806b7bc1f489cbf967308d3a9f068": {
      "model_module": "@jupyter-widgets/controls",
      "model_module_version": "1.5.0",
      "model_name": "HBoxModel",
      "state": {
       "children": [
        "IPY_MODEL_5e2bc033b61742e6a2ad0ac5b45ea496",
        "IPY_MODEL_e157f92d578945679987961e05071a22"
       ],
       "layout": "IPY_MODEL_667af22b14aa407caf07b96b2b9019af"
      }
     },
     "51d414768801450d89e40640423963f1": {
      "model_module": "@jupyter-widgets/controls",
      "model_module_version": "1.5.0",
      "model_name": "HTMLModel",
      "state": {
       "layout": "IPY_MODEL_445fc9e69fe84bac840a401322103063",
       "style": "IPY_MODEL_cb94cb83ea28488ea5c2f694f2b5502d",
       "value": "100%|██████████| 2/2 [00:00&lt;00:00, 51.60it/s]"
      }
     },
     "528b932d8e334ac8b71366078b1ef05d": {
      "model_module": "@jupyter-widgets/base",
      "model_module_version": "1.2.0",
      "model_name": "LayoutModel",
      "state": {}
     },
     "529e543b37bc449f81c650362ada1025": {
      "model_module": "@jupyter-widgets/base",
      "model_module_version": "1.2.0",
      "model_name": "LayoutModel",
      "state": {}
     },
     "52f348799c2645f58081ac7b6ccf4a9d": {
      "model_module": "@jupyter-widgets/controls",
      "model_module_version": "1.5.0",
      "model_name": "HBoxModel",
      "state": {
       "children": [
        "IPY_MODEL_497c9462417141ae9e1f1213058933fd",
        "IPY_MODEL_fa23a1a147874da2a3e44e21ba1a64a2"
       ],
       "layout": "IPY_MODEL_b9323a5737db467a8b6257b8cc7e3557"
      }
     },
     "53508f7859e94333bf8946f30265059f": {
      "model_module": "@jupyter-widgets/controls",
      "model_module_version": "1.5.0",
      "model_name": "HTMLModel",
      "state": {
       "layout": "IPY_MODEL_44463324bf1b4407a1a4ce543ff6881e",
       "style": "IPY_MODEL_26dd433b356846b4ab4f8b396fb8411f",
       "value": "100%|██████████| 3/3 [00:00&lt;00:00, 22.93it/s]"
      }
     },
     "5380761889074b28aec7ece80fc6239e": {
      "model_module": "@jupyter-widgets/base",
      "model_module_version": "1.2.0",
      "model_name": "LayoutModel",
      "state": {}
     },
     "53bbb30d1cc544fface5ab0a289b0fce": {
      "model_module": "@jupyter-widgets/base",
      "model_module_version": "1.2.0",
      "model_name": "LayoutModel",
      "state": {}
     },
     "53c085a1afc64dcdb3b318cac2d7479c": {
      "model_module": "@jupyter-widgets/controls",
      "model_module_version": "1.5.0",
      "model_name": "DescriptionStyleModel",
      "state": {
       "description_width": ""
      }
     },
     "53caae027e1a40c1b2a331ffc44bd5eb": {
      "model_module": "@jupyter-widgets/controls",
      "model_module_version": "1.5.0",
      "model_name": "FloatProgressModel",
      "state": {
       "bar_style": "success",
       "layout": "IPY_MODEL_bc57992ed5134541af898e574dcb454f",
       "max": 3,
       "style": "IPY_MODEL_b611aefc642f4326b74a48906050dbb0",
       "value": 3
      }
     },
     "53da886ffe6145589e714507077e9fcb": {
      "model_module": "@jupyter-widgets/controls",
      "model_module_version": "1.5.0",
      "model_name": "ProgressStyleModel",
      "state": {
       "description_width": "initial"
      }
     },
     "54019823262e4f1aaa26f045b60490ab": {
      "model_module": "@jupyter-widgets/controls",
      "model_module_version": "1.5.0",
      "model_name": "HBoxModel",
      "state": {
       "children": [
        "IPY_MODEL_79ae6c33f0b34a48b2aca441c00d38b2",
        "IPY_MODEL_5ff6ea681e12496c9a8b87527d5793ca"
       ],
       "layout": "IPY_MODEL_2d41a267d60643bea6b09249277fb072"
      }
     },
     "5453aea595b8408abbc28504ee4c2cbf": {
      "model_module": "@jupyter-widgets/base",
      "model_module_version": "1.2.0",
      "model_name": "LayoutModel",
      "state": {}
     },
     "54813d0fd21f4c58947a763fbe37a022": {
      "model_module": "@jupyter-widgets/controls",
      "model_module_version": "1.5.0",
      "model_name": "ProgressStyleModel",
      "state": {
       "description_width": "initial"
      }
     },
     "54d6dff1086646d898267606598cddd8": {
      "model_module": "@jupyter-widgets/controls",
      "model_module_version": "1.5.0",
      "model_name": "HTMLModel",
      "state": {
       "layout": "IPY_MODEL_79287551fc8f494ea1c90e6bce2e8c1d",
       "style": "IPY_MODEL_e781f56a3fe646028abd901cd67ce961",
       "value": "100%|██████████| 4/4 [00:00&lt;00:00, 45.48it/s]"
      }
     },
     "5565d8ce5f934a9db5fbd15d005fbfd7": {
      "model_module": "@jupyter-widgets/controls",
      "model_module_version": "1.5.0",
      "model_name": "FloatProgressModel",
      "state": {
       "bar_style": "success",
       "layout": "IPY_MODEL_1a4e7fbb65cd4f6d926f884ee6e71a5c",
       "max": 4,
       "style": "IPY_MODEL_994a4d0f045c4093bfa936270f73333c",
       "value": 4
      }
     },
     "557c9ff8b4204eadaa819a8f513e6320": {
      "model_module": "@jupyter-widgets/controls",
      "model_module_version": "1.5.0",
      "model_name": "HTMLModel",
      "state": {
       "layout": "IPY_MODEL_28f9a207dcb54d1681054145d105761a",
       "style": "IPY_MODEL_3e56eb07b4124c5f83698b38675c639b",
       "value": "100%|██████████| 1/1 [1:04:37&lt;00:00, 3877.46s/it]"
      }
     },
     "5617fc57cb224602b262e3a4d88e4dc9": {
      "model_module": "@jupyter-widgets/controls",
      "model_module_version": "1.5.0",
      "model_name": "HBoxModel",
      "state": {
       "children": [
        "IPY_MODEL_db609c1b0a2145519e80a82ec45a9e70",
        "IPY_MODEL_c4a93541801a4c30806a0361f75d50fa"
       ],
       "layout": "IPY_MODEL_44067e06633a4f939fb183e375e71b1d"
      }
     },
     "56376968a88d4a8cb70bd8556a66721c": {
      "model_module": "@jupyter-widgets/controls",
      "model_module_version": "1.5.0",
      "model_name": "FloatProgressModel",
      "state": {
       "bar_style": "success",
       "layout": "IPY_MODEL_fe2f24efd3214e198f35cf109cb135ae",
       "max": 2,
       "style": "IPY_MODEL_437d6abffbdf4d3b8968b8dc2146088a",
       "value": 2
      }
     },
     "56f15f137382433aacaf598eeb00220d": {
      "model_module": "@jupyter-widgets/controls",
      "model_module_version": "1.5.0",
      "model_name": "DescriptionStyleModel",
      "state": {
       "description_width": ""
      }
     },
     "57394936263e4ef7a81165394b000063": {
      "model_module": "@jupyter-widgets/base",
      "model_module_version": "1.2.0",
      "model_name": "LayoutModel",
      "state": {}
     },
     "577862e0012248d485b76b4c913b3638": {
      "model_module": "@jupyter-widgets/controls",
      "model_module_version": "1.5.0",
      "model_name": "DescriptionStyleModel",
      "state": {
       "description_width": ""
      }
     },
     "57b757c1a1684fa9a3bbffd441ac8a6a": {
      "model_module": "@jupyter-widgets/base",
      "model_module_version": "1.2.0",
      "model_name": "LayoutModel",
      "state": {}
     },
     "57bd4318eb4144518bc059ecf88217dc": {
      "model_module": "@jupyter-widgets/controls",
      "model_module_version": "1.5.0",
      "model_name": "ProgressStyleModel",
      "state": {
       "description_width": "initial"
      }
     },
     "57d9bfb506724cffbcef4cc825b05c6e": {
      "model_module": "@jupyter-widgets/base",
      "model_module_version": "1.2.0",
      "model_name": "LayoutModel",
      "state": {}
     },
     "5876d5de25704dd2a5cc73214a49d939": {
      "model_module": "@jupyter-widgets/controls",
      "model_module_version": "1.5.0",
      "model_name": "HBoxModel",
      "state": {
       "children": [
        "IPY_MODEL_18b3a5ea952940f4bef2a4ab20a6a100",
        "IPY_MODEL_cc6c296b1e0f4ba098dc6822b9a896dc"
       ],
       "layout": "IPY_MODEL_cfc559960ec34573898a3065ab26c47d"
      }
     },
     "58b9e206fe2648f895aa372feb6db74a": {
      "model_module": "@jupyter-widgets/base",
      "model_module_version": "1.2.0",
      "model_name": "LayoutModel",
      "state": {}
     },
     "59d41eefc16e4ae3812cefcd6f7cb555": {
      "model_module": "@jupyter-widgets/controls",
      "model_module_version": "1.5.0",
      "model_name": "HBoxModel",
      "state": {
       "children": [
        "IPY_MODEL_e727fb21868d4c5aa35f35066b4abfea",
        "IPY_MODEL_3d404067d032457087ffd7d39cfe3a52"
       ],
       "layout": "IPY_MODEL_711c2b2c3c834938b02ab72c126a2a4a"
      }
     },
     "5a5058864ca8481199fbd9aa84b17061": {
      "model_module": "@jupyter-widgets/controls",
      "model_module_version": "1.5.0",
      "model_name": "ProgressStyleModel",
      "state": {
       "description_width": "initial"
      }
     },
     "5aa8b5fc06224be7a963430a7d1da5f8": {
      "model_module": "@jupyter-widgets/controls",
      "model_module_version": "1.5.0",
      "model_name": "FloatProgressModel",
      "state": {
       "bar_style": "success",
       "layout": "IPY_MODEL_7c7747a72e0f467e9a4c4259745b65fe",
       "max": 2,
       "style": "IPY_MODEL_9b29d945b5244451bcfb75d53be9330f",
       "value": 2
      }
     },
     "5af774909995456e8223ee4d845297d1": {
      "model_module": "@jupyter-widgets/controls",
      "model_module_version": "1.5.0",
      "model_name": "HTMLModel",
      "state": {
       "layout": "IPY_MODEL_f4ff59720d794da79287bab4d158f2dc",
       "style": "IPY_MODEL_2d0551d7b05d4a00abcf69651f5e8a61",
       "value": "100%|██████████| 2/2 [02:59&lt;00:00, 89.52s/it]"
      }
     },
     "5b77403ed9f64d22bbf8276e19e00e58": {
      "model_module": "@jupyter-widgets/controls",
      "model_module_version": "1.5.0",
      "model_name": "HBoxModel",
      "state": {
       "children": [
        "IPY_MODEL_f8738530fc5241d7b4f2bdf35330624f",
        "IPY_MODEL_eeee82de7659445487569f4fb513a2df"
       ],
       "layout": "IPY_MODEL_8336473def0d4cc287194329d8f8c3fa"
      }
     },
     "5d0176866a7140699fc7a9fc10823614": {
      "model_module": "@jupyter-widgets/controls",
      "model_module_version": "1.5.0",
      "model_name": "FloatProgressModel",
      "state": {
       "bar_style": "success",
       "layout": "IPY_MODEL_9858faff92f94ee3a9b45b5fb9c3d520",
       "max": 1,
       "style": "IPY_MODEL_8e3bf78e766e45129d58a9a527ac4210",
       "value": 1
      }
     },
     "5e16afcf261c436bb36bee4c833eb2af": {
      "model_module": "@jupyter-widgets/controls",
      "model_module_version": "1.5.0",
      "model_name": "DescriptionStyleModel",
      "state": {
       "description_width": ""
      }
     },
     "5e2bc033b61742e6a2ad0ac5b45ea496": {
      "model_module": "@jupyter-widgets/controls",
      "model_module_version": "1.5.0",
      "model_name": "FloatProgressModel",
      "state": {
       "bar_style": "success",
       "layout": "IPY_MODEL_23f6c16ab05044e2b31bea6e9430d96a",
       "max": 4,
       "style": "IPY_MODEL_c751957c777441cda71fcb7069dbabe0",
       "value": 4
      }
     },
     "5ecc5ecc829d4565905d0cb02a61d49f": {
      "model_module": "@jupyter-widgets/base",
      "model_module_version": "1.2.0",
      "model_name": "LayoutModel",
      "state": {}
     },
     "5ed3d5b865a04f71b524f1aa8effc123": {
      "model_module": "@jupyter-widgets/controls",
      "model_module_version": "1.5.0",
      "model_name": "ProgressStyleModel",
      "state": {
       "description_width": "initial"
      }
     },
     "5ed6043cb07d466b8447db8f046da75b": {
      "model_module": "@jupyter-widgets/controls",
      "model_module_version": "1.5.0",
      "model_name": "HBoxModel",
      "state": {
       "children": [
        "IPY_MODEL_ee51dd6c84614bd18fa2df6477aac318",
        "IPY_MODEL_46cd3ec5a58b40d2ac7381932e13c3b2"
       ],
       "layout": "IPY_MODEL_09263fe48b86420884549d8d203a3986"
      }
     },
     "5f4a55f30e4c46bdb0707b9d73abd22a": {
      "model_module": "@jupyter-widgets/controls",
      "model_module_version": "1.5.0",
      "model_name": "FloatProgressModel",
      "state": {
       "bar_style": "success",
       "layout": "IPY_MODEL_d1f3e06ff1ac4a5684d4bb827ae611e8",
       "max": 2,
       "style": "IPY_MODEL_cbb32958b98648bc96206da9cf249bcb",
       "value": 2
      }
     },
     "5ff6ea681e12496c9a8b87527d5793ca": {
      "model_module": "@jupyter-widgets/controls",
      "model_module_version": "1.5.0",
      "model_name": "HTMLModel",
      "state": {
       "layout": "IPY_MODEL_7506d8257aff4ccaa3dda3f69da64c74",
       "style": "IPY_MODEL_c6f1ac4b9ffb4c5fa91dde588a2ca0c3",
       "value": "100%|██████████| 2/2 [00:00&lt;00:00, 20.78it/s]"
      }
     },
     "60a6804f3c9947ab8b6128e102cda363": {
      "model_module": "@jupyter-widgets/controls",
      "model_module_version": "1.5.0",
      "model_name": "HTMLModel",
      "state": {
       "layout": "IPY_MODEL_69ed26a5aa834b3daa9a62900f4d95bf",
       "style": "IPY_MODEL_e52d94618ecd4fd7a05cf27eb8874a5c",
       "value": "100%|██████████| 1/1 [00:59&lt;00:00, 59.45s/it]"
      }
     },
     "60b36c0aeb7c46dabc844b033d72cd12": {
      "model_module": "@jupyter-widgets/controls",
      "model_module_version": "1.5.0",
      "model_name": "ProgressStyleModel",
      "state": {
       "description_width": "initial"
      }
     },
     "60cdf8ff6a6a4c54857cd7306edb6e23": {
      "model_module": "@jupyter-widgets/controls",
      "model_module_version": "1.5.0",
      "model_name": "FloatProgressModel",
      "state": {
       "bar_style": "success",
       "layout": "IPY_MODEL_a70099e4fdd149db9cda1a25b20a9595",
       "max": 4,
       "style": "IPY_MODEL_269cb5dfec2b4efeb51dcfabfa0dd63f",
       "value": 4
      }
     },
     "60e361c04f4c41ba8d485edb0f1e67e6": {
      "model_module": "@jupyter-widgets/controls",
      "model_module_version": "1.5.0",
      "model_name": "DescriptionStyleModel",
      "state": {
       "description_width": ""
      }
     },
     "60effc682cb04abb9d1fc2424b03fd81": {
      "model_module": "@jupyter-widgets/base",
      "model_module_version": "1.2.0",
      "model_name": "LayoutModel",
      "state": {}
     },
     "61037ad6b83347fb8c23363241ac2ffe": {
      "model_module": "@jupyter-widgets/controls",
      "model_module_version": "1.5.0",
      "model_name": "ProgressStyleModel",
      "state": {
       "description_width": "initial"
      }
     },
     "611b8e8e3ab04fcea47be7d7aacda967": {
      "model_module": "@jupyter-widgets/controls",
      "model_module_version": "1.5.0",
      "model_name": "DescriptionStyleModel",
      "state": {
       "description_width": ""
      }
     },
     "61a9b7a3d6314e6c87059973c06570e8": {
      "model_module": "@jupyter-widgets/controls",
      "model_module_version": "1.5.0",
      "model_name": "HTMLModel",
      "state": {
       "layout": "IPY_MODEL_0d47fed252fe412b92a9d9aa890e2d1a",
       "style": "IPY_MODEL_af21340d695240e0b0207dbc2ba10bcd",
       "value": " 20%|██        | 2/10 [00:50&lt;03:20, 25.09s/it]"
      }
     },
     "61bda3ce769349ad8a7df76fab9ebb3d": {
      "model_module": "@jupyter-widgets/base",
      "model_module_version": "1.2.0",
      "model_name": "LayoutModel",
      "state": {}
     },
     "61cd4132987e4cfd9f83b1279c8db907": {
      "model_module": "@jupyter-widgets/controls",
      "model_module_version": "1.5.0",
      "model_name": "HTMLModel",
      "state": {
       "layout": "IPY_MODEL_00890540aaf84dad93a133e1f95272fe",
       "style": "IPY_MODEL_e9d1b7eb860f4d0cac864f0faa8f8e6c",
       "value": "100%|██████████| 2/2 [00:00&lt;00:00, 13.75it/s]"
      }
     },
     "620f849e5db7421f93c1cbffc7bd6351": {
      "model_module": "@jupyter-widgets/base",
      "model_module_version": "1.2.0",
      "model_name": "LayoutModel",
      "state": {}
     },
     "62e4db1ba7fb4a26a305e8cc3725400a": {
      "model_module": "@jupyter-widgets/controls",
      "model_module_version": "1.5.0",
      "model_name": "DescriptionStyleModel",
      "state": {
       "description_width": ""
      }
     },
     "63455d8f3a164558a8cfde426747b019": {
      "model_module": "@jupyter-widgets/controls",
      "model_module_version": "1.5.0",
      "model_name": "HBoxModel",
      "state": {
       "children": [
        "IPY_MODEL_1e8bfa6ff14d4a5bb18c27e80eb5e23c",
        "IPY_MODEL_3559a6c949d14460af165aca0b51b962"
       ],
       "layout": "IPY_MODEL_8b3097bbf04946ef801c8c169d53c525"
      }
     },
     "6350b5b874544b82bf0e210f3fcd0233": {
      "model_module": "@jupyter-widgets/controls",
      "model_module_version": "1.5.0",
      "model_name": "ProgressStyleModel",
      "state": {
       "description_width": "initial"
      }
     },
     "63627e82376240259537ed30d7256b47": {
      "model_module": "@jupyter-widgets/base",
      "model_module_version": "1.2.0",
      "model_name": "LayoutModel",
      "state": {}
     },
     "6387e11568794a5c99336c0131bac589": {
      "model_module": "@jupyter-widgets/controls",
      "model_module_version": "1.5.0",
      "model_name": "ProgressStyleModel",
      "state": {
       "description_width": "initial"
      }
     },
     "63a069b5195b42c4b8e1d95bb628bad7": {
      "model_module": "@jupyter-widgets/base",
      "model_module_version": "1.2.0",
      "model_name": "LayoutModel",
      "state": {}
     },
     "63a55e86a61b42339b0c436e2d6f8d8a": {
      "model_module": "@jupyter-widgets/controls",
      "model_module_version": "1.5.0",
      "model_name": "FloatProgressModel",
      "state": {
       "bar_style": "success",
       "layout": "IPY_MODEL_7d668651d1494dfb9304754399580c96",
       "max": 2,
       "style": "IPY_MODEL_85bf890d499042a89e7451e66ee2d2b7",
       "value": 2
      }
     },
     "63fa258bedb846c1b88ada0e28f3e70c": {
      "model_module": "@jupyter-widgets/controls",
      "model_module_version": "1.5.0",
      "model_name": "ProgressStyleModel",
      "state": {
       "description_width": "initial"
      }
     },
     "64830a2dc9764d7a9ffbf44166c9f941": {
      "model_module": "@jupyter-widgets/base",
      "model_module_version": "1.2.0",
      "model_name": "LayoutModel",
      "state": {}
     },
     "649832abba834723b51d873b4a2f5010": {
      "model_module": "@jupyter-widgets/base",
      "model_module_version": "1.2.0",
      "model_name": "LayoutModel",
      "state": {}
     },
     "64af79051ade42768223f93d8393ca39": {
      "model_module": "@jupyter-widgets/controls",
      "model_module_version": "1.5.0",
      "model_name": "ProgressStyleModel",
      "state": {
       "description_width": "initial"
      }
     },
     "64d0cc1cd3e045a78f154a157c9693c7": {
      "model_module": "@jupyter-widgets/controls",
      "model_module_version": "1.5.0",
      "model_name": "HTMLModel",
      "state": {
       "layout": "IPY_MODEL_33d88d66bbcd49d1b6de03f7bc0e1775",
       "style": "IPY_MODEL_a61c87eb16d34c32957e8757fae7f29a",
       "value": "100%|██████████| 3/3 [03:39&lt;00:00, 73.29s/it]"
      }
     },
     "650bf50ea4c248d7ba118d5034430cde": {
      "model_module": "@jupyter-widgets/base",
      "model_module_version": "1.2.0",
      "model_name": "LayoutModel",
      "state": {}
     },
     "653067c22d654932af6194830bf9f7e1": {
      "model_module": "@jupyter-widgets/base",
      "model_module_version": "1.2.0",
      "model_name": "LayoutModel",
      "state": {}
     },
     "656e1e68648942f994fe06f914e8c6c0": {
      "model_module": "@jupyter-widgets/base",
      "model_module_version": "1.2.0",
      "model_name": "LayoutModel",
      "state": {}
     },
     "65bfca27b4ac48f6a20cdf118bc4a41a": {
      "model_module": "@jupyter-widgets/base",
      "model_module_version": "1.2.0",
      "model_name": "LayoutModel",
      "state": {}
     },
     "667af22b14aa407caf07b96b2b9019af": {
      "model_module": "@jupyter-widgets/base",
      "model_module_version": "1.2.0",
      "model_name": "LayoutModel",
      "state": {}
     },
     "66b2a436a0b04c9daf37f79617a72615": {
      "model_module": "@jupyter-widgets/controls",
      "model_module_version": "1.5.0",
      "model_name": "FloatProgressModel",
      "state": {
       "bar_style": "success",
       "layout": "IPY_MODEL_e6d29095fc10469ba344d3ef9ad50486",
       "max": 2,
       "style": "IPY_MODEL_c01e51ffb73745ab83b4b37a0c652d13",
       "value": 2
      }
     },
     "66cd9fd7dd164faa9f00005b1d3d2636": {
      "model_module": "@jupyter-widgets/controls",
      "model_module_version": "1.5.0",
      "model_name": "FloatProgressModel",
      "state": {
       "bar_style": "success",
       "layout": "IPY_MODEL_0b9cebebb5f4423284d368a255ebc348",
       "max": 4,
       "style": "IPY_MODEL_b8e04c8015f94ba48b6e011a5e879a4d",
       "value": 4
      }
     },
     "671501741e9a4770ac32ea1697d29774": {
      "model_module": "@jupyter-widgets/base",
      "model_module_version": "1.2.0",
      "model_name": "LayoutModel",
      "state": {}
     },
     "67e0acf4a04744bdb41dc8ef85d022b7": {
      "model_module": "@jupyter-widgets/base",
      "model_module_version": "1.2.0",
      "model_name": "LayoutModel",
      "state": {}
     },
     "6821a04baf7b4d2b96f969c0d34b84ff": {
      "model_module": "@jupyter-widgets/base",
      "model_module_version": "1.2.0",
      "model_name": "LayoutModel",
      "state": {}
     },
     "68a9820dbaf14c7cbc80097d46373ace": {
      "model_module": "@jupyter-widgets/base",
      "model_module_version": "1.2.0",
      "model_name": "LayoutModel",
      "state": {}
     },
     "6950d09987f54c858ef6f8b51384c7c9": {
      "model_module": "@jupyter-widgets/controls",
      "model_module_version": "1.5.0",
      "model_name": "HBoxModel",
      "state": {
       "children": [
        "IPY_MODEL_6f755821a8fb47c98a46598aab65b635",
        "IPY_MODEL_bc8d5e126bb9418dbfe0be460e007f3d"
       ],
       "layout": "IPY_MODEL_b031352a316b4b23aac221db06dddd70"
      }
     },
     "69ed26a5aa834b3daa9a62900f4d95bf": {
      "model_module": "@jupyter-widgets/base",
      "model_module_version": "1.2.0",
      "model_name": "LayoutModel",
      "state": {}
     },
     "6ac34c8aeb1c48198473cb613aad12a6": {
      "model_module": "@jupyter-widgets/base",
      "model_module_version": "1.2.0",
      "model_name": "LayoutModel",
      "state": {}
     },
     "6adef4160e42455eab4ac34afae782e2": {
      "model_module": "@jupyter-widgets/controls",
      "model_module_version": "1.5.0",
      "model_name": "HBoxModel",
      "state": {
       "children": [
        "IPY_MODEL_972a38a78135425bad6a5b610994852d",
        "IPY_MODEL_bc535bb74bdb4057a20f3785d602e0e1"
       ],
       "layout": "IPY_MODEL_4b24e7784d3a41a89d4fab791b537667"
      }
     },
     "6afd3138111b4bff9921ce55cc2126c1": {
      "model_module": "@jupyter-widgets/base",
      "model_module_version": "1.2.0",
      "model_name": "LayoutModel",
      "state": {}
     },
     "6cb8354fd6ea484d83520012cf3160d7": {
      "model_module": "@jupyter-widgets/controls",
      "model_module_version": "1.5.0",
      "model_name": "ProgressStyleModel",
      "state": {
       "description_width": "initial"
      }
     },
     "6d0e38b1f90e4a019fcd590eee99fc2a": {
      "model_module": "@jupyter-widgets/controls",
      "model_module_version": "1.5.0",
      "model_name": "HTMLModel",
      "state": {
       "layout": "IPY_MODEL_d0a53936cb2f40e99266ab75f69ea174",
       "style": "IPY_MODEL_02cf13f2f75949d19f8f7f80041bc240",
       "value": " 30%|███       | 3/10 [26:22:14&lt;61:31:54, 31644.91s/it]"
      }
     },
     "6d52db62dff449a498771eae77e38527": {
      "model_module": "@jupyter-widgets/controls",
      "model_module_version": "1.5.0",
      "model_name": "HBoxModel",
      "state": {
       "children": [
        "IPY_MODEL_e7d3e507f085458f9674fee88d31e79b",
        "IPY_MODEL_61cd4132987e4cfd9f83b1279c8db907"
       ],
       "layout": "IPY_MODEL_dae5e83709fe4e2da6aaf98142cfd4c7"
      }
     },
     "6dd9c71b1d7446128ff1e2c604eb5959": {
      "model_module": "@jupyter-widgets/base",
      "model_module_version": "1.2.0",
      "model_name": "LayoutModel",
      "state": {}
     },
     "6e0a40f24823446aa37ba8302091a25d": {
      "model_module": "@jupyter-widgets/controls",
      "model_module_version": "1.5.0",
      "model_name": "ProgressStyleModel",
      "state": {
       "description_width": "initial"
      }
     },
     "6e2d87bf51034edb947eea45cf26b859": {
      "model_module": "@jupyter-widgets/base",
      "model_module_version": "1.2.0",
      "model_name": "LayoutModel",
      "state": {}
     },
     "6f033e64b3924562b112f279af28c55a": {
      "model_module": "@jupyter-widgets/base",
      "model_module_version": "1.2.0",
      "model_name": "LayoutModel",
      "state": {}
     },
     "6f5afe1edf024f2e9da62434a5bbb35d": {
      "model_module": "@jupyter-widgets/controls",
      "model_module_version": "1.5.0",
      "model_name": "DescriptionStyleModel",
      "state": {
       "description_width": ""
      }
     },
     "6f755821a8fb47c98a46598aab65b635": {
      "model_module": "@jupyter-widgets/controls",
      "model_module_version": "1.5.0",
      "model_name": "FloatProgressModel",
      "state": {
       "bar_style": "success",
       "layout": "IPY_MODEL_ec1ae53c537747378cfd74999924d042",
       "max": 2,
       "style": "IPY_MODEL_9653fa4bc4954288a04b687abcc55551",
       "value": 2
      }
     },
     "6fa7cbcb096b4be6b10f77d96ac0c403": {
      "model_module": "@jupyter-widgets/controls",
      "model_module_version": "1.5.0",
      "model_name": "HTMLModel",
      "state": {
       "layout": "IPY_MODEL_08cf699b68084ed1beba3287ab69f951",
       "style": "IPY_MODEL_17ab8d2d71a84a2e9293227a06a0fa5f",
       "value": "100%|██████████| 2/2 [59:30&lt;00:00, 1785.48s/it]"
      }
     },
     "6fbae486da9d42dea12dc4b24e436db7": {
      "model_module": "@jupyter-widgets/base",
      "model_module_version": "1.2.0",
      "model_name": "LayoutModel",
      "state": {}
     },
     "70383e78dd9e467ab73b459cbd14d4da": {
      "model_module": "@jupyter-widgets/controls",
      "model_module_version": "1.5.0",
      "model_name": "HBoxModel",
      "state": {
       "children": [
        "IPY_MODEL_b0d9a20f30aa40248901dcf07e1443a1",
        "IPY_MODEL_1d7523332aa04d358f1c6bd48a4d9a48"
       ],
       "layout": "IPY_MODEL_3a475f9a9faf45bebd8437d1e0adcab6"
      }
     },
     "70551b33d792482397e84d8501d5ad93": {
      "model_module": "@jupyter-widgets/controls",
      "model_module_version": "1.5.0",
      "model_name": "HTMLModel",
      "state": {
       "layout": "IPY_MODEL_c8e94d5110794ee0ac1c45f81433323d",
       "style": "IPY_MODEL_0773d31f75de4073b8db971dc889d8f6",
       "value": "100%|██████████| 4/4 [00:00&lt;00:00, 104.58it/s]"
      }
     },
     "711c2b2c3c834938b02ab72c126a2a4a": {
      "model_module": "@jupyter-widgets/base",
      "model_module_version": "1.2.0",
      "model_name": "LayoutModel",
      "state": {}
     },
     "715b8643d24e4fbcb2c58071328b3ea8": {
      "model_module": "@jupyter-widgets/controls",
      "model_module_version": "1.5.0",
      "model_name": "HBoxModel",
      "state": {
       "children": [
        "IPY_MODEL_41bf915fe5e24169af446cd6bd679eb1",
        "IPY_MODEL_e90b5caa9d7546c1bf577c61a13256ed"
       ],
       "layout": "IPY_MODEL_0645483b4e3e47e7afa1cdbdeba0e83a"
      }
     },
     "71f03a20d69841c398cb036cfde9e813": {
      "model_module": "@jupyter-widgets/base",
      "model_module_version": "1.2.0",
      "model_name": "LayoutModel",
      "state": {}
     },
     "72559fd382f9484abba17143c01103d1": {
      "model_module": "@jupyter-widgets/controls",
      "model_module_version": "1.5.0",
      "model_name": "DescriptionStyleModel",
      "state": {
       "description_width": ""
      }
     },
     "7260dba48c304436b5a7f92cef1f4bf8": {
      "model_module": "@jupyter-widgets/base",
      "model_module_version": "1.2.0",
      "model_name": "LayoutModel",
      "state": {}
     },
     "72e4e22b6ac843f6868421fb0a2e4119": {
      "model_module": "@jupyter-widgets/controls",
      "model_module_version": "1.5.0",
      "model_name": "HTMLModel",
      "state": {
       "layout": "IPY_MODEL_40a40919b4db47bab4ca4e5433736a19",
       "style": "IPY_MODEL_0f521e7dc1394ba69d36f02ebedb75f1",
       "value": "100%|██████████| 1/1 [03:39&lt;00:00, 219.52s/it]"
      }
     },
     "731bbcd3c19846bfa0aecca7f668019e": {
      "model_module": "@jupyter-widgets/base",
      "model_module_version": "1.2.0",
      "model_name": "LayoutModel",
      "state": {}
     },
     "73d074138c9147ebbe44de74c0dfb43a": {
      "model_module": "@jupyter-widgets/base",
      "model_module_version": "1.2.0",
      "model_name": "LayoutModel",
      "state": {}
     },
     "73e0071100d34d16a57068acb07cadad": {
      "model_module": "@jupyter-widgets/controls",
      "model_module_version": "1.5.0",
      "model_name": "ProgressStyleModel",
      "state": {
       "description_width": "initial"
      }
     },
     "74319ad714a14511857cde666db6d557": {
      "model_module": "@jupyter-widgets/base",
      "model_module_version": "1.2.0",
      "model_name": "LayoutModel",
      "state": {}
     },
     "7454969f0b5c4f44be7983b50f8894a1": {
      "model_module": "@jupyter-widgets/controls",
      "model_module_version": "1.5.0",
      "model_name": "HTMLModel",
      "state": {
       "layout": "IPY_MODEL_4c6201dcccd2444294d5f4abed11b9bf",
       "style": "IPY_MODEL_611b8e8e3ab04fcea47be7d7aacda967",
       "value": "100%|██████████| 4/4 [00:00&lt;00:00, 21.22it/s]"
      }
     },
     "7506d8257aff4ccaa3dda3f69da64c74": {
      "model_module": "@jupyter-widgets/base",
      "model_module_version": "1.2.0",
      "model_name": "LayoutModel",
      "state": {}
     },
     "75c2c6bf4a4c4717bdbe7a2587c22778": {
      "model_module": "@jupyter-widgets/base",
      "model_module_version": "1.2.0",
      "model_name": "LayoutModel",
      "state": {}
     },
     "75d97572c21545878b97917e63f7e519": {
      "model_module": "@jupyter-widgets/base",
      "model_module_version": "1.2.0",
      "model_name": "LayoutModel",
      "state": {}
     },
     "761e20bbdb1d41b494d0a15a7f39ab83": {
      "model_module": "@jupyter-widgets/base",
      "model_module_version": "1.2.0",
      "model_name": "LayoutModel",
      "state": {}
     },
     "76686bf54aa74bd8af8ba5c0a15883ee": {
      "model_module": "@jupyter-widgets/controls",
      "model_module_version": "1.5.0",
      "model_name": "HBoxModel",
      "state": {
       "children": [
        "IPY_MODEL_a20adff7d70e443d80842f8e1cc85c1e",
        "IPY_MODEL_b38b4e7cfccb4a2b89d1961cf6183058"
       ],
       "layout": "IPY_MODEL_75c2c6bf4a4c4717bdbe7a2587c22778"
      }
     },
     "7690dc93343249518bd9aae19d08c090": {
      "model_module": "@jupyter-widgets/controls",
      "model_module_version": "1.5.0",
      "model_name": "FloatProgressModel",
      "state": {
       "bar_style": "success",
       "layout": "IPY_MODEL_e160c64b877a4e51aad76e367529a909",
       "max": 2,
       "style": "IPY_MODEL_ed65d8d862b24acd88599a470742aeaf",
       "value": 2
      }
     },
     "7730fd05655a42c8818f8be08669f72c": {
      "model_module": "@jupyter-widgets/base",
      "model_module_version": "1.2.0",
      "model_name": "LayoutModel",
      "state": {}
     },
     "77348ce7ce2240579c5a11ec6d49ba81": {
      "model_module": "@jupyter-widgets/controls",
      "model_module_version": "1.5.0",
      "model_name": "HTMLModel",
      "state": {
       "layout": "IPY_MODEL_8b38b0f6dde74ac2a89aa3be02621899",
       "style": "IPY_MODEL_b27170f61f2d472ba6c16fcdec24fb7e",
       "value": "100%|██████████| 2/2 [01:16&lt;00:00, 38.18s/it]"
      }
     },
     "77425ebd4ef247a6af30d89461b38a81": {
      "model_module": "@jupyter-widgets/controls",
      "model_module_version": "1.5.0",
      "model_name": "FloatProgressModel",
      "state": {
       "bar_style": "success",
       "layout": "IPY_MODEL_50c0fddfbe514fedbabcf81fe9c4338d",
       "max": 4,
       "style": "IPY_MODEL_782465edf4bd40d6a84512407112ae1f",
       "value": 4
      }
     },
     "775e6b098c7046f08a530da63243d210": {
      "model_module": "@jupyter-widgets/controls",
      "model_module_version": "1.5.0",
      "model_name": "DescriptionStyleModel",
      "state": {
       "description_width": ""
      }
     },
     "78132bc900384f5d94d7a9a8cf63d7d7": {
      "model_module": "@jupyter-widgets/controls",
      "model_module_version": "1.5.0",
      "model_name": "HTMLModel",
      "state": {
       "layout": "IPY_MODEL_653067c22d654932af6194830bf9f7e1",
       "style": "IPY_MODEL_48a547ab99184688a3aa4d6acb5c8246",
       "value": "100%|██████████| 2/2 [00:00&lt;00:00, 103.38it/s]"
      }
     },
     "782465edf4bd40d6a84512407112ae1f": {
      "model_module": "@jupyter-widgets/controls",
      "model_module_version": "1.5.0",
      "model_name": "ProgressStyleModel",
      "state": {
       "description_width": "initial"
      }
     },
     "7895c3f75bde437393a7c3a45ec2f83d": {
      "model_module": "@jupyter-widgets/controls",
      "model_module_version": "1.5.0",
      "model_name": "HBoxModel",
      "state": {
       "children": [
        "IPY_MODEL_90a8de4c5a4e4175976eb25fdd8032cd",
        "IPY_MODEL_401a9efc24004e4484854ca507d0cfbb"
       ],
       "layout": "IPY_MODEL_d1b5320eb7354bfa923fb563200da78b"
      }
     },
     "789f3cc9e67445dfa7ac68f38fe0fdc1": {
      "model_module": "@jupyter-widgets/base",
      "model_module_version": "1.2.0",
      "model_name": "LayoutModel",
      "state": {}
     },
     "79287551fc8f494ea1c90e6bce2e8c1d": {
      "model_module": "@jupyter-widgets/base",
      "model_module_version": "1.2.0",
      "model_name": "LayoutModel",
      "state": {}
     },
     "799d595b5b574e2c98b787078e1b0fcc": {
      "model_module": "@jupyter-widgets/controls",
      "model_module_version": "1.5.0",
      "model_name": "FloatProgressModel",
      "state": {
       "bar_style": "success",
       "layout": "IPY_MODEL_7c84ff2611e9486eafd57b172a953fb6",
       "max": 3,
       "style": "IPY_MODEL_33d6c38a3b4a42a6bd87779872f671e6",
       "value": 3
      }
     },
     "79ae6c33f0b34a48b2aca441c00d38b2": {
      "model_module": "@jupyter-widgets/controls",
      "model_module_version": "1.5.0",
      "model_name": "FloatProgressModel",
      "state": {
       "bar_style": "success",
       "layout": "IPY_MODEL_97a63500e0e34474bcb234be383a8d52",
       "max": 2,
       "style": "IPY_MODEL_16833a087ace46c183c0157ddcaf880a",
       "value": 2
      }
     },
     "7a08828a03cb4d50b6210042725e26f1": {
      "model_module": "@jupyter-widgets/controls",
      "model_module_version": "1.5.0",
      "model_name": "HBoxModel",
      "state": {
       "children": [
        "IPY_MODEL_fc2dd038744549f8982c766c64ca3ce9",
        "IPY_MODEL_1da8942e948f4453b072f9773af31af8"
       ],
       "layout": "IPY_MODEL_b9a0bfe1d38c457fb0c6f112dce8bcb6"
      }
     },
     "7a966fb208e944daa17ac6d644b5f6fd": {
      "model_module": "@jupyter-widgets/base",
      "model_module_version": "1.2.0",
      "model_name": "LayoutModel",
      "state": {}
     },
     "7b5b80fac5254d5db938f472d4ac4acb": {
      "model_module": "@jupyter-widgets/controls",
      "model_module_version": "1.5.0",
      "model_name": "DescriptionStyleModel",
      "state": {
       "description_width": ""
      }
     },
     "7b8e5948e88d4fc8a5ae821c1c04299e": {
      "model_module": "@jupyter-widgets/controls",
      "model_module_version": "1.5.0",
      "model_name": "FloatProgressModel",
      "state": {
       "bar_style": "success",
       "layout": "IPY_MODEL_326d1a49ba6d4e16ba92cfea64e37e04",
       "max": 4,
       "style": "IPY_MODEL_b8eab51327b640e09db469331ebd66a9",
       "value": 4
      }
     },
     "7bdc89c487984c0cba6246570be11f88": {
      "model_module": "@jupyter-widgets/base",
      "model_module_version": "1.2.0",
      "model_name": "LayoutModel",
      "state": {}
     },
     "7bdfbfa767a5488ca4ae689949da15df": {
      "model_module": "@jupyter-widgets/controls",
      "model_module_version": "1.5.0",
      "model_name": "DescriptionStyleModel",
      "state": {
       "description_width": ""
      }
     },
     "7c483e450de44741a2c762cf34e864d8": {
      "model_module": "@jupyter-widgets/controls",
      "model_module_version": "1.5.0",
      "model_name": "HTMLModel",
      "state": {
       "layout": "IPY_MODEL_341cea4950a446e4b42ac76a4ea65aab",
       "style": "IPY_MODEL_dde56021a01a44ff858ea4ffce1c2d0f",
       "value": "100%|██████████| 4/4 [00:01&lt;00:00,  3.23it/s]"
      }
     },
     "7c7747a72e0f467e9a4c4259745b65fe": {
      "model_module": "@jupyter-widgets/base",
      "model_module_version": "1.2.0",
      "model_name": "LayoutModel",
      "state": {}
     },
     "7c84ff2611e9486eafd57b172a953fb6": {
      "model_module": "@jupyter-widgets/base",
      "model_module_version": "1.2.0",
      "model_name": "LayoutModel",
      "state": {}
     },
     "7d185d1def104b64bb3a3903ef3b08fc": {
      "model_module": "@jupyter-widgets/controls",
      "model_module_version": "1.5.0",
      "model_name": "DescriptionStyleModel",
      "state": {
       "description_width": ""
      }
     },
     "7d5ca5f51772463790b103a7325c5aa3": {
      "model_module": "@jupyter-widgets/base",
      "model_module_version": "1.2.0",
      "model_name": "LayoutModel",
      "state": {}
     },
     "7d668651d1494dfb9304754399580c96": {
      "model_module": "@jupyter-widgets/base",
      "model_module_version": "1.2.0",
      "model_name": "LayoutModel",
      "state": {}
     },
     "7d77e75b72384a40b45b24b2ae321a55": {
      "model_module": "@jupyter-widgets/controls",
      "model_module_version": "1.5.0",
      "model_name": "ProgressStyleModel",
      "state": {
       "description_width": "initial"
      }
     },
     "7e7030ad711f41edbd9b72c81153467a": {
      "model_module": "@jupyter-widgets/controls",
      "model_module_version": "1.5.0",
      "model_name": "ProgressStyleModel",
      "state": {
       "description_width": "initial"
      }
     },
     "7e7af3286b33417ba97354a0c347c03f": {
      "model_module": "@jupyter-widgets/controls",
      "model_module_version": "1.5.0",
      "model_name": "HBoxModel",
      "state": {
       "children": [
        "IPY_MODEL_53caae027e1a40c1b2a331ffc44bd5eb",
        "IPY_MODEL_3e1c7737beaf49238f7869fff5f359b1"
       ],
       "layout": "IPY_MODEL_165e08438a1b45b1ab2bd1f7d122e029"
      }
     },
     "7f092db602f54537ba6cf3409254c65d": {
      "model_module": "@jupyter-widgets/base",
      "model_module_version": "1.2.0",
      "model_name": "LayoutModel",
      "state": {}
     },
     "7f571a74cb8348e5a0e4404107336980": {
      "model_module": "@jupyter-widgets/controls",
      "model_module_version": "1.5.0",
      "model_name": "DescriptionStyleModel",
      "state": {
       "description_width": ""
      }
     },
     "802bba38fa9845e4af282a7203355a9a": {
      "model_module": "@jupyter-widgets/controls",
      "model_module_version": "1.5.0",
      "model_name": "ProgressStyleModel",
      "state": {
       "description_width": "initial"
      }
     },
     "80b2e08af960470f98eef3ceb180a843": {
      "model_module": "@jupyter-widgets/base",
      "model_module_version": "1.2.0",
      "model_name": "LayoutModel",
      "state": {}
     },
     "818c30a74e5149c7801469d5fbc8a82e": {
      "model_module": "@jupyter-widgets/controls",
      "model_module_version": "1.5.0",
      "model_name": "HTMLModel",
      "state": {
       "layout": "IPY_MODEL_bd05dbcfeb704bfa889554b3824860c4",
       "style": "IPY_MODEL_334e4b49db5b4ced9ac5b1743e6be52b",
       "value": "100%|██████████| 4/4 [00:00&lt;00:00, 11.71it/s]"
      }
     },
     "8254f9250f62423fad98fd298c5771c3": {
      "model_module": "@jupyter-widgets/controls",
      "model_module_version": "1.5.0",
      "model_name": "ProgressStyleModel",
      "state": {
       "description_width": "initial"
      }
     },
     "82b8844245764c8a914dd4d79a3a5071": {
      "model_module": "@jupyter-widgets/controls",
      "model_module_version": "1.5.0",
      "model_name": "FloatProgressModel",
      "state": {
       "bar_style": "success",
       "layout": "IPY_MODEL_649832abba834723b51d873b4a2f5010",
       "max": 3,
       "style": "IPY_MODEL_bab3149286664fffaf9294517cf897b1",
       "value": 3
      }
     },
     "82bf31c09d474d07b767a37875dfe558": {
      "model_module": "@jupyter-widgets/controls",
      "model_module_version": "1.5.0",
      "model_name": "HTMLModel",
      "state": {
       "layout": "IPY_MODEL_58b9e206fe2648f895aa372feb6db74a",
       "style": "IPY_MODEL_577862e0012248d485b76b4c913b3638",
       "value": "100%|██████████| 2/2 [00:00&lt;00:00, 10.14it/s]"
      }
     },
     "8336473def0d4cc287194329d8f8c3fa": {
      "model_module": "@jupyter-widgets/base",
      "model_module_version": "1.2.0",
      "model_name": "LayoutModel",
      "state": {}
     },
     "836abfa72fe249b68f5784bee45603fc": {
      "model_module": "@jupyter-widgets/controls",
      "model_module_version": "1.5.0",
      "model_name": "HBoxModel",
      "state": {
       "children": [
        "IPY_MODEL_883ab9cfe4f342e4aba9dfdaeddf7340",
        "IPY_MODEL_7c483e450de44741a2c762cf34e864d8"
       ],
       "layout": "IPY_MODEL_ddcae2fc487c46b5a89f8d327a547b57"
      }
     },
     "83d60641a33047e4ae6c9945ed70c384": {
      "model_module": "@jupyter-widgets/controls",
      "model_module_version": "1.5.0",
      "model_name": "DescriptionStyleModel",
      "state": {
       "description_width": ""
      }
     },
     "84b181dc44864427a05270c8c418433d": {
      "model_module": "@jupyter-widgets/controls",
      "model_module_version": "1.5.0",
      "model_name": "DescriptionStyleModel",
      "state": {
       "description_width": ""
      }
     },
     "84b70130588f4790ba5b1f3ad6a694e4": {
      "model_module": "@jupyter-widgets/controls",
      "model_module_version": "1.5.0",
      "model_name": "HBoxModel",
      "state": {
       "children": [
        "IPY_MODEL_bf1da69753924e6e9d47cee57a31eb8e",
        "IPY_MODEL_3131290459a24a368bf791b0507d5ac2"
       ],
       "layout": "IPY_MODEL_361fd178f6024df4943923238fe5cd6c"
      }
     },
     "84c0443e6dee49169e8a886dcfb4052e": {
      "model_module": "@jupyter-widgets/controls",
      "model_module_version": "1.5.0",
      "model_name": "HTMLModel",
      "state": {
       "layout": "IPY_MODEL_8d576e4990e04b38bf1ea44b83c118af",
       "style": "IPY_MODEL_91060974e11b4b82b86250a6cbabc8a9",
       "value": "100%|██████████| 1/1 [00:00&lt;00:00, 19.78it/s]"
      }
     },
     "850e0054e1364ff4998445c52fc1b884": {
      "model_module": "@jupyter-widgets/controls",
      "model_module_version": "1.5.0",
      "model_name": "ProgressStyleModel",
      "state": {
       "description_width": "initial"
      }
     },
     "852324737b4e4d2f92ac7708266a3506": {
      "model_module": "@jupyter-widgets/base",
      "model_module_version": "1.2.0",
      "model_name": "LayoutModel",
      "state": {}
     },
     "85472377dd6442ed82621b72bafda3a4": {
      "model_module": "@jupyter-widgets/controls",
      "model_module_version": "1.5.0",
      "model_name": "ProgressStyleModel",
      "state": {
       "description_width": "initial"
      }
     },
     "85bf890d499042a89e7451e66ee2d2b7": {
      "model_module": "@jupyter-widgets/controls",
      "model_module_version": "1.5.0",
      "model_name": "ProgressStyleModel",
      "state": {
       "description_width": "initial"
      }
     },
     "85d544dabda74cb6acfd53b79b581601": {
      "model_module": "@jupyter-widgets/base",
      "model_module_version": "1.2.0",
      "model_name": "LayoutModel",
      "state": {}
     },
     "85fd4f2600144aeca18be1de19070a6c": {
      "model_module": "@jupyter-widgets/base",
      "model_module_version": "1.2.0",
      "model_name": "LayoutModel",
      "state": {}
     },
     "86c55a4566cd4ef0966086854cb1eff3": {
      "model_module": "@jupyter-widgets/controls",
      "model_module_version": "1.5.0",
      "model_name": "HBoxModel",
      "state": {
       "children": [
        "IPY_MODEL_2d62c26976424518bffc0cafc2e2c622",
        "IPY_MODEL_f0a353174a1d436aa907031a337f98e7"
       ],
       "layout": "IPY_MODEL_3fc12c7e53ce46d1996fcda66820b677"
      }
     },
     "87d8024f8b2646dfac3a34297e164304": {
      "model_module": "@jupyter-widgets/controls",
      "model_module_version": "1.5.0",
      "model_name": "HBoxModel",
      "state": {
       "children": [
        "IPY_MODEL_e0a9b082b2fd47a7b07ccae9ee91544b",
        "IPY_MODEL_84c0443e6dee49169e8a886dcfb4052e"
       ],
       "layout": "IPY_MODEL_b0e16c3736c64318ae3eb24e67c54073"
      }
     },
     "87da1d674a5a4efd8448ce2ea3a892da": {
      "model_module": "@jupyter-widgets/controls",
      "model_module_version": "1.5.0",
      "model_name": "ProgressStyleModel",
      "state": {
       "description_width": "initial"
      }
     },
     "8808124dca1b4b6e87a5ce0218e425d5": {
      "model_module": "@jupyter-widgets/base",
      "model_module_version": "1.2.0",
      "model_name": "LayoutModel",
      "state": {}
     },
     "883ab9cfe4f342e4aba9dfdaeddf7340": {
      "model_module": "@jupyter-widgets/controls",
      "model_module_version": "1.5.0",
      "model_name": "FloatProgressModel",
      "state": {
       "bar_style": "success",
       "layout": "IPY_MODEL_65bfca27b4ac48f6a20cdf118bc4a41a",
       "max": 4,
       "style": "IPY_MODEL_904d0e9f534443e9813b9bf96204e163",
       "value": 4
      }
     },
     "88b454c9c3bb4bc299a5d066889e1bfe": {
      "model_module": "@jupyter-widgets/base",
      "model_module_version": "1.2.0",
      "model_name": "LayoutModel",
      "state": {}
     },
     "8abaaa4abeb74d22848f3a3c9ab97229": {
      "model_module": "@jupyter-widgets/base",
      "model_module_version": "1.2.0",
      "model_name": "LayoutModel",
      "state": {}
     },
     "8ac939ee9d0a4032a9803e94454bf3e1": {
      "model_module": "@jupyter-widgets/controls",
      "model_module_version": "1.5.0",
      "model_name": "HTMLModel",
      "state": {
       "layout": "IPY_MODEL_761e20bbdb1d41b494d0a15a7f39ab83",
       "style": "IPY_MODEL_c17f19ee9c4842df8cea28b46a1f822c",
       "value": "100%|██████████| 4/4 [00:00&lt;00:00, 13.87it/s]"
      }
     },
     "8add33aa07f14fdf910e525a55c150a4": {
      "model_module": "@jupyter-widgets/base",
      "model_module_version": "1.2.0",
      "model_name": "LayoutModel",
      "state": {}
     },
     "8b21dbd5ba3440a989aa3bb1da1523d6": {
      "model_module": "@jupyter-widgets/controls",
      "model_module_version": "1.5.0",
      "model_name": "HBoxModel",
      "state": {
       "children": [
        "IPY_MODEL_66b2a436a0b04c9daf37f79617a72615",
        "IPY_MODEL_d24c72d430c64b40b0b44fc10211da45"
       ],
       "layout": "IPY_MODEL_de4b9c96e7054aa799ae0c0f7101f3cb"
      }
     },
     "8b3097bbf04946ef801c8c169d53c525": {
      "model_module": "@jupyter-widgets/base",
      "model_module_version": "1.2.0",
      "model_name": "LayoutModel",
      "state": {}
     },
     "8b376eae6ca84a8ea44cf37ee0e5922c": {
      "model_module": "@jupyter-widgets/base",
      "model_module_version": "1.2.0",
      "model_name": "LayoutModel",
      "state": {}
     },
     "8b38b0f6dde74ac2a89aa3be02621899": {
      "model_module": "@jupyter-widgets/base",
      "model_module_version": "1.2.0",
      "model_name": "LayoutModel",
      "state": {}
     },
     "8bbd74ddb4e84cf2ac7b1165c51c3bf8": {
      "model_module": "@jupyter-widgets/base",
      "model_module_version": "1.2.0",
      "model_name": "LayoutModel",
      "state": {}
     },
     "8be126b0f74a49e9868fefd1af0e5762": {
      "model_module": "@jupyter-widgets/controls",
      "model_module_version": "1.5.0",
      "model_name": "FloatProgressModel",
      "state": {
       "bar_style": "success",
       "layout": "IPY_MODEL_529e543b37bc449f81c650362ada1025",
       "max": 3,
       "style": "IPY_MODEL_400aaeadfbfb4f718e21c4d91b8f79ad",
       "value": 3
      }
     },
     "8c526a0c1ba84502bc42de28819c35ba": {
      "model_module": "@jupyter-widgets/controls",
      "model_module_version": "1.5.0",
      "model_name": "HBoxModel",
      "state": {
       "children": [
        "IPY_MODEL_ed67afc10f2142d994965d412af3f4d8",
        "IPY_MODEL_26bc574c2cf546dd8d5145ac0b6835d0"
       ],
       "layout": "IPY_MODEL_0577fcb8d9f5478cb5fd0624c03e15bc"
      }
     },
     "8cbcb4d8a6e04c7b9840231ffcab44f7": {
      "model_module": "@jupyter-widgets/controls",
      "model_module_version": "1.5.0",
      "model_name": "DescriptionStyleModel",
      "state": {
       "description_width": ""
      }
     },
     "8d247ee1833740be9c4619cd7872f8f2": {
      "model_module": "@jupyter-widgets/base",
      "model_module_version": "1.2.0",
      "model_name": "LayoutModel",
      "state": {}
     },
     "8d2cf58b64c2458ea854a6f36410adad": {
      "model_module": "@jupyter-widgets/controls",
      "model_module_version": "1.5.0",
      "model_name": "FloatProgressModel",
      "state": {
       "bar_style": "success",
       "layout": "IPY_MODEL_b41a4093bd4b4f57abe278aa929ace02",
       "max": 2,
       "style": "IPY_MODEL_5ed3d5b865a04f71b524f1aa8effc123",
       "value": 2
      }
     },
     "8d576e4990e04b38bf1ea44b83c118af": {
      "model_module": "@jupyter-widgets/base",
      "model_module_version": "1.2.0",
      "model_name": "LayoutModel",
      "state": {}
     },
     "8da6f9ea364e4e11b1ff16f1e6a4e292": {
      "model_module": "@jupyter-widgets/controls",
      "model_module_version": "1.5.0",
      "model_name": "DescriptionStyleModel",
      "state": {
       "description_width": ""
      }
     },
     "8dcd583a0e094f6685c575eae635946d": {
      "model_module": "@jupyter-widgets/controls",
      "model_module_version": "1.5.0",
      "model_name": "ProgressStyleModel",
      "state": {
       "description_width": "initial"
      }
     },
     "8dd18d1803bf4ab68c3a6094685b1034": {
      "model_module": "@jupyter-widgets/base",
      "model_module_version": "1.2.0",
      "model_name": "LayoutModel",
      "state": {}
     },
     "8e3bf78e766e45129d58a9a527ac4210": {
      "model_module": "@jupyter-widgets/controls",
      "model_module_version": "1.5.0",
      "model_name": "ProgressStyleModel",
      "state": {
       "description_width": "initial"
      }
     },
     "8e9fcc39b5624901ad6f32cbdc9463b4": {
      "model_module": "@jupyter-widgets/controls",
      "model_module_version": "1.5.0",
      "model_name": "FloatProgressModel",
      "state": {
       "bar_style": "success",
       "layout": "IPY_MODEL_25755a915df94a438785b81513107d49",
       "max": 3,
       "style": "IPY_MODEL_1eb9f8a01933409b916142e7bd41b4b9",
       "value": 3
      }
     },
     "8f5885d5858448ce95a9c67f409b9e7c": {
      "model_module": "@jupyter-widgets/controls",
      "model_module_version": "1.5.0",
      "model_name": "FloatProgressModel",
      "state": {
       "bar_style": "success",
       "layout": "IPY_MODEL_d8d06e0dab694442830ee59705fe52bf",
       "max": 1,
       "style": "IPY_MODEL_9aa6de6939f445e88f56e4042bcae723",
       "value": 1
      }
     },
     "904d0e9f534443e9813b9bf96204e163": {
      "model_module": "@jupyter-widgets/controls",
      "model_module_version": "1.5.0",
      "model_name": "ProgressStyleModel",
      "state": {
       "description_width": "initial"
      }
     },
     "90a8de4c5a4e4175976eb25fdd8032cd": {
      "model_module": "@jupyter-widgets/controls",
      "model_module_version": "1.5.0",
      "model_name": "FloatProgressModel",
      "state": {
       "bar_style": "success",
       "layout": "IPY_MODEL_0eadf1e711954264ba5f33bc1dfdef47",
       "max": 2,
       "style": "IPY_MODEL_87da1d674a5a4efd8448ce2ea3a892da",
       "value": 2
      }
     },
     "91060974e11b4b82b86250a6cbabc8a9": {
      "model_module": "@jupyter-widgets/controls",
      "model_module_version": "1.5.0",
      "model_name": "DescriptionStyleModel",
      "state": {
       "description_width": ""
      }
     },
     "911fc3c379584350a17720b335a5680a": {
      "model_module": "@jupyter-widgets/controls",
      "model_module_version": "1.5.0",
      "model_name": "FloatProgressModel",
      "state": {
       "bar_style": "success",
       "layout": "IPY_MODEL_ab4db3ac3cdb4f2093610e5322f50eb0",
       "max": 2,
       "style": "IPY_MODEL_a3c548446d154922a36c94611679ea83",
       "value": 2
      }
     },
     "9153dafb5d0b4a3692705911dfc671db": {
      "model_module": "@jupyter-widgets/base",
      "model_module_version": "1.2.0",
      "model_name": "LayoutModel",
      "state": {}
     },
     "918f13535ed248c49bba338802a6ef01": {
      "model_module": "@jupyter-widgets/base",
      "model_module_version": "1.2.0",
      "model_name": "LayoutModel",
      "state": {}
     },
     "92f3cb9c96a44d92ba6ef5182985eb2c": {
      "model_module": "@jupyter-widgets/base",
      "model_module_version": "1.2.0",
      "model_name": "LayoutModel",
      "state": {}
     },
     "92fdf4e81e034c02b350a21fb1ffafab": {
      "model_module": "@jupyter-widgets/controls",
      "model_module_version": "1.5.0",
      "model_name": "DescriptionStyleModel",
      "state": {
       "description_width": ""
      }
     },
     "936a6fbc7771444185989541d0b27ddb": {
      "model_module": "@jupyter-widgets/controls",
      "model_module_version": "1.5.0",
      "model_name": "FloatProgressModel",
      "state": {
       "bar_style": "success",
       "layout": "IPY_MODEL_a741eb797ab94cfea58305c90e638c6b",
       "max": 4,
       "style": "IPY_MODEL_8dcd583a0e094f6685c575eae635946d",
       "value": 4
      }
     },
     "93add705fb09436da16c7ce195de54ac": {
      "model_module": "@jupyter-widgets/controls",
      "model_module_version": "1.5.0",
      "model_name": "DescriptionStyleModel",
      "state": {
       "description_width": ""
      }
     },
     "9469805fae2a44bf8d089f4e9296ff88": {
      "model_module": "@jupyter-widgets/controls",
      "model_module_version": "1.5.0",
      "model_name": "DescriptionStyleModel",
      "state": {
       "description_width": ""
      }
     },
     "94713bc15e9a49a98054480a53c296af": {
      "model_module": "@jupyter-widgets/controls",
      "model_module_version": "1.5.0",
      "model_name": "DescriptionStyleModel",
      "state": {
       "description_width": ""
      }
     },
     "9653fa4bc4954288a04b687abcc55551": {
      "model_module": "@jupyter-widgets/controls",
      "model_module_version": "1.5.0",
      "model_name": "ProgressStyleModel",
      "state": {
       "description_width": "initial"
      }
     },
     "96c7baa14e9b4cc48077b221ebd288a1": {
      "model_module": "@jupyter-widgets/base",
      "model_module_version": "1.2.0",
      "model_name": "LayoutModel",
      "state": {}
     },
     "96fcffc8cc5948858f1730ea9d9634e9": {
      "model_module": "@jupyter-widgets/base",
      "model_module_version": "1.2.0",
      "model_name": "LayoutModel",
      "state": {}
     },
     "971e79c8ccab40d79dea7ccb3a4d87f3": {
      "model_module": "@jupyter-widgets/controls",
      "model_module_version": "1.5.0",
      "model_name": "DescriptionStyleModel",
      "state": {
       "description_width": ""
      }
     },
     "972a38a78135425bad6a5b610994852d": {
      "model_module": "@jupyter-widgets/controls",
      "model_module_version": "1.5.0",
      "model_name": "FloatProgressModel",
      "state": {
       "bar_style": "success",
       "layout": "IPY_MODEL_c24a1ba2f8b1468d8a5f57756e5c6523",
       "max": 3,
       "style": "IPY_MODEL_73e0071100d34d16a57068acb07cadad",
       "value": 3
      }
     },
     "9785abf3c97a4c88b052f0d5749ced80": {
      "model_module": "@jupyter-widgets/controls",
      "model_module_version": "1.5.0",
      "model_name": "HBoxModel",
      "state": {
       "children": [
        "IPY_MODEL_8f5885d5858448ce95a9c67f409b9e7c",
        "IPY_MODEL_72e4e22b6ac843f6868421fb0a2e4119"
       ],
       "layout": "IPY_MODEL_bccbed68245347baa60706ebf7d9c89f"
      }
     },
     "978c697fc19f443da55307a37131aa31": {
      "model_module": "@jupyter-widgets/controls",
      "model_module_version": "1.5.0",
      "model_name": "DescriptionStyleModel",
      "state": {
       "description_width": ""
      }
     },
     "97a63500e0e34474bcb234be383a8d52": {
      "model_module": "@jupyter-widgets/base",
      "model_module_version": "1.2.0",
      "model_name": "LayoutModel",
      "state": {}
     },
     "9842e25da2fc4de2a6cd4559bd5c2b96": {
      "model_module": "@jupyter-widgets/base",
      "model_module_version": "1.2.0",
      "model_name": "LayoutModel",
      "state": {}
     },
     "9858faff92f94ee3a9b45b5fb9c3d520": {
      "model_module": "@jupyter-widgets/base",
      "model_module_version": "1.2.0",
      "model_name": "LayoutModel",
      "state": {}
     },
     "98c0369ee36c472b8a96b1e24bbce364": {
      "model_module": "@jupyter-widgets/controls",
      "model_module_version": "1.5.0",
      "model_name": "FloatProgressModel",
      "state": {
       "bar_style": "success",
       "layout": "IPY_MODEL_656e1e68648942f994fe06f914e8c6c0",
       "max": 4,
       "style": "IPY_MODEL_2dbf9df330194afabd8b9e24df5c6b1a",
       "value": 4
      }
     },
     "994a4d0f045c4093bfa936270f73333c": {
      "model_module": "@jupyter-widgets/controls",
      "model_module_version": "1.5.0",
      "model_name": "ProgressStyleModel",
      "state": {
       "description_width": "initial"
      }
     },
     "994e1d65840a40bdaefb8af97ab47395": {
      "model_module": "@jupyter-widgets/controls",
      "model_module_version": "1.5.0",
      "model_name": "HTMLModel",
      "state": {
       "layout": "IPY_MODEL_3aae07c37bda4c52ae2b29259109f680",
       "style": "IPY_MODEL_94713bc15e9a49a98054480a53c296af",
       "value": "100%|██████████| 4/4 [00:00&lt;00:00, 45.90it/s]"
      }
     },
     "99ae25a529254560803c038fdec2bdac": {
      "model_module": "@jupyter-widgets/controls",
      "model_module_version": "1.5.0",
      "model_name": "FloatProgressModel",
      "state": {
       "bar_style": "success",
       "layout": "IPY_MODEL_d78b0d2f2e664f1789091def80ee787f",
       "max": 1,
       "style": "IPY_MODEL_325455fb30a04fc7829498cc8b4a9ca4",
       "value": 1
      }
     },
     "9a799c86851e45348293dcdcd8739c0a": {
      "model_module": "@jupyter-widgets/base",
      "model_module_version": "1.2.0",
      "model_name": "LayoutModel",
      "state": {}
     },
     "9aa6de6939f445e88f56e4042bcae723": {
      "model_module": "@jupyter-widgets/controls",
      "model_module_version": "1.5.0",
      "model_name": "ProgressStyleModel",
      "state": {
       "description_width": "initial"
      }
     },
     "9b29d945b5244451bcfb75d53be9330f": {
      "model_module": "@jupyter-widgets/controls",
      "model_module_version": "1.5.0",
      "model_name": "ProgressStyleModel",
      "state": {
       "description_width": "initial"
      }
     },
     "9b51a4ec684d46069aa5739476a01a79": {
      "model_module": "@jupyter-widgets/base",
      "model_module_version": "1.2.0",
      "model_name": "LayoutModel",
      "state": {}
     },
     "9b7ed591468a4fe48cbff60faf10a473": {
      "model_module": "@jupyter-widgets/controls",
      "model_module_version": "1.5.0",
      "model_name": "HBoxModel",
      "state": {
       "children": [
        "IPY_MODEL_1b714f6934cb4667ab79b70c1c65a5c1",
        "IPY_MODEL_78132bc900384f5d94d7a9a8cf63d7d7"
       ],
       "layout": "IPY_MODEL_1709ea0d006c49ada6bcaee5ff3e2b0e"
      }
     },
     "9c0edf6f62bb4e348112658240859482": {
      "model_module": "@jupyter-widgets/base",
      "model_module_version": "1.2.0",
      "model_name": "LayoutModel",
      "state": {}
     },
     "9cbd85c3b5184eb3b7ce07a9118b2674": {
      "model_module": "@jupyter-widgets/controls",
      "model_module_version": "1.5.0",
      "model_name": "DescriptionStyleModel",
      "state": {
       "description_width": ""
      }
     },
     "9cce7b1669bb4013bf20dc172d8fcae4": {
      "model_module": "@jupyter-widgets/controls",
      "model_module_version": "1.5.0",
      "model_name": "HBoxModel",
      "state": {
       "children": [
        "IPY_MODEL_60cdf8ff6a6a4c54857cd7306edb6e23",
        "IPY_MODEL_07b5c00f9abf481398a9e3f9a5abefd3"
       ],
       "layout": "IPY_MODEL_42427a1141f74e068a89b89c6519f104"
      }
     },
     "9e145a15202544dd9c4187792c71ddd3": {
      "model_module": "@jupyter-widgets/controls",
      "model_module_version": "1.5.0",
      "model_name": "HTMLModel",
      "state": {
       "layout": "IPY_MODEL_2e0b01513cc84eb3a8d8c271a48788e1",
       "style": "IPY_MODEL_3f253f9be1a6411ba010353199ee8a6e",
       "value": " 30%|███       | 3/10 [26:21:22&lt;61:29:53, 31627.64s/it]"
      }
     },
     "9e8e94bf72fe48fb9251c372a7d1d07e": {
      "model_module": "@jupyter-widgets/controls",
      "model_module_version": "1.5.0",
      "model_name": "DescriptionStyleModel",
      "state": {
       "description_width": ""
      }
     },
     "9ed85e49646541bf9945e609d28ed083": {
      "model_module": "@jupyter-widgets/controls",
      "model_module_version": "1.5.0",
      "model_name": "DescriptionStyleModel",
      "state": {
       "description_width": ""
      }
     },
     "9f77dd39a68e43d79be26dc42753a5ac": {
      "model_module": "@jupyter-widgets/controls",
      "model_module_version": "1.5.0",
      "model_name": "DescriptionStyleModel",
      "state": {
       "description_width": ""
      }
     },
     "a006d3afdeb74fe9974f9e00e953ba93": {
      "model_module": "@jupyter-widgets/base",
      "model_module_version": "1.2.0",
      "model_name": "LayoutModel",
      "state": {}
     },
     "a03edee1738544079e4cd186b5df0eef": {
      "model_module": "@jupyter-widgets/controls",
      "model_module_version": "1.5.0",
      "model_name": "ProgressStyleModel",
      "state": {
       "description_width": "initial"
      }
     },
     "a0d6a97b1e4a468ab8e993a74d24248f": {
      "model_module": "@jupyter-widgets/controls",
      "model_module_version": "1.5.0",
      "model_name": "HTMLModel",
      "state": {
       "layout": "IPY_MODEL_bf892b21bc71481892763607c7deef32",
       "style": "IPY_MODEL_775e6b098c7046f08a530da63243d210",
       "value": "100%|██████████| 3/3 [1:04:45&lt;00:00, 1295.11s/it]"
      }
     },
     "a16cb2dcf50148f1a9ed6c341d3b9e8b": {
      "model_module": "@jupyter-widgets/base",
      "model_module_version": "1.2.0",
      "model_name": "LayoutModel",
      "state": {}
     },
     "a1fcacaf0f9648d48879ce1cb9017244": {
      "model_module": "@jupyter-widgets/base",
      "model_module_version": "1.2.0",
      "model_name": "LayoutModel",
      "state": {}
     },
     "a20adff7d70e443d80842f8e1cc85c1e": {
      "model_module": "@jupyter-widgets/controls",
      "model_module_version": "1.5.0",
      "model_name": "FloatProgressModel",
      "state": {
       "bar_style": "success",
       "layout": "IPY_MODEL_53bbb30d1cc544fface5ab0a289b0fce",
       "max": 1,
       "style": "IPY_MODEL_61037ad6b83347fb8c23363241ac2ffe",
       "value": 1
      }
     },
     "a234cc62e6f249c9a69c2d27db999ff4": {
      "model_module": "@jupyter-widgets/controls",
      "model_module_version": "1.5.0",
      "model_name": "HBoxModel",
      "state": {
       "children": [
        "IPY_MODEL_99ae25a529254560803c038fdec2bdac",
        "IPY_MODEL_cbc67e1c981643b9b319d1056a9f2ff0"
       ],
       "layout": "IPY_MODEL_b4f0ceca203b47f2b2fa2c816f9b9fd7"
      }
     },
     "a3396357257a4a709fecc2217734f28f": {
      "model_module": "@jupyter-widgets/base",
      "model_module_version": "1.2.0",
      "model_name": "LayoutModel",
      "state": {}
     },
     "a3c548446d154922a36c94611679ea83": {
      "model_module": "@jupyter-widgets/controls",
      "model_module_version": "1.5.0",
      "model_name": "ProgressStyleModel",
      "state": {
       "description_width": "initial"
      }
     },
     "a4c0e5ba52194220a32ea1a32398d21d": {
      "model_module": "@jupyter-widgets/controls",
      "model_module_version": "1.5.0",
      "model_name": "HBoxModel",
      "state": {
       "children": [
        "IPY_MODEL_df39a47e4048468791d190f79a66d058",
        "IPY_MODEL_4ab9d4d08fe042a48a0b6b8b25ca304f"
       ],
       "layout": "IPY_MODEL_85d544dabda74cb6acfd53b79b581601"
      }
     },
     "a543d2fb4ee1416192bc5bd8c7870cea": {
      "model_module": "@jupyter-widgets/controls",
      "model_module_version": "1.5.0",
      "model_name": "DescriptionStyleModel",
      "state": {
       "description_width": ""
      }
     },
     "a5c855a7319b483e8507be517285b73d": {
      "model_module": "@jupyter-widgets/controls",
      "model_module_version": "1.5.0",
      "model_name": "DescriptionStyleModel",
      "state": {
       "description_width": ""
      }
     },
     "a61c87eb16d34c32957e8757fae7f29a": {
      "model_module": "@jupyter-widgets/controls",
      "model_module_version": "1.5.0",
      "model_name": "DescriptionStyleModel",
      "state": {
       "description_width": ""
      }
     },
     "a625c547bf524c3fac23e01d21dd7615": {
      "model_module": "@jupyter-widgets/base",
      "model_module_version": "1.2.0",
      "model_name": "LayoutModel",
      "state": {}
     },
     "a67185a9928d49c0924b99224c3114d9": {
      "model_module": "@jupyter-widgets/base",
      "model_module_version": "1.2.0",
      "model_name": "LayoutModel",
      "state": {}
     },
     "a69ffe3931b843d8b8a692946400dc85": {
      "model_module": "@jupyter-widgets/controls",
      "model_module_version": "1.5.0",
      "model_name": "ProgressStyleModel",
      "state": {
       "description_width": "initial"
      }
     },
     "a6a5e2ff77b34264ab5e7c2f829eb926": {
      "model_module": "@jupyter-widgets/controls",
      "model_module_version": "1.5.0",
      "model_name": "HTMLModel",
      "state": {
       "layout": "IPY_MODEL_3e04697af96a44b9b5a0451e68e49067",
       "style": "IPY_MODEL_92fdf4e81e034c02b350a21fb1ffafab",
       "value": "100%|██████████| 2/2 [03:07&lt;00:00, 93.58s/it]"
      }
     },
     "a70099e4fdd149db9cda1a25b20a9595": {
      "model_module": "@jupyter-widgets/base",
      "model_module_version": "1.2.0",
      "model_name": "LayoutModel",
      "state": {}
     },
     "a741eb797ab94cfea58305c90e638c6b": {
      "model_module": "@jupyter-widgets/base",
      "model_module_version": "1.2.0",
      "model_name": "LayoutModel",
      "state": {}
     },
     "a786f1d5f4d34eada4557303ff64ea49": {
      "model_module": "@jupyter-widgets/base",
      "model_module_version": "1.2.0",
      "model_name": "LayoutModel",
      "state": {}
     },
     "a7c91d306d4847e2bd04f2f86ec57e18": {
      "model_module": "@jupyter-widgets/base",
      "model_module_version": "1.2.0",
      "model_name": "LayoutModel",
      "state": {}
     },
     "a7ea7a8870e041ac8ce9f1bca66ea016": {
      "model_module": "@jupyter-widgets/base",
      "model_module_version": "1.2.0",
      "model_name": "LayoutModel",
      "state": {}
     },
     "a869f450968b4eea82c4194edf4c94bc": {
      "model_module": "@jupyter-widgets/base",
      "model_module_version": "1.2.0",
      "model_name": "LayoutModel",
      "state": {}
     },
     "a9374907892a45729cf8f8d973fc5360": {
      "model_module": "@jupyter-widgets/controls",
      "model_module_version": "1.5.0",
      "model_name": "HBoxModel",
      "state": {
       "children": [
        "IPY_MODEL_dea8a01246ca4f7cafbc62646442ebf2",
        "IPY_MODEL_70551b33d792482397e84d8501d5ad93"
       ],
       "layout": "IPY_MODEL_1d324ccb4d004292acd4e0aefaace42c"
      }
     },
     "a9fec46609a24d16b792b6b2cfd5f287": {
      "model_module": "@jupyter-widgets/controls",
      "model_module_version": "1.5.0",
      "model_name": "HTMLModel",
      "state": {
       "layout": "IPY_MODEL_57d9bfb506724cffbcef4cc825b05c6e",
       "style": "IPY_MODEL_fc36757d7561494293fe3639d126c07b",
       "value": "100%|██████████| 4/4 [00:00&lt;00:00, 12.34it/s]"
      }
     },
     "aab3893c7da848888ee9e0c191720d3f": {
      "model_module": "@jupyter-widgets/base",
      "model_module_version": "1.2.0",
      "model_name": "LayoutModel",
      "state": {}
     },
     "aae596e1f0bb4221a22a872ccc41ad45": {
      "model_module": "@jupyter-widgets/controls",
      "model_module_version": "1.5.0",
      "model_name": "HBoxModel",
      "state": {
       "children": [
        "IPY_MODEL_d0caba2f8d934fb6bc049049954e08ef",
        "IPY_MODEL_229a2d2b041b4a24a60f3a118fdea297"
       ],
       "layout": "IPY_MODEL_03f73919823b4ee49bf3d473ba92eb0a"
      }
     },
     "ab4db3ac3cdb4f2093610e5322f50eb0": {
      "model_module": "@jupyter-widgets/base",
      "model_module_version": "1.2.0",
      "model_name": "LayoutModel",
      "state": {}
     },
     "ab5aa4edf8084003b2aec326681dfdc2": {
      "model_module": "@jupyter-widgets/base",
      "model_module_version": "1.2.0",
      "model_name": "LayoutModel",
      "state": {}
     },
     "abdaa237e6024a0ebc3bf1ee3cf049d2": {
      "model_module": "@jupyter-widgets/controls",
      "model_module_version": "1.5.0",
      "model_name": "FloatProgressModel",
      "state": {
       "bar_style": "success",
       "layout": "IPY_MODEL_5453aea595b8408abbc28504ee4c2cbf",
       "max": 2,
       "style": "IPY_MODEL_48408ce7522f4079a3f28cdb73f0f519",
       "value": 2
      }
     },
     "ac880afb444e47698a917fb0c51f1336": {
      "model_module": "@jupyter-widgets/controls",
      "model_module_version": "1.5.0",
      "model_name": "FloatProgressModel",
      "state": {
       "bar_style": "success",
       "layout": "IPY_MODEL_7bdc89c487984c0cba6246570be11f88",
       "max": 1,
       "style": "IPY_MODEL_a03edee1738544079e4cd186b5df0eef",
       "value": 1
      }
     },
     "ac9c06d75a3f4dcdbcad315233a3bc35": {
      "model_module": "@jupyter-widgets/controls",
      "model_module_version": "1.5.0",
      "model_name": "HTMLModel",
      "state": {
       "layout": "IPY_MODEL_1e28791e47a64bd486f47168bd73aad9",
       "style": "IPY_MODEL_ad077f00093c4f0eb284a307cd0b4be7",
       "value": "100%|██████████| 2/2 [03:39&lt;00:00, 109.99s/it]"
      }
     },
     "aca85fd3bea747a7848dd1df554de928": {
      "model_module": "@jupyter-widgets/base",
      "model_module_version": "1.2.0",
      "model_name": "LayoutModel",
      "state": {}
     },
     "ad077f00093c4f0eb284a307cd0b4be7": {
      "model_module": "@jupyter-widgets/controls",
      "model_module_version": "1.5.0",
      "model_name": "DescriptionStyleModel",
      "state": {
       "description_width": ""
      }
     },
     "ad1fa2c3c7de4709b8e739efcf7735d9": {
      "model_module": "@jupyter-widgets/base",
      "model_module_version": "1.2.0",
      "model_name": "LayoutModel",
      "state": {}
     },
     "ad48bc8d37614321be7df15864b3f6ed": {
      "model_module": "@jupyter-widgets/controls",
      "model_module_version": "1.5.0",
      "model_name": "FloatProgressModel",
      "state": {
       "bar_style": "success",
       "layout": "IPY_MODEL_eef56c52b57d4a83a4e089a4c5ab1bab",
       "max": 4,
       "style": "IPY_MODEL_0439742ce2da41ed9c06909b7c0f69b9",
       "value": 4
      }
     },
     "adc85380793a408e949bc3da0413e39c": {
      "model_module": "@jupyter-widgets/controls",
      "model_module_version": "1.5.0",
      "model_name": "HBoxModel",
      "state": {
       "children": [
        "IPY_MODEL_98c0369ee36c472b8a96b1e24bbce364",
        "IPY_MODEL_2a2b49595aaa43999e5aa982ec15257d"
       ],
       "layout": "IPY_MODEL_7f092db602f54537ba6cf3409254c65d"
      }
     },
     "ade9d2d64aff4d2a9c48c0a3e8c1d5a2": {
      "model_module": "@jupyter-widgets/controls",
      "model_module_version": "1.5.0",
      "model_name": "HTMLModel",
      "state": {
       "layout": "IPY_MODEL_8d247ee1833740be9c4619cd7872f8f2",
       "style": "IPY_MODEL_72559fd382f9484abba17143c01103d1",
       "value": "100%|██████████| 2/2 [00:23&lt;00:00, 11.61s/it]"
      }
     },
     "ae03841c613544be8f8c0a9b29e728fa": {
      "model_module": "@jupyter-widgets/controls",
      "model_module_version": "1.5.0",
      "model_name": "HBoxModel",
      "state": {
       "children": [
        "IPY_MODEL_ff921a0163414691a2ebe85fa640f922",
        "IPY_MODEL_10200a03a2814512a144c09f57c57c5e"
       ],
       "layout": "IPY_MODEL_e32aaddaeb0b4e2381d5615a5f8b78dd"
      }
     },
     "aedf3db0554c44e186b5aabea290a011": {
      "model_module": "@jupyter-widgets/base",
      "model_module_version": "1.2.0",
      "model_name": "LayoutModel",
      "state": {}
     },
     "af154805d13c414394ec6a87621a6e49": {
      "model_module": "@jupyter-widgets/controls",
      "model_module_version": "1.5.0",
      "model_name": "HBoxModel",
      "state": {
       "children": [
        "IPY_MODEL_8be126b0f74a49e9868fefd1af0e5762",
        "IPY_MODEL_e779635493e04f938383856fd85dffcc"
       ],
       "layout": "IPY_MODEL_aab3893c7da848888ee9e0c191720d3f"
      }
     },
     "af21340d695240e0b0207dbc2ba10bcd": {
      "model_module": "@jupyter-widgets/controls",
      "model_module_version": "1.5.0",
      "model_name": "DescriptionStyleModel",
      "state": {
       "description_width": ""
      }
     },
     "afa88fdc131d4a2f86f6f2720bca4d40": {
      "model_module": "@jupyter-widgets/controls",
      "model_module_version": "1.5.0",
      "model_name": "HTMLModel",
      "state": {
       "layout": "IPY_MODEL_68a9820dbaf14c7cbc80097d46373ace",
       "style": "IPY_MODEL_fe07eb5c76724cb99a54d7b9c95d9f0f",
       "value": "100%|██████████| 4/4 [00:00&lt;00:00, 22.06it/s]"
      }
     },
     "b031352a316b4b23aac221db06dddd70": {
      "model_module": "@jupyter-widgets/base",
      "model_module_version": "1.2.0",
      "model_name": "LayoutModel",
      "state": {}
     },
     "b0d9a20f30aa40248901dcf07e1443a1": {
      "model_module": "@jupyter-widgets/controls",
      "model_module_version": "1.5.0",
      "model_name": "FloatProgressModel",
      "state": {
       "bar_style": "success",
       "layout": "IPY_MODEL_4f64b9bc0dc7440d8730507081771708",
       "max": 3,
       "style": "IPY_MODEL_f0fee0adc87640ebba1a96de6ab634a1",
       "value": 3
      }
     },
     "b0e16c3736c64318ae3eb24e67c54073": {
      "model_module": "@jupyter-widgets/base",
      "model_module_version": "1.2.0",
      "model_name": "LayoutModel",
      "state": {}
     },
     "b10f7765f11745ce91188bb060e406d4": {
      "model_module": "@jupyter-widgets/base",
      "model_module_version": "1.2.0",
      "model_name": "LayoutModel",
      "state": {}
     },
     "b129f3340be245aeaf2e9274e852ca6a": {
      "model_module": "@jupyter-widgets/controls",
      "model_module_version": "1.5.0",
      "model_name": "HBoxModel",
      "state": {
       "children": [
        "IPY_MODEL_936a6fbc7771444185989541d0b27ddb",
        "IPY_MODEL_be656bd130ba4f8886c46da0be008ccd"
       ],
       "layout": "IPY_MODEL_f652209e77a94fe0a1324ca5ae26df0f"
      }
     },
     "b2319002ddd64bfc85bd1ffc6f19ee9d": {
      "model_module": "@jupyter-widgets/controls",
      "model_module_version": "1.5.0",
      "model_name": "HTMLModel",
      "state": {
       "layout": "IPY_MODEL_d593f9fa3fb74da3bd0175f6c5eed3de",
       "style": "IPY_MODEL_cc46c9455e9548a79a663782cb83d289",
       "value": "100%|██████████| 2/2 [01:11&lt;00:00, 35.64s/it]"
      }
     },
     "b27170f61f2d472ba6c16fcdec24fb7e": {
      "model_module": "@jupyter-widgets/controls",
      "model_module_version": "1.5.0",
      "model_name": "DescriptionStyleModel",
      "state": {
       "description_width": ""
      }
     },
     "b2d931feca7044cb9b9c93e46c56f3cd": {
      "model_module": "@jupyter-widgets/base",
      "model_module_version": "1.2.0",
      "model_name": "LayoutModel",
      "state": {}
     },
     "b38b4e7cfccb4a2b89d1961cf6183058": {
      "model_module": "@jupyter-widgets/controls",
      "model_module_version": "1.5.0",
      "model_name": "HTMLModel",
      "state": {
       "layout": "IPY_MODEL_b6b39c1e05384f858a07cc807e8c755f",
       "style": "IPY_MODEL_1f625339072a4f2b980f46afa143a58d",
       "value": "100%|██████████| 1/1 [01:07&lt;00:00, 67.88s/it]"
      }
     },
     "b41a4093bd4b4f57abe278aa929ace02": {
      "model_module": "@jupyter-widgets/base",
      "model_module_version": "1.2.0",
      "model_name": "LayoutModel",
      "state": {}
     },
     "b45ad041e879420da40bf53267c16164": {
      "model_module": "@jupyter-widgets/controls",
      "model_module_version": "1.5.0",
      "model_name": "HBoxModel",
      "state": {
       "children": [
        "IPY_MODEL_046ddd4e01824465a68eafa4b9f68b72",
        "IPY_MODEL_26b5a4689c0e488897aa6d23a2b8b94a"
       ],
       "layout": "IPY_MODEL_ce5bfe26bd914bc6895f84f5f3af65c9"
      }
     },
     "b4f0ceca203b47f2b2fa2c816f9b9fd7": {
      "model_module": "@jupyter-widgets/base",
      "model_module_version": "1.2.0",
      "model_name": "LayoutModel",
      "state": {}
     },
     "b611aefc642f4326b74a48906050dbb0": {
      "model_module": "@jupyter-widgets/controls",
      "model_module_version": "1.5.0",
      "model_name": "ProgressStyleModel",
      "state": {
       "description_width": "initial"
      }
     },
     "b6b39c1e05384f858a07cc807e8c755f": {
      "model_module": "@jupyter-widgets/base",
      "model_module_version": "1.2.0",
      "model_name": "LayoutModel",
      "state": {}
     },
     "b75fff50727c48e3a8a1641e822f5966": {
      "model_module": "@jupyter-widgets/controls",
      "model_module_version": "1.5.0",
      "model_name": "DescriptionStyleModel",
      "state": {
       "description_width": ""
      }
     },
     "b8e04c8015f94ba48b6e011a5e879a4d": {
      "model_module": "@jupyter-widgets/controls",
      "model_module_version": "1.5.0",
      "model_name": "ProgressStyleModel",
      "state": {
       "description_width": "initial"
      }
     },
     "b8eab51327b640e09db469331ebd66a9": {
      "model_module": "@jupyter-widgets/controls",
      "model_module_version": "1.5.0",
      "model_name": "ProgressStyleModel",
      "state": {
       "description_width": "initial"
      }
     },
     "b9323a5737db467a8b6257b8cc7e3557": {
      "model_module": "@jupyter-widgets/base",
      "model_module_version": "1.2.0",
      "model_name": "LayoutModel",
      "state": {}
     },
     "b95e4fb7684f45d3b89f095258206830": {
      "model_module": "@jupyter-widgets/controls",
      "model_module_version": "1.5.0",
      "model_name": "HBoxModel",
      "state": {
       "children": [
        "IPY_MODEL_e438019adf504490a9418dd3dc95bd1a",
        "IPY_MODEL_6fa7cbcb096b4be6b10f77d96ac0c403"
       ],
       "layout": "IPY_MODEL_b2d931feca7044cb9b9c93e46c56f3cd"
      }
     },
     "b9a0bfe1d38c457fb0c6f112dce8bcb6": {
      "model_module": "@jupyter-widgets/base",
      "model_module_version": "1.2.0",
      "model_name": "LayoutModel",
      "state": {}
     },
     "b9eddbe7775345f28a431415f952f128": {
      "model_module": "@jupyter-widgets/controls",
      "model_module_version": "1.5.0",
      "model_name": "HBoxModel",
      "state": {
       "children": [
        "IPY_MODEL_7690dc93343249518bd9aae19d08c090",
        "IPY_MODEL_e0f0a7ef2b2644a7a5519d6d7dd0ff54"
       ],
       "layout": "IPY_MODEL_2a30ccf6b02f4e0da2bc86d2e1fa26a6"
      }
     },
     "ba2a636ecf254b84a4b7bda4fb8fdff8": {
      "model_module": "@jupyter-widgets/controls",
      "model_module_version": "1.5.0",
      "model_name": "ProgressStyleModel",
      "state": {
       "description_width": "initial"
      }
     },
     "ba358cd824514e7aacb50757efee90df": {
      "model_module": "@jupyter-widgets/controls",
      "model_module_version": "1.5.0",
      "model_name": "ProgressStyleModel",
      "state": {
       "description_width": "initial"
      }
     },
     "ba633972fff5456cb4620ff2713aa11c": {
      "model_module": "@jupyter-widgets/base",
      "model_module_version": "1.2.0",
      "model_name": "LayoutModel",
      "state": {}
     },
     "bab3149286664fffaf9294517cf897b1": {
      "model_module": "@jupyter-widgets/controls",
      "model_module_version": "1.5.0",
      "model_name": "ProgressStyleModel",
      "state": {
       "description_width": "initial"
      }
     },
     "bac9c028de494b6086b64b1a7c55ae52": {
      "model_module": "@jupyter-widgets/base",
      "model_module_version": "1.2.0",
      "model_name": "LayoutModel",
      "state": {}
     },
     "bb517ac1f6bf4220be91a5add850a74a": {
      "model_module": "@jupyter-widgets/controls",
      "model_module_version": "1.5.0",
      "model_name": "HBoxModel",
      "state": {
       "children": [
        "IPY_MODEL_7b8e5948e88d4fc8a5ae821c1c04299e",
        "IPY_MODEL_afa88fdc131d4a2f86f6f2720bca4d40"
       ],
       "layout": "IPY_MODEL_7730fd05655a42c8818f8be08669f72c"
      }
     },
     "bbbbacd4ea564e6581d1dbdbefe5b982": {
      "model_module": "@jupyter-widgets/controls",
      "model_module_version": "1.5.0",
      "model_name": "HTMLModel",
      "state": {
       "layout": "IPY_MODEL_ba633972fff5456cb4620ff2713aa11c",
       "style": "IPY_MODEL_49fd3f892e454e8c9f1d4366d5506692",
       "value": "100%|██████████| 3/3 [00:00&lt;00:00, 18.31it/s]"
      }
     },
     "bbe150cfee0248f3b8b2e86b8d87385a": {
      "model_module": "@jupyter-widgets/controls",
      "model_module_version": "1.5.0",
      "model_name": "ProgressStyleModel",
      "state": {
       "description_width": "initial"
      }
     },
     "bc08606841fe43f19e89494848cca8ca": {
      "model_module": "@jupyter-widgets/controls",
      "model_module_version": "1.5.0",
      "model_name": "ProgressStyleModel",
      "state": {
       "description_width": "initial"
      }
     },
     "bc535bb74bdb4057a20f3785d602e0e1": {
      "model_module": "@jupyter-widgets/controls",
      "model_module_version": "1.5.0",
      "model_name": "HTMLModel",
      "state": {
       "layout": "IPY_MODEL_f223558e83a84405918670827bcded30",
       "style": "IPY_MODEL_d5b9fb830675428da7e664dd04f11aaa",
       "value": "100%|██████████| 3/3 [00:07&lt;00:00,  2.62s/it]"
      }
     },
     "bc57992ed5134541af898e574dcb454f": {
      "model_module": "@jupyter-widgets/base",
      "model_module_version": "1.2.0",
      "model_name": "LayoutModel",
      "state": {}
     },
     "bc7917474b7e4c4aba6fda0d179236fd": {
      "model_module": "@jupyter-widgets/base",
      "model_module_version": "1.2.0",
      "model_name": "LayoutModel",
      "state": {}
     },
     "bc8d5e126bb9418dbfe0be460e007f3d": {
      "model_module": "@jupyter-widgets/controls",
      "model_module_version": "1.5.0",
      "model_name": "HTMLModel",
      "state": {
       "layout": "IPY_MODEL_6ac34c8aeb1c48198473cb613aad12a6",
       "style": "IPY_MODEL_d2f01c03ff404747adca535d9add7a98",
       "value": "100%|██████████| 2/2 [00:00&lt;00:00, 15.57it/s]"
      }
     },
     "bccbed68245347baa60706ebf7d9c89f": {
      "model_module": "@jupyter-widgets/base",
      "model_module_version": "1.2.0",
      "model_name": "LayoutModel",
      "state": {}
     },
     "bcef0d22487a4545884be7387cfe6361": {
      "model_module": "@jupyter-widgets/controls",
      "model_module_version": "1.5.0",
      "model_name": "DescriptionStyleModel",
      "state": {
       "description_width": ""
      }
     },
     "bd05dbcfeb704bfa889554b3824860c4": {
      "model_module": "@jupyter-widgets/base",
      "model_module_version": "1.2.0",
      "model_name": "LayoutModel",
      "state": {}
     },
     "bd7692952d064602886e6f39cdb34564": {
      "model_module": "@jupyter-widgets/base",
      "model_module_version": "1.2.0",
      "model_name": "LayoutModel",
      "state": {}
     },
     "bda9ad0dec154e4f86c04c37027caafd": {
      "model_module": "@jupyter-widgets/controls",
      "model_module_version": "1.5.0",
      "model_name": "HTMLModel",
      "state": {
       "layout": "IPY_MODEL_def75c66cfe24a9bb04ca7ee961a2dc2",
       "style": "IPY_MODEL_415d7d93178141d48875dde39de8fc10",
       "value": "100%|██████████| 4/4 [00:01&lt;00:00,  3.42it/s]"
      }
     },
     "bdb8f50366bb49788bbb3b3c55b2a807": {
      "model_module": "@jupyter-widgets/base",
      "model_module_version": "1.2.0",
      "model_name": "LayoutModel",
      "state": {}
     },
     "be177e3528024074a4785b49a7f4312c": {
      "model_module": "@jupyter-widgets/base",
      "model_module_version": "1.2.0",
      "model_name": "LayoutModel",
      "state": {}
     },
     "be3dcb09aa364bba92d6e28f5e3b13cb": {
      "model_module": "@jupyter-widgets/base",
      "model_module_version": "1.2.0",
      "model_name": "LayoutModel",
      "state": {}
     },
     "be3e524faef843c88a69a7dd76bbe7b1": {
      "model_module": "@jupyter-widgets/base",
      "model_module_version": "1.2.0",
      "model_name": "LayoutModel",
      "state": {}
     },
     "be656bd130ba4f8886c46da0be008ccd": {
      "model_module": "@jupyter-widgets/controls",
      "model_module_version": "1.5.0",
      "model_name": "HTMLModel",
      "state": {
       "layout": "IPY_MODEL_9842e25da2fc4de2a6cd4559bd5c2b96",
       "style": "IPY_MODEL_83d60641a33047e4ae6c9945ed70c384",
       "value": "100%|██████████| 4/4 [26:21:23&lt;00:00, 23720.79s/it]"
      }
     },
     "bf1da69753924e6e9d47cee57a31eb8e": {
      "model_module": "@jupyter-widgets/controls",
      "model_module_version": "1.5.0",
      "model_name": "FloatProgressModel",
      "state": {
       "bar_style": "success",
       "layout": "IPY_MODEL_2dd58fa47eb74ebb9fc43b9a0472725c",
       "max": 2,
       "style": "IPY_MODEL_ba2a636ecf254b84a4b7bda4fb8fdff8",
       "value": 2
      }
     },
     "bf59a87436d94d5ca3e934885ad445f4": {
      "model_module": "@jupyter-widgets/base",
      "model_module_version": "1.2.0",
      "model_name": "LayoutModel",
      "state": {}
     },
     "bf892b21bc71481892763607c7deef32": {
      "model_module": "@jupyter-widgets/base",
      "model_module_version": "1.2.0",
      "model_name": "LayoutModel",
      "state": {}
     },
     "bfaf598dc6a049e5a1d014b991cc87e8": {
      "model_module": "@jupyter-widgets/controls",
      "model_module_version": "1.5.0",
      "model_name": "HTMLModel",
      "state": {
       "layout": "IPY_MODEL_0258cd1879ed4e4a9808d78edc79be08",
       "style": "IPY_MODEL_27292af30f374124b2d9bd237b750936",
       "value": "100%|██████████| 2/2 [00:23&lt;00:00, 11.83s/it]"
      }
     },
     "bfb19e18efd74486988e16f068e1d2d2": {
      "model_module": "@jupyter-widgets/controls",
      "model_module_version": "1.5.0",
      "model_name": "HBoxModel",
      "state": {
       "children": [
        "IPY_MODEL_3e6c4d1778a24093a4acf36792905090",
        "IPY_MODEL_51d414768801450d89e40640423963f1"
       ],
       "layout": "IPY_MODEL_f0ca3b47c5eb4cb3b19545b1ee28b4d7"
      }
     },
     "c01e51ffb73745ab83b4b37a0c652d13": {
      "model_module": "@jupyter-widgets/controls",
      "model_module_version": "1.5.0",
      "model_name": "ProgressStyleModel",
      "state": {
       "description_width": "initial"
      }
     },
     "c0256640f9514ef9b25e7ed264d852b2": {
      "model_module": "@jupyter-widgets/base",
      "model_module_version": "1.2.0",
      "model_name": "LayoutModel",
      "state": {}
     },
     "c17f19ee9c4842df8cea28b46a1f822c": {
      "model_module": "@jupyter-widgets/controls",
      "model_module_version": "1.5.0",
      "model_name": "DescriptionStyleModel",
      "state": {
       "description_width": ""
      }
     },
     "c21a44c1d4114cb283c9ffec9d3e7889": {
      "model_module": "@jupyter-widgets/controls",
      "model_module_version": "1.5.0",
      "model_name": "HBoxModel",
      "state": {
       "children": [
        "IPY_MODEL_00f46fa2e0994c32897a00770d47970a",
        "IPY_MODEL_82bf31c09d474d07b767a37875dfe558"
       ],
       "layout": "IPY_MODEL_d917560d55784e33bb57e1734aa5d5f6"
      }
     },
     "c24a1ba2f8b1468d8a5f57756e5c6523": {
      "model_module": "@jupyter-widgets/base",
      "model_module_version": "1.2.0",
      "model_name": "LayoutModel",
      "state": {}
     },
     "c32d2f9176a746e48e5755608012c3b2": {
      "model_module": "@jupyter-widgets/controls",
      "model_module_version": "1.5.0",
      "model_name": "ProgressStyleModel",
      "state": {
       "description_width": "initial"
      }
     },
     "c344d98cbe2b4d77b1e90406f59c38d2": {
      "model_module": "@jupyter-widgets/base",
      "model_module_version": "1.2.0",
      "model_name": "LayoutModel",
      "state": {}
     },
     "c3d8e386a99b4609ab65bd039b058aa3": {
      "model_module": "@jupyter-widgets/base",
      "model_module_version": "1.2.0",
      "model_name": "LayoutModel",
      "state": {}
     },
     "c49da106dcff4ed78393182bbfadfea9": {
      "model_module": "@jupyter-widgets/controls",
      "model_module_version": "1.5.0",
      "model_name": "ProgressStyleModel",
      "state": {
       "description_width": "initial"
      }
     },
     "c4a93541801a4c30806a0361f75d50fa": {
      "model_module": "@jupyter-widgets/controls",
      "model_module_version": "1.5.0",
      "model_name": "HTMLModel",
      "state": {
       "layout": "IPY_MODEL_f2f4987d45604bacb95170e72a2eb680",
       "style": "IPY_MODEL_bcef0d22487a4545884be7387cfe6361",
       "value": "100%|██████████| 2/2 [00:00&lt;00:00, 17.89it/s]"
      }
     },
     "c69f045871d34a10834800fd4a5d000a": {
      "model_module": "@jupyter-widgets/controls",
      "model_module_version": "1.5.0",
      "model_name": "DescriptionStyleModel",
      "state": {
       "description_width": ""
      }
     },
     "c6f1ac4b9ffb4c5fa91dde588a2ca0c3": {
      "model_module": "@jupyter-widgets/controls",
      "model_module_version": "1.5.0",
      "model_name": "DescriptionStyleModel",
      "state": {
       "description_width": ""
      }
     },
     "c751957c777441cda71fcb7069dbabe0": {
      "model_module": "@jupyter-widgets/controls",
      "model_module_version": "1.5.0",
      "model_name": "ProgressStyleModel",
      "state": {
       "description_width": "initial"
      }
     },
     "c7f7e4fb073645448789c0c0f98fe219": {
      "model_module": "@jupyter-widgets/base",
      "model_module_version": "1.2.0",
      "model_name": "LayoutModel",
      "state": {}
     },
     "c8e94d5110794ee0ac1c45f81433323d": {
      "model_module": "@jupyter-widgets/base",
      "model_module_version": "1.2.0",
      "model_name": "LayoutModel",
      "state": {}
     },
     "c8f28d6a88ec40b69982f56f358f8ffd": {
      "model_module": "@jupyter-widgets/base",
      "model_module_version": "1.2.0",
      "model_name": "LayoutModel",
      "state": {}
     },
     "c9e2248ef58f44a293d5919344d8e988": {
      "model_module": "@jupyter-widgets/controls",
      "model_module_version": "1.5.0",
      "model_name": "HBoxModel",
      "state": {
       "children": [
        "IPY_MODEL_3bec575e544642449f320d14c716fc97",
        "IPY_MODEL_cae96d15b6a1417bbfeba91c92f318bd"
       ],
       "layout": "IPY_MODEL_ff4d4b602cfa45c2b9e5d35940e89ba0"
      }
     },
     "c9f42d37db754b648ac5c4a49b835b18": {
      "model_module": "@jupyter-widgets/controls",
      "model_module_version": "1.5.0",
      "model_name": "ProgressStyleModel",
      "state": {
       "description_width": "initial"
      }
     },
     "cac3aeb38b204fa4b8e2ef9eec81cea3": {
      "model_module": "@jupyter-widgets/base",
      "model_module_version": "1.2.0",
      "model_name": "LayoutModel",
      "state": {}
     },
     "cac8e537878e4318b434eb8985272cf8": {
      "model_module": "@jupyter-widgets/controls",
      "model_module_version": "1.5.0",
      "model_name": "HTMLModel",
      "state": {
       "layout": "IPY_MODEL_ab5aa4edf8084003b2aec326681dfdc2",
       "style": "IPY_MODEL_2750215c641c4ccd91c7f62ae195d709",
       "value": "100%|██████████| 4/4 [00:00&lt;00:00, 131.84it/s]"
      }
     },
     "cae96d15b6a1417bbfeba91c92f318bd": {
      "model_module": "@jupyter-widgets/controls",
      "model_module_version": "1.5.0",
      "model_name": "HTMLModel",
      "state": {
       "layout": "IPY_MODEL_3a79ef0ce1fa47b49fba081bfe062509",
       "style": "IPY_MODEL_34a2baf852f84e4ab36e0e1aac94bf9f",
       "value": "100%|██████████| 2/2 [00:00&lt;00:00,  8.76it/s]"
      }
     },
     "cb0776ae25c14a0d9e1daf7045bc96ac": {
      "model_module": "@jupyter-widgets/controls",
      "model_module_version": "1.5.0",
      "model_name": "HBoxModel",
      "state": {
       "children": [
        "IPY_MODEL_799d595b5b574e2c98b787078e1b0fcc",
        "IPY_MODEL_e9b4b6a0ccc946caad1ff6101e7c08e3"
       ],
       "layout": "IPY_MODEL_e436f93a1df44692bdc926d2c40d1254"
      }
     },
     "cb5e32f6e19f4453b9c0f79f3fa7a5a6": {
      "model_module": "@jupyter-widgets/base",
      "model_module_version": "1.2.0",
      "model_name": "LayoutModel",
      "state": {}
     },
     "cb94cb83ea28488ea5c2f694f2b5502d": {
      "model_module": "@jupyter-widgets/controls",
      "model_module_version": "1.5.0",
      "model_name": "DescriptionStyleModel",
      "state": {
       "description_width": ""
      }
     },
     "cbb32958b98648bc96206da9cf249bcb": {
      "model_module": "@jupyter-widgets/controls",
      "model_module_version": "1.5.0",
      "model_name": "ProgressStyleModel",
      "state": {
       "description_width": "initial"
      }
     },
     "cbc67e1c981643b9b319d1056a9f2ff0": {
      "model_module": "@jupyter-widgets/controls",
      "model_module_version": "1.5.0",
      "model_name": "HTMLModel",
      "state": {
       "layout": "IPY_MODEL_63627e82376240259537ed30d7256b47",
       "style": "IPY_MODEL_dd267118837a484bb97847178861cfad",
       "value": "100%|██████████| 1/1 [00:23&lt;00:00, 23.08s/it]"
      }
     },
     "cbd1ac42e0654697a7c940d54a7a8bff": {
      "model_module": "@jupyter-widgets/controls",
      "model_module_version": "1.5.0",
      "model_name": "FloatProgressModel",
      "state": {
       "bar_style": "success",
       "layout": "IPY_MODEL_2c1cd3e5053640c2b73a1833d2d2bd3e",
       "max": 4,
       "style": "IPY_MODEL_0f9476adb526421d8368f75387653b1e",
       "value": 4
      }
     },
     "cc42e22617ab4957bdfe7c63a8bf4b2d": {
      "model_module": "@jupyter-widgets/controls",
      "model_module_version": "1.5.0",
      "model_name": "HTMLModel",
      "state": {
       "layout": "IPY_MODEL_5ecc5ecc829d4565905d0cb02a61d49f",
       "style": "IPY_MODEL_7b5b80fac5254d5db938f472d4ac4acb",
       "value": "100%|██████████| 3/3 [00:00&lt;00:00, 12.11it/s]"
      }
     },
     "cc46c9455e9548a79a663782cb83d289": {
      "model_module": "@jupyter-widgets/controls",
      "model_module_version": "1.5.0",
      "model_name": "DescriptionStyleModel",
      "state": {
       "description_width": ""
      }
     },
     "cc6c296b1e0f4ba098dc6822b9a896dc": {
      "model_module": "@jupyter-widgets/controls",
      "model_module_version": "1.5.0",
      "model_name": "HTMLModel",
      "state": {
       "layout": "IPY_MODEL_aedf3db0554c44e186b5aabea290a011",
       "style": "IPY_MODEL_37e65c48e5e94c52a2f04f95e4268d14",
       "value": "100%|██████████| 2/2 [00:23&lt;00:00, 11.98s/it]"
      }
     },
     "cce60a94afad4e3aa1ee3ec7559d442d": {
      "model_module": "@jupyter-widgets/controls",
      "model_module_version": "1.5.0",
      "model_name": "HTMLModel",
      "state": {
       "layout": "IPY_MODEL_b10f7765f11745ce91188bb060e406d4",
       "style": "IPY_MODEL_1723918a4b6c4a45ae37db791bd1fbfb",
       "value": "100%|██████████| 3/3 [00:00&lt;00:00, 14.43it/s]"
      }
     },
     "cdc21e1fd6054a0398dd79644187d11f": {
      "model_module": "@jupyter-widgets/controls",
      "model_module_version": "1.5.0",
      "model_name": "HBoxModel",
      "state": {
       "children": [
        "IPY_MODEL_77425ebd4ef247a6af30d89461b38a81",
        "IPY_MODEL_818c30a74e5149c7801469d5fbc8a82e"
       ],
       "layout": "IPY_MODEL_f34a4152838d41119205394cbf0769a4"
      }
     },
     "cdf987414aae4dcda90881bf075b4131": {
      "model_module": "@jupyter-widgets/base",
      "model_module_version": "1.2.0",
      "model_name": "LayoutModel",
      "state": {}
     },
     "ce5bfe26bd914bc6895f84f5f3af65c9": {
      "model_module": "@jupyter-widgets/base",
      "model_module_version": "1.2.0",
      "model_name": "LayoutModel",
      "state": {}
     },
     "cf5a39e30ec844bbae9b67e0968d2c14": {
      "model_module": "@jupyter-widgets/base",
      "model_module_version": "1.2.0",
      "model_name": "LayoutModel",
      "state": {}
     },
     "cf7a37fe23154002a9d0b63af93734f9": {
      "model_module": "@jupyter-widgets/controls",
      "model_module_version": "1.5.0",
      "model_name": "ProgressStyleModel",
      "state": {
       "description_width": "initial"
      }
     },
     "cf84354cff42456cbb19790545c456bc": {
      "model_module": "@jupyter-widgets/base",
      "model_module_version": "1.2.0",
      "model_name": "LayoutModel",
      "state": {}
     },
     "cf97e8a5425348aaa752dcbbb69165bf": {
      "model_module": "@jupyter-widgets/controls",
      "model_module_version": "1.5.0",
      "model_name": "HTMLModel",
      "state": {
       "layout": "IPY_MODEL_2e13d97a086e419e9decfd99ded09168",
       "style": "IPY_MODEL_7d185d1def104b64bb3a3903ef3b08fc",
       "value": "100%|██████████| 1/1 [01:54&lt;00:00, 114.40s/it]"
      }
     },
     "cf9a80c69a3240858628ac02c6461d7b": {
      "model_module": "@jupyter-widgets/controls",
      "model_module_version": "1.5.0",
      "model_name": "DescriptionStyleModel",
      "state": {
       "description_width": ""
      }
     },
     "cfc559960ec34573898a3065ab26c47d": {
      "model_module": "@jupyter-widgets/base",
      "model_module_version": "1.2.0",
      "model_name": "LayoutModel",
      "state": {}
     },
     "d0472ba747ec45f2b9d35d5e0e1466d7": {
      "model_module": "@jupyter-widgets/controls",
      "model_module_version": "1.5.0",
      "model_name": "HBoxModel",
      "state": {
       "children": [
        "IPY_MODEL_2953b2b2ac364c27a62bbccc870d2435",
        "IPY_MODEL_e5e76bd0166e4bc18b6ca99e0ddd03e1"
       ],
       "layout": "IPY_MODEL_d8678b5d923a4ded8063b84e6c584d37"
      }
     },
     "d09b05fca2f3452ebcd48dedd22be013": {
      "model_module": "@jupyter-widgets/controls",
      "model_module_version": "1.5.0",
      "model_name": "ProgressStyleModel",
      "state": {
       "description_width": "initial"
      }
     },
     "d0a53936cb2f40e99266ab75f69ea174": {
      "model_module": "@jupyter-widgets/base",
      "model_module_version": "1.2.0",
      "model_name": "LayoutModel",
      "state": {}
     },
     "d0caba2f8d934fb6bc049049954e08ef": {
      "model_module": "@jupyter-widgets/controls",
      "model_module_version": "1.5.0",
      "model_name": "FloatProgressModel",
      "state": {
       "bar_style": "success",
       "layout": "IPY_MODEL_1a62946fbbb3426a95e0787782cc8f5f",
       "max": 4,
       "style": "IPY_MODEL_8254f9250f62423fad98fd298c5771c3",
       "value": 4
      }
     },
     "d10abb00e13346aa807b1809157ea264": {
      "model_module": "@jupyter-widgets/controls",
      "model_module_version": "1.5.0",
      "model_name": "DescriptionStyleModel",
      "state": {
       "description_width": ""
      }
     },
     "d127f8d911f4471bbc29b4177fd5cb43": {
      "model_module": "@jupyter-widgets/base",
      "model_module_version": "1.2.0",
      "model_name": "LayoutModel",
      "state": {}
     },
     "d1b5320eb7354bfa923fb563200da78b": {
      "model_module": "@jupyter-widgets/base",
      "model_module_version": "1.2.0",
      "model_name": "LayoutModel",
      "state": {}
     },
     "d1f3e06ff1ac4a5684d4bb827ae611e8": {
      "model_module": "@jupyter-widgets/base",
      "model_module_version": "1.2.0",
      "model_name": "LayoutModel",
      "state": {}
     },
     "d24c72d430c64b40b0b44fc10211da45": {
      "model_module": "@jupyter-widgets/controls",
      "model_module_version": "1.5.0",
      "model_name": "HTMLModel",
      "state": {
       "layout": "IPY_MODEL_bf59a87436d94d5ca3e934885ad445f4",
       "style": "IPY_MODEL_ed07052ba0284d79a998deba46ce9264",
       "value": "100%|██████████| 2/2 [00:00&lt;00:00, 16.88it/s]"
      }
     },
     "d24e287a68734abda31b13eee66597e2": {
      "model_module": "@jupyter-widgets/base",
      "model_module_version": "1.2.0",
      "model_name": "LayoutModel",
      "state": {}
     },
     "d2f01c03ff404747adca535d9add7a98": {
      "model_module": "@jupyter-widgets/controls",
      "model_module_version": "1.5.0",
      "model_name": "DescriptionStyleModel",
      "state": {
       "description_width": ""
      }
     },
     "d38a81be7d534af4be8550ca16a5212e": {
      "model_module": "@jupyter-widgets/controls",
      "model_module_version": "1.5.0",
      "model_name": "DescriptionStyleModel",
      "state": {
       "description_width": ""
      }
     },
     "d463c8149f8f454db1691fafb18f022f": {
      "model_module": "@jupyter-widgets/base",
      "model_module_version": "1.2.0",
      "model_name": "LayoutModel",
      "state": {}
     },
     "d4cf57a019ff4251a629c9624a92e3af": {
      "model_module": "@jupyter-widgets/controls",
      "model_module_version": "1.5.0",
      "model_name": "HBoxModel",
      "state": {
       "children": [
        "IPY_MODEL_63a55e86a61b42339b0c436e2d6f8d8a",
        "IPY_MODEL_ffa04ac264da44bc8b5ccce29aad7982"
       ],
       "layout": "IPY_MODEL_96fcffc8cc5948858f1730ea9d9634e9"
      }
     },
     "d4f90987f62a4d0fae6ad02c961906da": {
      "model_module": "@jupyter-widgets/base",
      "model_module_version": "1.2.0",
      "model_name": "LayoutModel",
      "state": {}
     },
     "d501da4f7f4b47c0adaf8786411280ca": {
      "model_module": "@jupyter-widgets/controls",
      "model_module_version": "1.5.0",
      "model_name": "HTMLModel",
      "state": {
       "layout": "IPY_MODEL_be3e524faef843c88a69a7dd76bbe7b1",
       "style": "IPY_MODEL_e400cd78f2984a30a1c1ac92c924e851",
       "value": "100%|██████████| 3/3 [00:00&lt;00:00, 64.72it/s]"
      }
     },
     "d504828148f5405ca4bdab8955161e0a": {
      "model_module": "@jupyter-widgets/controls",
      "model_module_version": "1.5.0",
      "model_name": "ProgressStyleModel",
      "state": {
       "description_width": "initial"
      }
     },
     "d593f9fa3fb74da3bd0175f6c5eed3de": {
      "model_module": "@jupyter-widgets/base",
      "model_module_version": "1.2.0",
      "model_name": "LayoutModel",
      "state": {}
     },
     "d59cb3d0be86494a9fa1ee589a3cfd7f": {
      "model_module": "@jupyter-widgets/controls",
      "model_module_version": "1.5.0",
      "model_name": "ProgressStyleModel",
      "state": {
       "description_width": "initial"
      }
     },
     "d5b9fb830675428da7e664dd04f11aaa": {
      "model_module": "@jupyter-widgets/controls",
      "model_module_version": "1.5.0",
      "model_name": "DescriptionStyleModel",
      "state": {
       "description_width": ""
      }
     },
     "d5c2856bcfc54a09a9c73be3a773f57d": {
      "model_module": "@jupyter-widgets/controls",
      "model_module_version": "1.5.0",
      "model_name": "FloatProgressModel",
      "state": {
       "bar_style": "success",
       "layout": "IPY_MODEL_918f13535ed248c49bba338802a6ef01",
       "max": 2,
       "style": "IPY_MODEL_6e0a40f24823446aa37ba8302091a25d",
       "value": 2
      }
     },
     "d6d83d7c597a41a084d1c443f3b675db": {
      "model_module": "@jupyter-widgets/controls",
      "model_module_version": "1.5.0",
      "model_name": "HBoxModel",
      "state": {
       "children": [
        "IPY_MODEL_66cd9fd7dd164faa9f00005b1d3d2636",
        "IPY_MODEL_7454969f0b5c4f44be7983b50f8894a1"
       ],
       "layout": "IPY_MODEL_055df683e54e4969814b836304326861"
      }
     },
     "d7060cd544cd4e559636a0a4625844d7": {
      "model_module": "@jupyter-widgets/base",
      "model_module_version": "1.2.0",
      "model_name": "LayoutModel",
      "state": {}
     },
     "d769dba7faf74987b90d6acae1cd6976": {
      "model_module": "@jupyter-widgets/controls",
      "model_module_version": "1.5.0",
      "model_name": "HBoxModel",
      "state": {
       "children": [
        "IPY_MODEL_2dc2b22083a74023ba8493484b2642f7",
        "IPY_MODEL_e7075ad3b11f414d8fa7b27cad20d27a"
       ],
       "layout": "IPY_MODEL_731bbcd3c19846bfa0aecca7f668019e"
      }
     },
     "d78b0d2f2e664f1789091def80ee787f": {
      "model_module": "@jupyter-widgets/base",
      "model_module_version": "1.2.0",
      "model_name": "LayoutModel",
      "state": {}
     },
     "d84240bc9af3460fbeff19e1213abea5": {
      "model_module": "@jupyter-widgets/base",
      "model_module_version": "1.2.0",
      "model_name": "LayoutModel",
      "state": {}
     },
     "d8678b5d923a4ded8063b84e6c584d37": {
      "model_module": "@jupyter-widgets/base",
      "model_module_version": "1.2.0",
      "model_name": "LayoutModel",
      "state": {}
     },
     "d87aa01c1a404001b366a23c8f297870": {
      "model_module": "@jupyter-widgets/controls",
      "model_module_version": "1.5.0",
      "model_name": "HTMLModel",
      "state": {
       "layout": "IPY_MODEL_de7e128fe160486fa31ddc1dd8180566",
       "style": "IPY_MODEL_8da6f9ea364e4e11b1ff16f1e6a4e292",
       "value": "100%|██████████| 2/2 [00:00&lt;00:00, 22.07it/s]"
      }
     },
     "d8ad917ae2af49c890dd6142878988c0": {
      "model_module": "@jupyter-widgets/controls",
      "model_module_version": "1.5.0",
      "model_name": "ProgressStyleModel",
      "state": {
       "description_width": "initial"
      }
     },
     "d8d06e0dab694442830ee59705fe52bf": {
      "model_module": "@jupyter-widgets/base",
      "model_module_version": "1.2.0",
      "model_name": "LayoutModel",
      "state": {}
     },
     "d917560d55784e33bb57e1734aa5d5f6": {
      "model_module": "@jupyter-widgets/base",
      "model_module_version": "1.2.0",
      "model_name": "LayoutModel",
      "state": {}
     },
     "d9a8c31e5ee6418ebfdf2c5960c0f434": {
      "model_module": "@jupyter-widgets/controls",
      "model_module_version": "1.5.0",
      "model_name": "DescriptionStyleModel",
      "state": {
       "description_width": ""
      }
     },
     "da33b08c61544faca055723c3ed96133": {
      "model_module": "@jupyter-widgets/controls",
      "model_module_version": "1.5.0",
      "model_name": "HBoxModel",
      "state": {
       "children": [
        "IPY_MODEL_09a9716cad4542a381a8b7a6df6a0fe4",
        "IPY_MODEL_2a295e7f3e8e47668d7305ebd4e3dd23"
       ],
       "layout": "IPY_MODEL_3cecab56732b4115b82f88835c0684f9"
      }
     },
     "da6ae039341e44e799c58330f8415611": {
      "model_module": "@jupyter-widgets/controls",
      "model_module_version": "1.5.0",
      "model_name": "ProgressStyleModel",
      "state": {
       "description_width": "initial"
      }
     },
     "da9b7447629146bf9d31b71981940c11": {
      "model_module": "@jupyter-widgets/controls",
      "model_module_version": "1.5.0",
      "model_name": "DescriptionStyleModel",
      "state": {
       "description_width": ""
      }
     },
     "da9f2f2ff18d48da8b50924207ede76c": {
      "model_module": "@jupyter-widgets/base",
      "model_module_version": "1.2.0",
      "model_name": "LayoutModel",
      "state": {}
     },
     "dab5bdaadf9b4dc692a4e77393b14db3": {
      "model_module": "@jupyter-widgets/controls",
      "model_module_version": "1.5.0",
      "model_name": "FloatProgressModel",
      "state": {
       "bar_style": "success",
       "layout": "IPY_MODEL_04d824e8de5a41368ed9929ff19e37d3",
       "max": 3,
       "style": "IPY_MODEL_365b3642f3f74073a00d8763879b4883",
       "value": 3
      }
     },
     "dae5e83709fe4e2da6aaf98142cfd4c7": {
      "model_module": "@jupyter-widgets/base",
      "model_module_version": "1.2.0",
      "model_name": "LayoutModel",
      "state": {}
     },
     "db27fbaedafe456684c4e3c00b2d1f23": {
      "model_module": "@jupyter-widgets/controls",
      "model_module_version": "1.5.0",
      "model_name": "HBoxModel",
      "state": {
       "children": [
        "IPY_MODEL_eef08a85597e4a2b9be3ac302df13234",
        "IPY_MODEL_994e1d65840a40bdaefb8af97ab47395"
       ],
       "layout": "IPY_MODEL_ebb4e559cf85410aa940cfe8609ebbe8"
      }
     },
     "db28b229a05f46c3bf26647c48e543c3": {
      "model_module": "@jupyter-widgets/controls",
      "model_module_version": "1.5.0",
      "model_name": "FloatProgressModel",
      "state": {
       "bar_style": "success",
       "layout": "IPY_MODEL_42205c4d763d46a09be694001d7611e2",
       "max": 4,
       "style": "IPY_MODEL_a69ffe3931b843d8b8a692946400dc85",
       "value": 4
      }
     },
     "db609c1b0a2145519e80a82ec45a9e70": {
      "model_module": "@jupyter-widgets/controls",
      "model_module_version": "1.5.0",
      "model_name": "FloatProgressModel",
      "state": {
       "bar_style": "success",
       "layout": "IPY_MODEL_ecc1e188367744b19c75d1de3df9644a",
       "max": 2,
       "style": "IPY_MODEL_85472377dd6442ed82621b72bafda3a4",
       "value": 2
      }
     },
     "dcbf943d46884b269cdb85f1d3f2747c": {
      "model_module": "@jupyter-widgets/base",
      "model_module_version": "1.2.0",
      "model_name": "LayoutModel",
      "state": {}
     },
     "dcfdfcc8a98d4e7582c22b5908c9e3f8": {
      "model_module": "@jupyter-widgets/base",
      "model_module_version": "1.2.0",
      "model_name": "LayoutModel",
      "state": {}
     },
     "dd216c3aa06f4056af344814c900b703": {
      "model_module": "@jupyter-widgets/base",
      "model_module_version": "1.2.0",
      "model_name": "LayoutModel",
      "state": {}
     },
     "dd267118837a484bb97847178861cfad": {
      "model_module": "@jupyter-widgets/controls",
      "model_module_version": "1.5.0",
      "model_name": "DescriptionStyleModel",
      "state": {
       "description_width": ""
      }
     },
     "dd804a3c68d8458687cb7708542fb923": {
      "model_module": "@jupyter-widgets/base",
      "model_module_version": "1.2.0",
      "model_name": "LayoutModel",
      "state": {}
     },
     "ddcae2fc487c46b5a89f8d327a547b57": {
      "model_module": "@jupyter-widgets/base",
      "model_module_version": "1.2.0",
      "model_name": "LayoutModel",
      "state": {}
     },
     "dde56021a01a44ff858ea4ffce1c2d0f": {
      "model_module": "@jupyter-widgets/controls",
      "model_module_version": "1.5.0",
      "model_name": "DescriptionStyleModel",
      "state": {
       "description_width": ""
      }
     },
     "de4b9c96e7054aa799ae0c0f7101f3cb": {
      "model_module": "@jupyter-widgets/base",
      "model_module_version": "1.2.0",
      "model_name": "LayoutModel",
      "state": {}
     },
     "de7e128fe160486fa31ddc1dd8180566": {
      "model_module": "@jupyter-widgets/base",
      "model_module_version": "1.2.0",
      "model_name": "LayoutModel",
      "state": {}
     },
     "dea8a01246ca4f7cafbc62646442ebf2": {
      "model_module": "@jupyter-widgets/controls",
      "model_module_version": "1.5.0",
      "model_name": "FloatProgressModel",
      "state": {
       "bar_style": "success",
       "layout": "IPY_MODEL_a7c91d306d4847e2bd04f2f86ec57e18",
       "max": 4,
       "style": "IPY_MODEL_e89909c188f44febbb94e0ae8f6a130b",
       "value": 4
      }
     },
     "def75c66cfe24a9bb04ca7ee961a2dc2": {
      "model_module": "@jupyter-widgets/base",
      "model_module_version": "1.2.0",
      "model_name": "LayoutModel",
      "state": {}
     },
     "df39a47e4048468791d190f79a66d058": {
      "model_module": "@jupyter-widgets/controls",
      "model_module_version": "1.5.0",
      "model_name": "FloatProgressModel",
      "state": {
       "bar_style": "success",
       "layout": "IPY_MODEL_d463c8149f8f454db1691fafb18f022f",
       "max": 1,
       "style": "IPY_MODEL_c9f42d37db754b648ac5c4a49b835b18",
       "value": 1
      }
     },
     "df6be310c75345e289ea57bcbd59c4ea": {
      "model_module": "@jupyter-widgets/base",
      "model_module_version": "1.2.0",
      "model_name": "LayoutModel",
      "state": {}
     },
     "e0a9b082b2fd47a7b07ccae9ee91544b": {
      "model_module": "@jupyter-widgets/controls",
      "model_module_version": "1.5.0",
      "model_name": "FloatProgressModel",
      "state": {
       "bar_style": "success",
       "layout": "IPY_MODEL_c0256640f9514ef9b25e7ed264d852b2",
       "max": 1,
       "style": "IPY_MODEL_6387e11568794a5c99336c0131bac589",
       "value": 1
      }
     },
     "e0f0a7ef2b2644a7a5519d6d7dd0ff54": {
      "model_module": "@jupyter-widgets/controls",
      "model_module_version": "1.5.0",
      "model_name": "HTMLModel",
      "state": {
       "layout": "IPY_MODEL_2dff7c05a2b44432ab4dca5e9516c6a0",
       "style": "IPY_MODEL_e7472108805541c99db5c766294b5794",
       "value": "100%|██████████| 2/2 [01:11&lt;00:00, 35.61s/it]"
      }
     },
     "e11379a522b14782a7129d794563e33d": {
      "model_module": "@jupyter-widgets/base",
      "model_module_version": "1.2.0",
      "model_name": "LayoutModel",
      "state": {}
     },
     "e157f92d578945679987961e05071a22": {
      "model_module": "@jupyter-widgets/controls",
      "model_module_version": "1.5.0",
      "model_name": "HTMLModel",
      "state": {
       "layout": "IPY_MODEL_a006d3afdeb74fe9974f9e00e953ba93",
       "style": "IPY_MODEL_1a593712670a4cfa920788ab43fcf5ec",
       "value": "100%|██████████| 4/4 [03:02&lt;00:00, 45.69s/it]"
      }
     },
     "e160c64b877a4e51aad76e367529a909": {
      "model_module": "@jupyter-widgets/base",
      "model_module_version": "1.2.0",
      "model_name": "LayoutModel",
      "state": {}
     },
     "e1ec0b20c3de41638fc5daacc6c62ed0": {
      "model_module": "@jupyter-widgets/controls",
      "model_module_version": "1.5.0",
      "model_name": "ProgressStyleModel",
      "state": {
       "description_width": "initial"
      }
     },
     "e285f9ffa0d64af1a7c7bf02c7973f06": {
      "model_module": "@jupyter-widgets/base",
      "model_module_version": "1.2.0",
      "model_name": "LayoutModel",
      "state": {}
     },
     "e28c2f8b516f4ef5be47fe44216df9df": {
      "model_module": "@jupyter-widgets/base",
      "model_module_version": "1.2.0",
      "model_name": "LayoutModel",
      "state": {}
     },
     "e295a9e64dc641fe8f4fc9ae8c6b46b3": {
      "model_module": "@jupyter-widgets/controls",
      "model_module_version": "1.5.0",
      "model_name": "FloatProgressModel",
      "state": {
       "bar_style": "success",
       "layout": "IPY_MODEL_dd216c3aa06f4056af344814c900b703",
       "max": 2,
       "style": "IPY_MODEL_e1ec0b20c3de41638fc5daacc6c62ed0",
       "value": 2
      }
     },
     "e32aaddaeb0b4e2381d5615a5f8b78dd": {
      "model_module": "@jupyter-widgets/base",
      "model_module_version": "1.2.0",
      "model_name": "LayoutModel",
      "state": {}
     },
     "e400cd78f2984a30a1c1ac92c924e851": {
      "model_module": "@jupyter-widgets/controls",
      "model_module_version": "1.5.0",
      "model_name": "DescriptionStyleModel",
      "state": {
       "description_width": ""
      }
     },
     "e436f93a1df44692bdc926d2c40d1254": {
      "model_module": "@jupyter-widgets/base",
      "model_module_version": "1.2.0",
      "model_name": "LayoutModel",
      "state": {}
     },
     "e438019adf504490a9418dd3dc95bd1a": {
      "model_module": "@jupyter-widgets/controls",
      "model_module_version": "1.5.0",
      "model_name": "FloatProgressModel",
      "state": {
       "bar_style": "success",
       "layout": "IPY_MODEL_6fbae486da9d42dea12dc4b24e436db7",
       "max": 2,
       "style": "IPY_MODEL_6350b5b874544b82bf0e210f3fcd0233",
       "value": 2
      }
     },
     "e4ae1a5fa64642069011f69d8ee8046e": {
      "model_module": "@jupyter-widgets/controls",
      "model_module_version": "1.5.0",
      "model_name": "HBoxModel",
      "state": {
       "children": [
        "IPY_MODEL_d5c2856bcfc54a09a9c73be3a773f57d",
        "IPY_MODEL_a6a5e2ff77b34264ab5e7c2f829eb926"
       ],
       "layout": "IPY_MODEL_1f64bb6f1c8d41008441ab37c7a80540"
      }
     },
     "e5130e00fb6448e3b72115e8703444fe": {
      "model_module": "@jupyter-widgets/controls",
      "model_module_version": "1.5.0",
      "model_name": "HBoxModel",
      "state": {
       "children": [
        "IPY_MODEL_fd66a1c382e44a3b8929b69fa16486b0",
        "IPY_MODEL_f582d0fe3d95423091462eb130565ede"
       ],
       "layout": "IPY_MODEL_cdf987414aae4dcda90881bf075b4131"
      }
     },
     "e52d94618ecd4fd7a05cf27eb8874a5c": {
      "model_module": "@jupyter-widgets/controls",
      "model_module_version": "1.5.0",
      "model_name": "DescriptionStyleModel",
      "state": {
       "description_width": ""
      }
     },
     "e5e76bd0166e4bc18b6ca99e0ddd03e1": {
      "model_module": "@jupyter-widgets/controls",
      "model_module_version": "1.5.0",
      "model_name": "HTMLModel",
      "state": {
       "layout": "IPY_MODEL_be3dcb09aa364bba92d6e28f5e3b13cb",
       "style": "IPY_MODEL_c69f045871d34a10834800fd4a5d000a",
       "value": "100%|██████████| 2/2 [00:00&lt;00:00, 13.50it/s]"
      }
     },
     "e6457188e1c7487d97a0f2e2b8762f64": {
      "model_module": "@jupyter-widgets/controls",
      "model_module_version": "1.5.0",
      "model_name": "DescriptionStyleModel",
      "state": {
       "description_width": ""
      }
     },
     "e658d057f2ea4f5aa53886fa966d61a9": {
      "model_module": "@jupyter-widgets/controls",
      "model_module_version": "1.5.0",
      "model_name": "DescriptionStyleModel",
      "state": {
       "description_width": ""
      }
     },
     "e6813db0b8f349af80323be30c7285a4": {
      "model_module": "@jupyter-widgets/base",
      "model_module_version": "1.2.0",
      "model_name": "LayoutModel",
      "state": {}
     },
     "e689575e0fba417b90371d01012e78fe": {
      "model_module": "@jupyter-widgets/base",
      "model_module_version": "1.2.0",
      "model_name": "LayoutModel",
      "state": {}
     },
     "e6d048b2631f498bbe172e96ded698aa": {
      "model_module": "@jupyter-widgets/controls",
      "model_module_version": "1.5.0",
      "model_name": "HBoxModel",
      "state": {
       "children": [
        "IPY_MODEL_db28b229a05f46c3bf26647c48e543c3",
        "IPY_MODEL_a9fec46609a24d16b792b6b2cfd5f287"
       ],
       "layout": "IPY_MODEL_85fd4f2600144aeca18be1de19070a6c"
      }
     },
     "e6d29095fc10469ba344d3ef9ad50486": {
      "model_module": "@jupyter-widgets/base",
      "model_module_version": "1.2.0",
      "model_name": "LayoutModel",
      "state": {}
     },
     "e7075ad3b11f414d8fa7b27cad20d27a": {
      "model_module": "@jupyter-widgets/controls",
      "model_module_version": "1.5.0",
      "model_name": "HTMLModel",
      "state": {
       "layout": "IPY_MODEL_fb25d25cd50147c49c482d350ae8ac23",
       "style": "IPY_MODEL_53c085a1afc64dcdb3b318cac2d7479c",
       "value": "100%|██████████| 4/4 [00:00&lt;00:00, 12.63it/s]"
      }
     },
     "e7129604ac4c4a008d1bf188bae51869": {
      "model_module": "@jupyter-widgets/controls",
      "model_module_version": "1.5.0",
      "model_name": "HTMLModel",
      "state": {
       "layout": "IPY_MODEL_aca85fd3bea747a7848dd1df554de928",
       "style": "IPY_MODEL_62e4db1ba7fb4a26a305e8cc3725400a",
       "value": "100%|██████████| 2/2 [00:00&lt;00:00, 10.55it/s]"
      }
     },
     "e727fb21868d4c5aa35f35066b4abfea": {
      "model_module": "@jupyter-widgets/controls",
      "model_module_version": "1.5.0",
      "model_name": "FloatProgressModel",
      "state": {
       "bar_style": "success",
       "layout": "IPY_MODEL_e689575e0fba417b90371d01012e78fe",
       "max": 3,
       "style": "IPY_MODEL_c49da106dcff4ed78393182bbfadfea9",
       "value": 3
      }
     },
     "e7472108805541c99db5c766294b5794": {
      "model_module": "@jupyter-widgets/controls",
      "model_module_version": "1.5.0",
      "model_name": "DescriptionStyleModel",
      "state": {
       "description_width": ""
      }
     },
     "e756b62c41c54818951386c30ef3ff07": {
      "model_module": "@jupyter-widgets/base",
      "model_module_version": "1.2.0",
      "model_name": "LayoutModel",
      "state": {}
     },
     "e779635493e04f938383856fd85dffcc": {
      "model_module": "@jupyter-widgets/controls",
      "model_module_version": "1.5.0",
      "model_name": "HTMLModel",
      "state": {
       "layout": "IPY_MODEL_c8f28d6a88ec40b69982f56f358f8ffd",
       "style": "IPY_MODEL_b75fff50727c48e3a8a1641e822f5966",
       "value": "100%|██████████| 3/3 [00:00&lt;00:00, 47.05it/s]"
      }
     },
     "e781f56a3fe646028abd901cd67ce961": {
      "model_module": "@jupyter-widgets/controls",
      "model_module_version": "1.5.0",
      "model_name": "DescriptionStyleModel",
      "state": {
       "description_width": ""
      }
     },
     "e7d3e507f085458f9674fee88d31e79b": {
      "model_module": "@jupyter-widgets/controls",
      "model_module_version": "1.5.0",
      "model_name": "FloatProgressModel",
      "state": {
       "bar_style": "success",
       "layout": "IPY_MODEL_96c7baa14e9b4cc48077b221ebd288a1",
       "max": 2,
       "style": "IPY_MODEL_f08b8cce1ea840a2a7205b520a872dc8",
       "value": 2
      }
     },
     "e7deea3b7ffb4556a5b78bd622236fd7": {
      "model_module": "@jupyter-widgets/controls",
      "model_module_version": "1.5.0",
      "model_name": "FloatProgressModel",
      "state": {
       "bar_style": "success",
       "layout": "IPY_MODEL_ffa7c2a7934745c3a6b5235cb93095cd",
       "max": 4,
       "style": "IPY_MODEL_6cb8354fd6ea484d83520012cf3160d7",
       "value": 4
      }
     },
     "e7e15c28d00e4edea681f2b86c3c4a3c": {
      "model_module": "@jupyter-widgets/controls",
      "model_module_version": "1.5.0",
      "model_name": "FloatProgressModel",
      "state": {
       "bar_style": "success",
       "layout": "IPY_MODEL_6f033e64b3924562b112f279af28c55a",
       "max": 3,
       "style": "IPY_MODEL_1e5538fe13d4480d9b0c4ef51c9d247d",
       "value": 3
      }
     },
     "e89909c188f44febbb94e0ae8f6a130b": {
      "model_module": "@jupyter-widgets/controls",
      "model_module_version": "1.5.0",
      "model_name": "ProgressStyleModel",
      "state": {
       "description_width": "initial"
      }
     },
     "e90b5caa9d7546c1bf577c61a13256ed": {
      "model_module": "@jupyter-widgets/controls",
      "model_module_version": "1.5.0",
      "model_name": "HTMLModel",
      "state": {
       "layout": "IPY_MODEL_e28c2f8b516f4ef5be47fe44216df9df",
       "style": "IPY_MODEL_4f2fb2cf8a774a1a875b96751fdb7e01",
       "value": " 40%|████      | 4/10 [50:15&lt;1:15:23, 753.98s/it]"
      }
     },
     "e9b4b6a0ccc946caad1ff6101e7c08e3": {
      "model_module": "@jupyter-widgets/controls",
      "model_module_version": "1.5.0",
      "model_name": "HTMLModel",
      "state": {
       "layout": "IPY_MODEL_73d074138c9147ebbe44de74c0dfb43a",
       "style": "IPY_MODEL_84b181dc44864427a05270c8c418433d",
       "value": "100%|██████████| 3/3 [00:00&lt;00:00, 27.68it/s]"
      }
     },
     "e9d1b7eb860f4d0cac864f0faa8f8e6c": {
      "model_module": "@jupyter-widgets/controls",
      "model_module_version": "1.5.0",
      "model_name": "DescriptionStyleModel",
      "state": {
       "description_width": ""
      }
     },
     "ea3fac963f92437590b7724ff004f6d1": {
      "model_module": "@jupyter-widgets/controls",
      "model_module_version": "1.5.0",
      "model_name": "HBoxModel",
      "state": {
       "children": [
        "IPY_MODEL_5d0176866a7140699fc7a9fc10823614",
        "IPY_MODEL_cf97e8a5425348aaa752dcbbb69165bf"
       ],
       "layout": "IPY_MODEL_57394936263e4ef7a81165394b000063"
      }
     },
     "ea8d2f5dc6b94e5daed4631a26ad6ddd": {
      "model_module": "@jupyter-widgets/base",
      "model_module_version": "1.2.0",
      "model_name": "LayoutModel",
      "state": {}
     },
     "eb936ab72cb34d479bb35c70ceff8817": {
      "model_module": "@jupyter-widgets/base",
      "model_module_version": "1.2.0",
      "model_name": "LayoutModel",
      "state": {}
     },
     "ebb4e559cf85410aa940cfe8609ebbe8": {
      "model_module": "@jupyter-widgets/base",
      "model_module_version": "1.2.0",
      "model_name": "LayoutModel",
      "state": {}
     },
     "ec1ae53c537747378cfd74999924d042": {
      "model_module": "@jupyter-widgets/base",
      "model_module_version": "1.2.0",
      "model_name": "LayoutModel",
      "state": {}
     },
     "ecaecfdb5887413d9ddc55ddd34d030d": {
      "model_module": "@jupyter-widgets/base",
      "model_module_version": "1.2.0",
      "model_name": "LayoutModel",
      "state": {}
     },
     "ecc1e188367744b19c75d1de3df9644a": {
      "model_module": "@jupyter-widgets/base",
      "model_module_version": "1.2.0",
      "model_name": "LayoutModel",
      "state": {}
     },
     "ed07052ba0284d79a998deba46ce9264": {
      "model_module": "@jupyter-widgets/controls",
      "model_module_version": "1.5.0",
      "model_name": "DescriptionStyleModel",
      "state": {
       "description_width": ""
      }
     },
     "ed343e8deb8d48fe800d1548c3e1602f": {
      "model_module": "@jupyter-widgets/controls",
      "model_module_version": "1.5.0",
      "model_name": "HTMLModel",
      "state": {
       "layout": "IPY_MODEL_8add33aa07f14fdf910e525a55c150a4",
       "style": "IPY_MODEL_56f15f137382433aacaf598eeb00220d",
       "value": " 20%|██        | 2/10 [59:15&lt;3:57:00, 1777.62s/it]"
      }
     },
     "ed65d8d862b24acd88599a470742aeaf": {
      "model_module": "@jupyter-widgets/controls",
      "model_module_version": "1.5.0",
      "model_name": "ProgressStyleModel",
      "state": {
       "description_width": "initial"
      }
     },
     "ed67afc10f2142d994965d412af3f4d8": {
      "model_module": "@jupyter-widgets/controls",
      "model_module_version": "1.5.0",
      "model_name": "FloatProgressModel",
      "state": {
       "bar_style": "success",
       "layout": "IPY_MODEL_a7ea7a8870e041ac8ce9f1bca66ea016",
       "max": 2,
       "style": "IPY_MODEL_4c2d037785f44073a45ebe4b7bceb119",
       "value": 2
      }
     },
     "ee51dd6c84614bd18fa2df6477aac318": {
      "model_module": "@jupyter-widgets/controls",
      "model_module_version": "1.5.0",
      "model_name": "FloatProgressModel",
      "state": {
       "bar_style": "success",
       "layout": "IPY_MODEL_75d97572c21545878b97917e63f7e519",
       "max": 4,
       "style": "IPY_MODEL_d59cb3d0be86494a9fa1ee589a3cfd7f",
       "value": 4
      }
     },
     "ee5a2e9a5edb442392291cc6a0bbbdd3": {
      "model_module": "@jupyter-widgets/controls",
      "model_module_version": "1.5.0",
      "model_name": "HBoxModel",
      "state": {
       "children": [
        "IPY_MODEL_ad48bc8d37614321be7df15864b3f6ed",
        "IPY_MODEL_375dd023cb6e4cd0a14de22c5cf35339"
       ],
       "layout": "IPY_MODEL_2f0bb7633c754be2928d719ad97c1f47"
      }
     },
     "eea3c30acf0a436d8ba63b23ac4445e8": {
      "model_module": "@jupyter-widgets/controls",
      "model_module_version": "1.5.0",
      "model_name": "ProgressStyleModel",
      "state": {
       "description_width": "initial"
      }
     },
     "eeee82de7659445487569f4fb513a2df": {
      "model_module": "@jupyter-widgets/controls",
      "model_module_version": "1.5.0",
      "model_name": "HTMLModel",
      "state": {
       "layout": "IPY_MODEL_fde7309d31c043fe99f40f748c1da86f",
       "style": "IPY_MODEL_5e16afcf261c436bb36bee4c833eb2af",
       "value": "100%|██████████| 1/1 [01:16&lt;00:00, 76.33s/it]"
      }
     },
     "eef08a85597e4a2b9be3ac302df13234": {
      "model_module": "@jupyter-widgets/controls",
      "model_module_version": "1.5.0",
      "model_name": "FloatProgressModel",
      "state": {
       "bar_style": "success",
       "layout": "IPY_MODEL_9a799c86851e45348293dcdcd8739c0a",
       "max": 4,
       "style": "IPY_MODEL_57bd4318eb4144518bc059ecf88217dc",
       "value": 4
      }
     },
     "eef56c52b57d4a83a4e089a4c5ab1bab": {
      "model_module": "@jupyter-widgets/base",
      "model_module_version": "1.2.0",
      "model_name": "LayoutModel",
      "state": {}
     },
     "ef83d71b826f4ffba91eabe9431fab5c": {
      "model_module": "@jupyter-widgets/controls",
      "model_module_version": "1.5.0",
      "model_name": "HBoxModel",
      "state": {
       "children": [
        "IPY_MODEL_4b03061983ab4fa8bb6aa5ac6d45244a",
        "IPY_MODEL_ed343e8deb8d48fe800d1548c3e1602f"
       ],
       "layout": "IPY_MODEL_4c56e29fb6094c74b7aaef925cd4776b"
      }
     },
     "ef883b0d6b2c4f209ec9d03df9d00ee2": {
      "model_module": "@jupyter-widgets/controls",
      "model_module_version": "1.5.0",
      "model_name": "HBoxModel",
      "state": {
       "children": [
        "IPY_MODEL_e295a9e64dc641fe8f4fc9ae8c6b46b3",
        "IPY_MODEL_f0143bc4232e45f6a1b9774481a0bdc3"
       ],
       "layout": "IPY_MODEL_280d12c2f2174c138aeea376bc23cf8b"
      }
     },
     "efb2ea9567a843db83220c1928a0bbdd": {
      "model_module": "@jupyter-widgets/controls",
      "model_module_version": "1.5.0",
      "model_name": "DescriptionStyleModel",
      "state": {
       "description_width": ""
      }
     },
     "efc47e21dd664309970f67ed82576e0a": {
      "model_module": "@jupyter-widgets/controls",
      "model_module_version": "1.5.0",
      "model_name": "HBoxModel",
      "state": {
       "children": [
        "IPY_MODEL_375975220ab746fdb7a995c49b6cbea8",
        "IPY_MODEL_64d0cc1cd3e045a78f154a157c9693c7"
       ],
       "layout": "IPY_MODEL_8dd18d1803bf4ab68c3a6094685b1034"
      }
     },
     "efd762403f0944fa817b2c018fb71630": {
      "model_module": "@jupyter-widgets/base",
      "model_module_version": "1.2.0",
      "model_name": "LayoutModel",
      "state": {}
     },
     "effa9571de80416db2321e0e08e38b17": {
      "model_module": "@jupyter-widgets/controls",
      "model_module_version": "1.5.0",
      "model_name": "HTMLModel",
      "state": {
       "layout": "IPY_MODEL_510406326fd248ae9843bce799c4be3a",
       "style": "IPY_MODEL_8cbcb4d8a6e04c7b9840231ffcab44f7",
       "value": "100%|██████████| 3/3 [00:00&lt;00:00, 63.91it/s]"
      }
     },
     "f0143bc4232e45f6a1b9774481a0bdc3": {
      "model_module": "@jupyter-widgets/controls",
      "model_module_version": "1.5.0",
      "model_name": "HTMLModel",
      "state": {
       "layout": "IPY_MODEL_8abaaa4abeb74d22848f3a3c9ab97229",
       "style": "IPY_MODEL_e6457188e1c7487d97a0f2e2b8762f64",
       "value": "100%|██████████| 2/2 [00:00&lt;00:00, 14.48it/s]"
      }
     },
     "f08b8cce1ea840a2a7205b520a872dc8": {
      "model_module": "@jupyter-widgets/controls",
      "model_module_version": "1.5.0",
      "model_name": "ProgressStyleModel",
      "state": {
       "description_width": "initial"
      }
     },
     "f0a353174a1d436aa907031a337f98e7": {
      "model_module": "@jupyter-widgets/controls",
      "model_module_version": "1.5.0",
      "model_name": "HTMLModel",
      "state": {
       "layout": "IPY_MODEL_a625c547bf524c3fac23e01d21dd7615",
       "style": "IPY_MODEL_971e79c8ccab40d79dea7ccb3a4d87f3",
       "value": "100%|██████████| 1/1 [01:11&lt;00:00, 71.10s/it]"
      }
     },
     "f0ca3b47c5eb4cb3b19545b1ee28b4d7": {
      "model_module": "@jupyter-widgets/base",
      "model_module_version": "1.2.0",
      "model_name": "LayoutModel",
      "state": {}
     },
     "f0fee0adc87640ebba1a96de6ab634a1": {
      "model_module": "@jupyter-widgets/controls",
      "model_module_version": "1.5.0",
      "model_name": "ProgressStyleModel",
      "state": {
       "description_width": "initial"
      }
     },
     "f144874f09294dcf8009e3de95432f1c": {
      "model_module": "@jupyter-widgets/controls",
      "model_module_version": "1.5.0",
      "model_name": "HBoxModel",
      "state": {
       "children": [
        "IPY_MODEL_f28d6197bc2c4ce99cdf6c4eba53d11b",
        "IPY_MODEL_61a9b7a3d6314e6c87059973c06570e8"
       ],
       "layout": "IPY_MODEL_671501741e9a4770ac32ea1697d29774"
      }
     },
     "f191185bb31e44ab93a145967316d9a9": {
      "model_module": "@jupyter-widgets/base",
      "model_module_version": "1.2.0",
      "model_name": "LayoutModel",
      "state": {}
     },
     "f223558e83a84405918670827bcded30": {
      "model_module": "@jupyter-widgets/base",
      "model_module_version": "1.2.0",
      "model_name": "LayoutModel",
      "state": {}
     },
     "f28d6197bc2c4ce99cdf6c4eba53d11b": {
      "model_module": "@jupyter-widgets/controls",
      "model_module_version": "1.5.0",
      "model_name": "FloatProgressModel",
      "state": {
       "bar_style": "danger",
       "layout": "IPY_MODEL_cac3aeb38b204fa4b8e2ef9eec81cea3",
       "max": 10,
       "style": "IPY_MODEL_63fa258bedb846c1b88ada0e28f3e70c",
       "value": 2
      }
     },
     "f2cadb74fc3f40ba888d45f3f7bbb9b2": {
      "model_module": "@jupyter-widgets/base",
      "model_module_version": "1.2.0",
      "model_name": "LayoutModel",
      "state": {}
     },
     "f2f4987d45604bacb95170e72a2eb680": {
      "model_module": "@jupyter-widgets/base",
      "model_module_version": "1.2.0",
      "model_name": "LayoutModel",
      "state": {}
     },
     "f31d024164ea4514804fa91ccdc56746": {
      "model_module": "@jupyter-widgets/controls",
      "model_module_version": "1.5.0",
      "model_name": "HBoxModel",
      "state": {
       "children": [
        "IPY_MODEL_3aeb5414519c4bb0bc98e14b77adde20",
        "IPY_MODEL_6d0e38b1f90e4a019fcd590eee99fc2a"
       ],
       "layout": "IPY_MODEL_61bda3ce769349ad8a7df76fab9ebb3d"
      }
     },
     "f34a4152838d41119205394cbf0769a4": {
      "model_module": "@jupyter-widgets/base",
      "model_module_version": "1.2.0",
      "model_name": "LayoutModel",
      "state": {}
     },
     "f358e0035ac0496188ad9a3e7e92f2f6": {
      "model_module": "@jupyter-widgets/controls",
      "model_module_version": "1.5.0",
      "model_name": "FloatProgressModel",
      "state": {
       "bar_style": "danger",
       "layout": "IPY_MODEL_112d1e2cf6df4c218e0e7c60277bc3d0",
       "max": 10,
       "style": "IPY_MODEL_60b36c0aeb7c46dabc844b033d72cd12",
       "value": 2
      }
     },
     "f4b03f899485479a9bd18d282c17287e": {
      "model_module": "@jupyter-widgets/controls",
      "model_module_version": "1.5.0",
      "model_name": "ProgressStyleModel",
      "state": {
       "description_width": "initial"
      }
     },
     "f4ff59720d794da79287bab4d158f2dc": {
      "model_module": "@jupyter-widgets/base",
      "model_module_version": "1.2.0",
      "model_name": "LayoutModel",
      "state": {}
     },
     "f582d0fe3d95423091462eb130565ede": {
      "model_module": "@jupyter-widgets/controls",
      "model_module_version": "1.5.0",
      "model_name": "HTMLModel",
      "state": {
       "layout": "IPY_MODEL_17bed80656e94cdd8ba1fcecc06e4b99",
       "style": "IPY_MODEL_a5c855a7319b483e8507be517285b73d",
       "value": "100%|██████████| 2/2 [00:00&lt;00:00, 10.74it/s]"
      }
     },
     "f5ef94c9e3a1406a8e5a83fa43f42657": {
      "model_module": "@jupyter-widgets/controls",
      "model_module_version": "1.5.0",
      "model_name": "ProgressStyleModel",
      "state": {
       "description_width": "initial"
      }
     },
     "f652209e77a94fe0a1324ca5ae26df0f": {
      "model_module": "@jupyter-widgets/base",
      "model_module_version": "1.2.0",
      "model_name": "LayoutModel",
      "state": {}
     },
     "f6998fb1f509458e9f9e55d581d13c6b": {
      "model_module": "@jupyter-widgets/controls",
      "model_module_version": "1.5.0",
      "model_name": "HBoxModel",
      "state": {
       "children": [
        "IPY_MODEL_fc1263367f1649a794081bd6625329f8",
        "IPY_MODEL_effa9571de80416db2321e0e08e38b17"
       ],
       "layout": "IPY_MODEL_3e965eb2c6c44a2b8a633c9560d5abca"
      }
     },
     "f8738530fc5241d7b4f2bdf35330624f": {
      "model_module": "@jupyter-widgets/controls",
      "model_module_version": "1.5.0",
      "model_name": "FloatProgressModel",
      "state": {
       "bar_style": "success",
       "layout": "IPY_MODEL_eb936ab72cb34d479bb35c70ceff8817",
       "max": 1,
       "style": "IPY_MODEL_1bb9ad132b244d4ea9aeaa53e02b87f5",
       "value": 1
      }
     },
     "f885515de7a8495fae11ba009ebcf884": {
      "model_module": "@jupyter-widgets/controls",
      "model_module_version": "1.5.0",
      "model_name": "HBoxModel",
      "state": {
       "children": [
        "IPY_MODEL_5565d8ce5f934a9db5fbd15d005fbfd7",
        "IPY_MODEL_8ac939ee9d0a4032a9803e94454bf3e1"
       ],
       "layout": "IPY_MODEL_511eed43ecd342c3bd01a9a316f03381"
      }
     },
     "fa23a1a147874da2a3e44e21ba1a64a2": {
      "model_module": "@jupyter-widgets/controls",
      "model_module_version": "1.5.0",
      "model_name": "HTMLModel",
      "state": {
       "layout": "IPY_MODEL_21d1530ae5cc405c97824063edaba3b2",
       "style": "IPY_MODEL_0c4f55873ccb45a99f151c9949dac8d8",
       "value": "100%|██████████| 4/4 [26:22:15&lt;00:00, 23733.99s/it]"
      }
     },
     "faa7547a99244334acb1b2828bf2a137": {
      "model_module": "@jupyter-widgets/base",
      "model_module_version": "1.2.0",
      "model_name": "LayoutModel",
      "state": {}
     },
     "facf386b92464f81ac3ea549b1d7a004": {
      "model_module": "@jupyter-widgets/controls",
      "model_module_version": "1.5.0",
      "model_name": "ProgressStyleModel",
      "state": {
       "description_width": "initial"
      }
     },
     "fb25d25cd50147c49c482d350ae8ac23": {
      "model_module": "@jupyter-widgets/base",
      "model_module_version": "1.2.0",
      "model_name": "LayoutModel",
      "state": {}
     },
     "fb743c5fca7449078d8710eeb7a8291c": {
      "model_module": "@jupyter-widgets/base",
      "model_module_version": "1.2.0",
      "model_name": "LayoutModel",
      "state": {}
     },
     "fbef61301b234754b2df822922f0ce49": {
      "model_module": "@jupyter-widgets/controls",
      "model_module_version": "1.5.0",
      "model_name": "HTMLModel",
      "state": {
       "layout": "IPY_MODEL_1261c644685d4007ba57d83475c10fe6",
       "style": "IPY_MODEL_978c697fc19f443da55307a37131aa31",
       "value": "100%|██████████| 3/3 [00:29&lt;00:00,  9.98s/it]"
      }
     },
     "fc1263367f1649a794081bd6625329f8": {
      "model_module": "@jupyter-widgets/controls",
      "model_module_version": "1.5.0",
      "model_name": "FloatProgressModel",
      "state": {
       "bar_style": "success",
       "layout": "IPY_MODEL_36213770946d4fa3a04b8f649e9e9831",
       "max": 3,
       "style": "IPY_MODEL_1df4005ebbbb406c89dcddf9f2c2fbcb",
       "value": 3
      }
     },
     "fc2dd038744549f8982c766c64ca3ce9": {
      "model_module": "@jupyter-widgets/controls",
      "model_module_version": "1.5.0",
      "model_name": "FloatProgressModel",
      "state": {
       "bar_style": "success",
       "layout": "IPY_MODEL_a786f1d5f4d34eada4557303ff64ea49",
       "max": 2,
       "style": "IPY_MODEL_d8ad917ae2af49c890dd6142878988c0",
       "value": 2
      }
     },
     "fc36757d7561494293fe3639d126c07b": {
      "model_module": "@jupyter-widgets/controls",
      "model_module_version": "1.5.0",
      "model_name": "DescriptionStyleModel",
      "state": {
       "description_width": ""
      }
     },
     "fcfe5f84bc1d4c5989e867f20614079b": {
      "model_module": "@jupyter-widgets/controls",
      "model_module_version": "1.5.0",
      "model_name": "HBoxModel",
      "state": {
       "children": [
        "IPY_MODEL_911fc3c379584350a17720b335a5680a",
        "IPY_MODEL_4f3919732ec54968838a82e4164de791"
       ],
       "layout": "IPY_MODEL_d127f8d911f4471bbc29b4177fd5cb43"
      }
     },
     "fd43560ef5d54c75a8f2f967565a4881": {
      "model_module": "@jupyter-widgets/base",
      "model_module_version": "1.2.0",
      "model_name": "LayoutModel",
      "state": {}
     },
     "fd66a1c382e44a3b8929b69fa16486b0": {
      "model_module": "@jupyter-widgets/controls",
      "model_module_version": "1.5.0",
      "model_name": "FloatProgressModel",
      "state": {
       "bar_style": "success",
       "layout": "IPY_MODEL_80b2e08af960470f98eef3ceb180a843",
       "max": 2,
       "style": "IPY_MODEL_26a33e804cb14418b8eeb596c1492e96",
       "value": 2
      }
     },
     "fde7309d31c043fe99f40f748c1da86f": {
      "model_module": "@jupyter-widgets/base",
      "model_module_version": "1.2.0",
      "model_name": "LayoutModel",
      "state": {}
     },
     "fe07eb5c76724cb99a54d7b9c95d9f0f": {
      "model_module": "@jupyter-widgets/controls",
      "model_module_version": "1.5.0",
      "model_name": "DescriptionStyleModel",
      "state": {
       "description_width": ""
      }
     },
     "fe2f24efd3214e198f35cf109cb135ae": {
      "model_module": "@jupyter-widgets/base",
      "model_module_version": "1.2.0",
      "model_name": "LayoutModel",
      "state": {}
     },
     "ff4d4b602cfa45c2b9e5d35940e89ba0": {
      "model_module": "@jupyter-widgets/base",
      "model_module_version": "1.2.0",
      "model_name": "LayoutModel",
      "state": {}
     },
     "ff921a0163414691a2ebe85fa640f922": {
      "model_module": "@jupyter-widgets/controls",
      "model_module_version": "1.5.0",
      "model_name": "FloatProgressModel",
      "state": {
       "bar_style": "success",
       "layout": "IPY_MODEL_a16cb2dcf50148f1a9ed6c341d3b9e8b",
       "max": 2,
       "style": "IPY_MODEL_3d14c13aa3bf424cbf85f8dcdd3290d1",
       "value": 2
      }
     },
     "ffa04ac264da44bc8b5ccce29aad7982": {
      "model_module": "@jupyter-widgets/controls",
      "model_module_version": "1.5.0",
      "model_name": "HTMLModel",
      "state": {
       "layout": "IPY_MODEL_22070734de7f4ea0bf5f2e28919ae89f",
       "style": "IPY_MODEL_9f77dd39a68e43d79be26dc42753a5ac",
       "value": "100%|██████████| 2/2 [00:00&lt;00:00,  8.22it/s]"
      }
     },
     "ffa7c2a7934745c3a6b5235cb93095cd": {
      "model_module": "@jupyter-widgets/base",
      "model_module_version": "1.2.0",
      "model_name": "LayoutModel",
      "state": {}
     },
     "ffcc9d746200479fb382267e0fc84d20": {
      "model_module": "@jupyter-widgets/controls",
      "model_module_version": "1.5.0",
      "model_name": "FloatProgressModel",
      "state": {
       "bar_style": "success",
       "layout": "IPY_MODEL_789f3cc9e67445dfa7ac68f38fe0fdc1",
       "max": 4,
       "style": "IPY_MODEL_f4b03f899485479a9bd18d282c17287e",
       "value": 4
      }
     }
    },
    "version_major": 2,
    "version_minor": 0
   }
  }
 },
 "nbformat": 4,
 "nbformat_minor": 4
}
