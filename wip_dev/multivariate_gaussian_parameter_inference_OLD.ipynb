{
 "cells": [
  {
   "cell_type": "code",
   "execution_count": 1,
   "id": "5c5567e3",
   "metadata": {},
   "outputs": [],
   "source": [
    "%load_ext autoreload\n",
    "%autoreload 2"
   ]
  },
  {
   "cell_type": "code",
   "execution_count": 3,
   "id": "274a8c56",
   "metadata": {},
   "outputs": [],
   "source": [
    "import sys\n",
    "sys.path.append(\"../\")\n",
    "\n",
    "from veroku.factors.normal_gamma import NormalGamma\n",
    "from veroku.factors.factor_operations import normal_gamma_prior_batch_data_update\n",
    "from veroku.factors.unknown_gaussian_1d import UnknownGaussian1D\n",
    "from veroku.factors.unknown_gaussian import UnknownGaussian \n",
    "from veroku.factors.gaussian_wishart import GaussianWishart\n",
    "from veroku.factors.generalized_categorical import GeneralizedCategorical\n",
    "import  matplotlib.pyplot as plt\n",
    "import numpy as np"
   ]
  },
  {
   "cell_type": "code",
   "execution_count": 4,
   "id": "38ea0cb9",
   "metadata": {},
   "outputs": [
    {
     "data": {
      "text/plain": [
       "v = 5 \n",
       "inv_V = [[0.2]] \n",
       "lambda_0 = 6\n",
       "mu_0 = [[0.6658773]] \n",
       "log_weight = -3.4206927215840413var_names: ['mu', 'K']\n",
       "\n",
       "v = 5 \n",
       "inv_V = [[0.41457976]] \n",
       "lambda_0 = 6\n",
       "mu_0 = [[0.47676544]] \n",
       "log_weight = -5.243062768753877var_names: ['mu', 'K']\n",
       "\n",
       "v = 5 \n",
       "inv_V = [[0.60371567]] \n",
       "lambda_0 = 6\n",
       "mu_0 = [[0.40648195]] \n",
       "log_weight = -6.182657644449888var_names: ['mu', 'K']\n",
       "\n",
       "v = 5 \n",
       "inv_V = [[0.41457976]] \n",
       "lambda_0 = 6\n",
       "mu_0 = [[0.47676544]] \n",
       "log_weight = -5.243062768753877var_names: ['mu', 'K']\n",
       "\n",
       "v = 5 \n",
       "inv_V = [[0.2]] \n",
       "lambda_0 = 6\n",
       "mu_0 = [[0.28765359]] \n",
       "log_weight = -3.4206927215840413var_names: ['mu', 'K']\n",
       "\n",
       "v = 5 \n",
       "inv_V = [[0.22963861]] \n",
       "lambda_0 = 6\n",
       "mu_0 = [[0.2173701]] \n",
       "log_weight = -3.766166366897311var_names: ['mu', 'K']\n",
       "\n",
       "v = 5 \n",
       "inv_V = [[0.60371567]] \n",
       "lambda_0 = 6\n",
       "mu_0 = [[0.40648195]] \n",
       "log_weight = -6.182657644449888var_names: ['mu', 'K']\n",
       "\n",
       "v = 5 \n",
       "inv_V = [[0.22963861]] \n",
       "lambda_0 = 6\n",
       "mu_0 = [[0.2173701]] \n",
       "log_weight = -3.766166366897311var_names: ['mu', 'K']\n",
       "\n",
       "v = 5 \n",
       "inv_V = [[0.2]] \n",
       "lambda_0 = 6\n",
       "mu_0 = [[0.14708661]] \n",
       "log_weight = -3.4206927215840413var_names: ['mu', 'K']"
      ]
     },
     "execution_count": 4,
     "metadata": {},
     "output_type": "execute_result"
    }
   ],
   "source": [
    "factors_table = {}\n",
    "for i in range(3):\n",
    "    gw = GaussianWishart(v=3, inv_V=0.1, lambda_0=3, mu_0=np.random.uniform(0,1), log_weight=0.0, var_names=[\"mu\", \"K\"])\n",
    "    factors_table[(i,)] = gw\n",
    "gc = GeneralizedCategorical(var_names=[\"a\"], cardinalities=(3,), factors_table=factors_table)\n",
    "a = gc.marginalize(vrs=[\"a\"], keep=False)\n",
    "b = gc.marginalize(vrs=[\"a\"], keep=False)\n",
    "a.multiply(b)"
   ]
  },
  {
   "cell_type": "markdown",
   "id": "f3ca02be",
   "metadata": {},
   "source": [
    "# Test Normal-Gamma and Gaussian Wishart Product Equavalence (1D)"
   ]
  },
  {
   "cell_type": "code",
   "execution_count": 19,
   "id": "e62299bb",
   "metadata": {},
   "outputs": [
    {
     "name": "stderr",
     "output_type": "stream",
     "text": [
      "/tmp/ipykernel_163241/286270875.py:1: DeprecationWarning: Conversion of an array with ndim > 0 to a scalar is deprecated, and will error in future. Ensure you extract a single element from your array before performing this operation. (Deprecated NumPy 1.25.)\n",
      "  float(np.array([[6.32]]))\n"
     ]
    },
    {
     "data": {
      "text/plain": [
       "6.32"
      ]
     },
     "execution_count": 19,
     "metadata": {},
     "output_type": "execute_result"
    }
   ],
   "source": [
    "float(np.array([[6.32]]))"
   ]
  },
  {
   "cell_type": "code",
   "execution_count": 27,
   "id": "e9d85481",
   "metadata": {},
   "outputs": [
    {
     "name": "stdout",
     "output_type": "stream",
     "text": [
      "\n",
      "\n",
      "\n",
      "\n",
      "\n",
      "\n",
      "\n",
      "\n",
      "\n",
      "\n"
     ]
    }
   ],
   "source": [
    "test_data = []\n",
    "for i in range(10):\n",
    "    alpha_a= np.round(np.random.uniform(2,10), 2)\n",
    "    beta_a= np.round(np.random.uniform(0,10), 2)\n",
    "    kappa_a= np.round(np.random.uniform(0,10), 2)\n",
    "    mu_a= np.round(np.random.uniform(0,10), 2)\n",
    "    alpha_b= np.round(np.random.uniform(2,10), 2)\n",
    "    beta_b= np.round(np.random.uniform(0,10), 2)\n",
    "    kappa_b= np.round(np.random.uniform(0,10), 2)\n",
    "    mu_b= np.round(np.random.uniform(0,10), 2)\n",
    "\n",
    "    v_a = 2*alpha_a\n",
    "    inv_V_a = 2*beta_a\n",
    "    lambda_a = kappa_a\n",
    "\n",
    "    v_b = 2*alpha_b\n",
    "    inv_V_b = 2*beta_b\n",
    "    lambda_b = kappa_b\n",
    "\n",
    "    gw_a = GaussianWishart(v=v_a, inv_V=np.array([[inv_V_a]]), lambda_0=lambda_a, mu_0=mu_a, log_weight=0.0, var_names=[\"mu\", \"K\"])\n",
    "    gw_b = GaussianWishart(v=v_b, inv_V=np.array([[inv_V_b]]), lambda_0=lambda_b, mu_0=mu_b, log_weight=0.0, var_names=[\"mu\", \"K\"])\n",
    "    gaussian_wishart_product = gw_a.absorb(gw_b)\n",
    "    print()\n",
    "    for gw, label in zip([gw_a, gw_b, gaussian_wishart_product], [\"factor_a\", \"factor_b\", \"ab_product\"]):\n",
    "        param_dict = gw.get_param_dict()\n",
    "        param_dict[\"factor_label\"] = label\n",
    "        param_dict[\"example_index\"] = i\n",
    "        test_data.append(param_dict)\n",
    "    \n",
    "    gaussian_wishart_params = gaussian_wishart_product.get_normal_gamma_param_dict()\n",
    "\n",
    "    ng_a = NormalGamma(alpha=alpha_a, beta=beta_a, kappa_0=kappa_a, mu_0=mu_a, var_names=[\"mu\", \"K\"])\n",
    "    ng_b = NormalGamma(alpha=alpha_b, beta=beta_b, kappa_0=kappa_b, mu_0=mu_b, var_names=[\"mu\", \"K\"])\n",
    "    normal_gamma_product = ng_a.absorb(ng_b)\n",
    "    normal_gamma_params = normal_gamma_product.get_param_dict()\n",
    "    \n",
    "    assert set(gaussian_wishart_params.keys()) == set(normal_gamma_params.keys())\n",
    "    for key in gaussian_wishart_params.keys():\n",
    "        gw_value = gaussian_wishart_params[key]\n",
    "        ng_value = normal_gamma_params[key]\n",
    "        if not np.isclose(gw_value, ng_value):\n",
    "            print(key)\n",
    "            print(f\"{gw_value} != {ng_value}\")"
   ]
  },
  {
   "cell_type": "code",
   "execution_count": 28,
   "id": "cf45f9a2",
   "metadata": {},
   "outputs": [
    {
     "data": {
      "text/plain": [
       "'/home/ej/personal_projects/veroku/examples'"
      ]
     },
     "execution_count": 28,
     "metadata": {},
     "output_type": "execute_result"
    }
   ],
   "source": [
    "pwd"
   ]
  },
  {
   "cell_type": "code",
   "execution_count": 46,
   "id": "a4a40181",
   "metadata": {},
   "outputs": [
    {
     "data": {
      "text/plain": [
       "{'v': 14.9,\n",
       " 'inv_V': 12.24,\n",
       " 'lambda_0': 7.38,\n",
       " 'mu_0': 3.3,\n",
       " 'var_names': ['mu', 'K'],\n",
       " 'log_weight': 0.0}"
      ]
     },
     "execution_count": 46,
     "metadata": {},
     "output_type": "execute_result"
    }
   ],
   "source": []
  },
  {
   "cell_type": "code",
   "execution_count": 48,
   "id": "e5f8b298",
   "metadata": {},
   "outputs": [
    {
     "data": {
      "text/plain": [
       "{'ab_product': {'v': 29.380000000000003,\n",
       "  'inv_V': 143.0150931288783,\n",
       "  'lambda_0': 16.76,\n",
       "  'mu_0': 6.204665871121718,\n",
       "  'var_names': ['mu', 'K'],\n",
       "  'log_weight': -22.880386896130005},\n",
       " 'factor_a': {'v': 15.48,\n",
       "  'inv_V': 19.52,\n",
       "  'lambda_0': 9.38,\n",
       "  'mu_0': 8.49,\n",
       "  'var_names': ['mu', 'K'],\n",
       "  'log_weight': 0.0},\n",
       " 'factor_b': {'v': 14.9,\n",
       "  'inv_V': 12.24,\n",
       "  'lambda_0': 7.38,\n",
       "  'mu_0': 3.3,\n",
       "  'var_names': ['mu', 'K'],\n",
       "  'log_weight': 0.0}}"
      ]
     },
     "execution_count": 48,
     "metadata": {},
     "output_type": "execute_result"
    }
   ],
   "source": [
    "import pandas as pd\n",
    "df = pd.DataFrame(test_data)\n",
    "df.to_csv(\"/home/ej/personal_projects/veroku/veroku/tests/test_data/gaussian_wishart_1d_mulitplication.csv\", index=False)\n",
    "example_df = df[df[\"example_index\"] == 0]\n",
    "\n",
    "factors_params_dict"
   ]
  },
  {
   "cell_type": "code",
   "execution_count": 6,
   "id": "e9a2515a",
   "metadata": {},
   "outputs": [
    {
     "data": {
      "text/plain": [
       "{'mu_0': 8.266581560443122,\n",
       " 'kappa_0': 4.289684999368739,\n",
       " 'alpha': 11.276766117129666,\n",
       " 'beta': 21.404702773084438,\n",
       " 'log_weight': -9.777399820732416}"
      ]
     },
     "execution_count": 6,
     "metadata": {},
     "output_type": "execute_result"
    }
   ],
   "source": [
    "ng_a = NormalGamma(alpha=alpha_a, beta=beta_a, kappa_0=kappa_a, mu_0=mu_a, var_names=[\"mu\", \"K\"])\n",
    "ng_b = NormalGamma(alpha=alpha_b, beta=beta_b, kappa_0=kappa_b, mu_0=mu_b, var_names=[\"mu\", \"K\"])\n",
    "normal_gamma_product = ng_a.absorb(ng_b)\n",
    "normal_gamma_product.get_param_dict()"
   ]
  },
  {
   "cell_type": "code",
   "execution_count": 7,
   "id": "5460c159",
   "metadata": {},
   "outputs": [],
   "source": [
    "alpha_0 = 0\n",
    "beta_0 = 2\n",
    "kappa_0 = 1\n",
    "mu_0 = 0\n",
    "\n",
    "v_0 = 2*alpha_0\n",
    "inv_V_0 = 2*beta_0\n",
    "lambda_0 = kappa_0\n",
    "\n",
    "gw_prior = GaussianWishart(v=v_a, inv_V=np.array([[inv_V_a]]), lambda_0=lambda_a, mu_0=mu_a, log_weight=0.0, var_names=[\"mu\", \"K\"])\n",
    "\n",
    "#gaussian_wishart_params = gaussian_wishart_product.get_normal_gamma_param_dict()\n",
    "\n",
    "ng_prior = NormalGamma(alpha=alpha_a, beta=beta_a, kappa_0=kappa_a, mu_0=mu_a, var_names=[\"mu\", \"K\"])\n"
   ]
  },
  {
   "cell_type": "code",
   "execution_count": 8,
   "id": "a3add940",
   "metadata": {},
   "outputs": [],
   "source": [
    "def run_parameter_inference(prior, X):\n",
    "    prior_class_name = prior.__class__.__name__\n",
    "    if prior_class_name == 'GaussianWishart':\n",
    "        UnknownGaussianClass = UnknownGaussian\n",
    "    elif prior_class_name == \"NormalGamma\":\n",
    "        UnknownGaussianClass = UnknownGaussian1D\n",
    "    else:\n",
    "        raise TypeError()\n",
    "    posterior = prior.copy()\n",
    "    \n",
    "    for i, x in enumerate(X):\n",
    "        x_var_name = f\"x_{i}\"\n",
    "        ugauss = UnknownGaussianClass(var_names=[\"mu\", \"K\", x_var_name])\n",
    "        update_factor = ugauss.observe(vrs=[x_var_name], values=[x])\n",
    "        \n",
    "        posterior = posterior.multiply(update_factor)\n",
    "    if prior_class_name == 'GaussianWishart':\n",
    "        normal_gamma_param_dict = posterior.get_normal_gamma_param_dict()\n",
    "    elif prior_class_name == \"NormalGamma\":\n",
    "        normal_gamma_param_dict = posterior.get_param_dict()\n",
    "        #print(\"mode = \", posterior.mode)\n",
    "    else:\n",
    "        raise TypeError()\n",
    "    return normal_gamma_param_dict[\"log_weight\"]    \n",
    "    #print(normal_gamma_param_dict)\n",
    "gw_log_weights = []\n",
    "ng_log_weights = []\n",
    "for i in range(100):\n",
    "    X = np.random.normal(4, 2, 100)\n",
    "    gw_log_weights.append(run_parameter_inference(gw_prior, X))\n",
    "    ng_log_weights.append(run_parameter_inference(ng_prior, X))"
   ]
  },
  {
   "cell_type": "code",
   "execution_count": 9,
   "id": "efe9d89e",
   "metadata": {},
   "outputs": [
    {
     "data": {
      "text/plain": [
       "[<matplotlib.lines.Line2D at 0x7ff6c64c09d0>]"
      ]
     },
     "execution_count": 9,
     "metadata": {},
     "output_type": "execute_result"
    },
    {
     "data": {
      "image/png": "[encoded data removed]",
      "text/plain": [
       "<Figure size 640x480 with 1 Axes>"
      ]
     },
     "metadata": {},
     "output_type": "display_data"
    }
   ],
   "source": [
    "plt.plot(gw_log_weights)\n",
    "plt.plot(ng_log_weights)"
   ]
  },
  {
   "cell_type": "code",
   "execution_count": null,
   "id": "839b4904",
   "metadata": {},
   "outputs": [],
   "source": [
    "#plt.plot()\n",
    "np.exp(np.array(gw_log_weights) - np.array(ng_log_weights))"
   ]
  },
  {
   "cell_type": "code",
   "execution_count": null,
   "id": "690ecd12",
   "metadata": {},
   "outputs": [],
   "source": [
    "batch_updated_posterior = normal_gamma_prior_batch_data_update(prior, X)\n",
    "#batch_updated_posterior.plot(mu_limits=[3., 6], lambda_limits=[0.1, 0.4])\n",
    "print(\"mode: \", batch_updated_posterior.mode)\n",
    "batch_updated_posterior"
   ]
  },
  {
   "cell_type": "code",
   "execution_count": null,
   "id": "bc31e5ed",
   "metadata": {},
   "outputs": [],
   "source": [
    "import numpy as np\n",
    "import matplotlib.pyplot as plt\n",
    "from matplotlib.animation import FuncAnimation\n",
    "\n",
    "\n",
    "def update(frame):\n",
    "    im.set_array(image_list[frame])  # Update the image\n",
    "    return im,\n",
    "\n",
    "fig, ax = plt.subplots()\n",
    "im = ax.imshow(image_list[0], cmap='gray')\n",
    "\n",
    "ani = FuncAnimation(fig, update, frames=len(image_list), interval=200)\n",
    "\n"
   ]
  },
  {
   "cell_type": "code",
   "execution_count": null,
   "id": "01611710",
   "metadata": {},
   "outputs": [],
   "source": [
    "from veroku.factors.generalized_categorical import GeneralizedCategorical\n",
    "x_var_name = \"x\"\n",
    "n = 3\n",
    "factors_table = {}\n",
    "priors = []\n",
    "for i in range(n):\n",
    "    ng_var_names=[f\"alpha_{i}\", f\"beta_{i}\", f\"mu_0_{i}\", f\"kappa_0_{i}\"]\n",
    "    prior = NormalGamma(\n",
    "        alpha=3,\n",
    "        beta=6,\n",
    "        mu0=np.random.uniform(-1,1),\n",
    "        kappa0=1,\n",
    "        var_names=ng_var_names)\n",
    "    priors.append(prior)\n",
    "    ugauss = UnknownGaussian1D(ng_var_names +  [x_var_name])\n",
    "    factors_table[(i,)] = ugauss\n",
    "gen_cat = GeneralizedCategorical(var_names = [\"c\"], cardinalities=[n], factors_table=factors_table)\n",
    "all_factors = priors + [gen_cat]\n"
   ]
  },
  {
   "cell_type": "code",
   "execution_count": null,
   "id": "b820eb33",
   "metadata": {},
   "outputs": [],
   "source": []
  },
  {
   "cell_type": "code",
   "execution_count": null,
   "id": "1b4a4e3d",
   "metadata": {},
   "outputs": [],
   "source": [
    "\n",
    "prior.plot()"
   ]
  },
  {
   "cell_type": "code",
   "execution_count": null,
   "id": "a7823342",
   "metadata": {},
   "outputs": [],
   "source": [
    "X_list = []\n",
    "\n",
    "for i in range(n):\n",
    "    X_i = np.random.normal(loc=n, scale=n, size=100)\n",
    "    X_list.append(X_i)\n",
    "X = np.hstack(X_list)"
   ]
  },
  {
   "cell_type": "code",
   "execution_count": null,
   "id": "bb369c93",
   "metadata": {},
   "outputs": [],
   "source": [
    "from veroku.cluster_graph import ClusterGraph\n",
    "cg = ClusterGraph(all_factors)\n",
    "cg.process_graph()"
   ]
  },
  {
   "cell_type": "code",
   "execution_count": null,
   "id": "e10e34bd",
   "metadata": {},
   "outputs": [],
   "source": []
  }
 ],
 "metadata": {
  "kernelspec": {
   "display_name": "Python 3 (ipykernel)",
   "language": "python",
   "name": "python3"
  },
  "language_info": {
   "codemirror_mode": {
    "name": "ipython",
    "version": 3
   },
   "file_extension": ".py",
   "mimetype": "text/x-python",
   "name": "python",
   "nbconvert_exporter": "python",
   "pygments_lexer": "ipython3",
   "version": "3.9.19"
  }
 },
 "nbformat": 4,
 "nbformat_minor": 5
}
